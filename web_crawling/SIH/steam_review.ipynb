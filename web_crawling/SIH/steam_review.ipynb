{
 "cells": [
  {
   "cell_type": "code",
   "execution_count": 1,
   "metadata": {},
   "outputs": [],
   "source": [
    "from bs4 import BeautifulSoup\n",
    "import requests\n",
    "import os\n",
    "import pandas as pd"
   ]
  },
  {
   "cell_type": "code",
   "execution_count": 5,
   "metadata": {},
   "outputs": [],
   "source": [
    "# 현재 위치에서 위로 5번 이동, 그 이유는 파일을 상대경로로 읽기 위함.\n",
    "for i in range(5):\n",
    "    os.chdir(\"../\")"
   ]
  },
  {
   "cell_type": "code",
   "execution_count": 8,
   "metadata": {},
   "outputs": [],
   "source": [
    "# 경로(C:\\Users\\82103\\sih\\web_crawling\\SIH\\appid\\appid_2019.txt'에 있는 텍스트 파일을 읽고,\n",
    "# 파일의 각 줄마다 app ID를 'app_id 리스트에 추가.\n",
    "# strip() 메서드를 사용해서 각 줄의 공백을 제거함.\n",
    "\n",
    "f = open(r'C:\\Users\\82103\\sih\\web_crawling\\SIH\\appid\\appid_2019.txt')\n",
    "app_id=[]\n",
    "while True:\n",
    "    line=f.readline()\n",
    "    if not line : break\n",
    "    app_id.append(line.strip())"
   ]
  },
  {
   "cell_type": "code",
   "execution_count": null,
   "metadata": {},
   "outputs": [],
   "source": [
    "\n",
    "\n"
   ]
  }
 ],
 "metadata": {
  "kernelspec": {
   "display_name": "base",
   "language": "python",
   "name": "python3"
  },
  "language_info": {
   "codemirror_mode": {
    "name": "ipython",
    "version": 3
   },
   "file_extension": ".py",
   "mimetype": "text/x-python",
   "name": "python",
   "nbconvert_exporter": "python",
   "pygments_lexer": "ipython3",
   "version": "3.8.5"
  },
  "orig_nbformat": 4
 },
 "nbformat": 4,
 "nbformat_minor": 2
}
