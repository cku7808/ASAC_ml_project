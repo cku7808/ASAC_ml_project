{
 "cells": [
  {
   "cell_type": "code",
   "execution_count": 1,
   "metadata": {},
   "outputs": [],
   "source": [
    "from bs4 import BeautifulSoup\n",
    "import requests\n",
    "import os\n",
    "import pandas as pd\n",
    "### APP ID를 활용하여 스팀 내에서 크롤링을 진행하기 위해 APP ID가 저장되어 있는 파일을 읽어들임.\n",
    "### 임시로 TXT 파일로 받은 APPID로 구성\n",
    "f = open(r'C:\\Users\\moonp\\ASAC과정\\ASAC_ml_project\\appid_2022.txt')\n",
    "app_id=[]\n",
    "while True:\n",
    "    line=f.readline()\n",
    "    if not line : break\n",
    "    app_id.append(line.strip())\n",
    "reviews=[]\n",
    "### APP ID를 활용하여 Steam 페이지에 접속하여 그 안에서 Review 평점과 APP Tag 값을 가져오는 코드\n",
    "for i in range (len(app_id)):\n",
    "    individual_tag=[]\n",
    "    path=\"https://store.steampowered.com/app/\"+app_id[i]\n",
    "    response = requests.get(path)\n",
    "    soup=BeautifulSoup(response.text,\"html.parser\")\n",
    "    review=\"None\"\n",
    "    if soup.find(\"span\",\"game_review_summary\")!=None:\n",
    "        review=soup.find(\"span\",\"game_review_summary\").text\n",
    "    if soup.find_all(\"a\",\"app_tag\")!=None:\n",
    "        tag=soup.find_all(\"a\",\"app_tag\")\n",
    "        for j in range(len(tag)):\n",
    "            a=tag[j].text.strip()\n",
    "            individual_tag.append(a)\n",
    "    reviews.append([app_id[i],review,individual_tag])\n",
    "df=pd.DataFrame(reviews)"
   ]
  },
  {
   "cell_type": "code",
   "execution_count": null,
   "metadata": {},
   "outputs": [],
   "source": [
    "df.columns=[\"App_id\",\"Review\",\"Tag\"]"
   ]
  },
  {
   "cell_type": "code",
   "execution_count": null,
   "metadata": {},
   "outputs": [],
   "source": [
    "df.to_csv(\"2022_review.csv\",sep=';')"
   ]
  },
  {
   "cell_type": "code",
   "execution_count": null,
   "metadata": {},
   "outputs": [],
   "source": []
  }
 ],
 "metadata": {
  "kernelspec": {
   "display_name": "Python 3",
   "language": "python",
   "name": "python3"
  },
  "language_info": {
   "codemirror_mode": {
    "name": "ipython",
    "version": 3
   },
   "file_extension": ".py",
   "mimetype": "text/x-python",
   "name": "python",
   "nbconvert_exporter": "python",
   "pygments_lexer": "ipython3",
   "version": "3.8.6"
  },
  "orig_nbformat": 4
 },
 "nbformat": 4,
 "nbformat_minor": 2
}
