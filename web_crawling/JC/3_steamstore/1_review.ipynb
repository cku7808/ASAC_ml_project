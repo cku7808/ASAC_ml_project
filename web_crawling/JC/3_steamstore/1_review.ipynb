{
 "cells": [
  {
   "cell_type": "code",
   "execution_count": 6,
   "metadata": {},
   "outputs": [],
   "source": [
    "from bs4 import BeautifulSoup as bs\n",
    "import requests\n",
    "import os\n",
    "import pandas as pd"
   ]
  },
  {
   "cell_type": "code",
   "execution_count": 2,
   "metadata": {},
   "outputs": [],
   "source": [
    "# 현재 위치에서 상위 폴더로 이동 -> 상대경로 \n",
    "for i in range(3):\n",
    "    os.chdir(\"../\")"
   ]
  },
  {
   "cell_type": "code",
   "execution_count": 4,
   "metadata": {},
   "outputs": [
    {
     "name": "stdout",
     "output_type": "stream",
     "text": [
      "전체 데이터 개수 :  250\n"
     ]
    }
   ],
   "source": [
    "# appid.txt -> 리스트 정리\n",
    "f= open(r'web_crawling\\JC\\1_appid\\appid_2022.txt')\n",
    "app_id = []\n",
    "\n",
    "while True:\n",
    "    line = f.readline()\n",
    "    if not line:\n",
    "        break\n",
    "    app_id.append(line.strip())\n",
    "    \n",
    "reviews = []\n",
    "print(\"전체 데이터 개수 : \", len(app_id))"
   ]
  },
  {
   "cell_type": "code",
   "execution_count": null,
   "metadata": {},
   "outputs": [],
   "source": [
    "# steamstore 에 접속해서 Review 평점과 APP Tag 값을 가져오는 코드\n",
    "for i in range(len(app_id)):\n",
    "    idv_tag = []\n",
    "    path = f\"https://store.steampowered.com/app/{app_id[i]}\"\n",
    "    response = requests.get(path)\n",
    "    soup = bs(response.text, \"html.parser\")\n",
    "    review = \"None\"\n",
    "    if soup.find(\"span\", \"game_review_summary\") != None:\n",
    "        review = soup.find(\"span\", \"game_review_summary\").text\n",
    "        "
   ]
  },
  {
   "cell_type": "code",
   "execution_count": 10,
   "metadata": {},
   "outputs": [
    {
     "name": "stdout",
     "output_type": "stream",
     "text": [
      "None\n"
     ]
    }
   ],
   "source": [
    "# sample : https://store.steampowered.com/app/1794680\n",
    "path = 'https://store.steampowered.com/app/1794680/Vampire_Survivors/'\n",
    "response = requests.get(path)\n",
    "soup = bs(response.text, \"html.parser\")\n",
    "review = \"None\"\n",
    "\n",
    "# <span class=\"game_review_summary positive\">Overwhelmingly Positive</span>\n",
    "\n"
   ]
  }
 ],
 "metadata": {
  "kernelspec": {
   "display_name": "Python 3",
   "language": "python",
   "name": "python3"
  },
  "language_info": {
   "codemirror_mode": {
    "name": "ipython",
    "version": 3
   },
   "file_extension": ".py",
   "mimetype": "text/x-python",
   "name": "python",
   "nbconvert_exporter": "python",
   "pygments_lexer": "ipython3",
   "version": "3.11.2"
  },
  "orig_nbformat": 4
 },
 "nbformat": 4,
 "nbformat_minor": 2
}
