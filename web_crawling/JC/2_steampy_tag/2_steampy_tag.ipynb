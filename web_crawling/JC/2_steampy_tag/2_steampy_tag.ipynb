{
 "cells": [
  {
   "cell_type": "code",
   "execution_count": 8,
   "metadata": {},
   "outputs": [],
   "source": [
    "# warning 무시\n",
    "from warnings import filterwarnings\n",
    "filterwarnings('ignore')"
   ]
  },
  {
   "cell_type": "code",
   "execution_count": 7,
   "metadata": {},
   "outputs": [],
   "source": [
    "# glob 파일 리스트 뽑기\n",
    "from glob import glob\n",
    "\n",
    "# tqdm for문 진행률 확인\n",
    "from tqdm import tqdm\n",
    "\n",
    "from collections import deque"
   ]
  },
  {
   "cell_type": "code",
   "execution_count": 5,
   "metadata": {},
   "outputs": [],
   "source": [
    "# requests : HTTP를 사용하기 위해 쓰여지는 라이브러리\n",
    "import requests\n",
    "\n",
    "# multiprocessing : process spawing\n",
    "import multiprocessing\n",
    "import pandas as pd\n",
    "import numpy as np\n",
    "import os"
   ]
  },
  {
   "cell_type": "code",
   "execution_count": null,
   "metadata": {},
   "outputs": [],
   "source": [
    "# flag : 수집되는 거 안되는 거 구분? \n",
    "# recursive = True 용도? "
   ]
  },
  {
   "cell_type": "code",
   "execution_count": 10,
   "metadata": {},
   "outputs": [
    {
     "name": "stdout",
     "output_type": "stream",
     "text": [
      "c:\\Users\\NT550009\\Desktop\\ASAC_ml_project\\web_crawling\\JC\\2_steampy_tag\n"
     ]
    }
   ],
   "source": [
    "cwd = os.getcwd() # 로컬에서 파일을 가져오려고 cwd -> 같은 위치에 있는 상대경로 활용\n",
    "print(cwd)\n",
    "# check_path = glob(f'{cwd}\\\\**\\\\2_steampy_tag\\steamspy.txt', recursive = True)[0]\n",
    "# C:\\Users\\NT550009\\Desktop\\ASAC_ml_project\\web_crawling\\JC\\2_steampy_tag\\steamspy.txt\n",
    "    "
   ]
  },
  {
   "cell_type": "code",
   "execution_count": 12,
   "metadata": {},
   "outputs": [
    {
     "name": "stdout",
     "output_type": "stream",
     "text": [
      "c:\\Users\\NT550009\\Desktop\\ASAC_ml_project\\web_crawling\\JC\\2_steampy_tag\n",
      "c:\\Users\\NT550009\\Desktop\\ASAC_ml_project\\web_crawling\\JC\\2_steampy_tag\\steamspy.txt\n"
     ]
    }
   ],
   "source": [
    "cwd = os.getcwd() # 로컬에서 파일을 가져오려고 cwd -> 같은 위치에 있는 상대경로 활용\n",
    "print(cwd)\n",
    "check_path = glob(f'{cwd}\\\\**\\\\steamspy.txt', recursive = True)[0]\n",
    "print(check_path)\n",
    "# C:\\Users\\NT550009\\Desktop\\ASAC_ml_project\\web_crawling\\JC\\2_steampy_tag\\steamspy.txt"
   ]
  },
  {
   "cell_type": "code",
   "execution_count": 1,
   "metadata": {},
   "outputs": [],
   "source": [
    "def extract(appid):\n",
    "    flag = ''\n",
    "    cwd = os.getcwd() # 로컬에서 파일을 가져오려고 cwd -> 같은 위치에 있는 상대경로 활용\n",
    "    check_path = glob(f'{cwd}\\\\**\\\\steamspy.txt', recursive = True)[0] # \\\\**\\\\ 경로 설정을 편하게. 성현님 코드에서 txt와 ipynb 가 다른 곳에 있음.\n",
    "   \n",
    "    # steamspy.txt에서 모을 내용 리스트 원소로 정리\n",
    "    check_list = [i.replace('\\n','') for i in open(check_path).readlines()]\n",
    "    \n",
    "    # appid 당 check_list 원소 정리\n",
    "    result_dict = {appid : {i : '' for i in check_list}}\n",
    "    # sample : https://steamspy.com/api.php?request=appdetails&appid=1794680\n",
    "    res = requests.get(f'https://steamspy.com/api.php?request=appdetails&appid={appid}')\n",
    "    \n",
    "    # 요청이 성공적으로 수행되지 않았을 때\n",
    "    if res.status_code != 200: # status_code : 응답상태 확인\n",
    "        flag = False\n",
    "        return result_dict, flag\n",
    "    \n",
    "    # \n",
    "    res_json = res.json() # json 형식 dict으로 가져오기\n",
    "    \n",
    "    for check in check_list:\n",
    "        # 예외 처리\n",
    "        # res_json 에서 check 키에 내용 찾아서 추가\n",
    "        try:\n",
    "            result_dict[appid][check] = res_json[check]\n",
    "        except:\n",
    "            continue\n",
    "        \n",
    "    flag = True\n",
    "    \n",
    "    return result_dict, flag\n",
    "        \n",
    "        \n",
    "    "
   ]
  },
  {
   "cell_type": "code",
   "execution_count": null,
   "metadata": {},
   "outputs": [],
   "source": [
    "def run():\n",
    "    cwd = os.getcwd() \n",
    "    "
   ]
  },
  {
   "cell_type": "code",
   "execution_count": null,
   "metadata": {},
   "outputs": [],
   "source": []
  },
  {
   "cell_type": "code",
   "execution_count": null,
   "metadata": {},
   "outputs": [],
   "source": []
  }
 ],
 "metadata": {
  "kernelspec": {
   "display_name": "base",
   "language": "python",
   "name": "python3"
  },
  "language_info": {
   "codemirror_mode": {
    "name": "ipython",
    "version": 3
   },
   "file_extension": ".py",
   "mimetype": "text/x-python",
   "name": "python",
   "nbconvert_exporter": "python",
   "pygments_lexer": "ipython3",
   "version": "3.10.9"
  },
  "orig_nbformat": 4
 },
 "nbformat": 4,
 "nbformat_minor": 2
}
