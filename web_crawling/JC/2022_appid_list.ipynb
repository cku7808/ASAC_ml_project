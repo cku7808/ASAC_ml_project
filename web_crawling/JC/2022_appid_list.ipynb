{
 "cells": [
  {
   "cell_type": "code",
   "execution_count": 30,
   "metadata": {},
   "outputs": [],
   "source": [
    "import requests\n",
    "from bs4 import BeautifulSoup as bs"
   ]
  },
  {
   "cell_type": "code",
   "execution_count": 40,
   "metadata": {},
   "outputs": [],
   "source": []
  },
  {
   "cell_type": "code",
   "execution_count": 43,
   "metadata": {},
   "outputs": [],
   "source": [
    "cookies = { # 로그인 안해서 '__Host-steamdb'없이\n",
    "    'cf_chl_2': '4a2e0619d44c978',\n",
    "    'cf_clearance': '6ZvQNUTl6xjdufH6RpVx6ul8o4T803b3mNRMOoyclhI-1684391238-0-250',\n",
    "    '__cf_bm': 'T6nW2SbURbiS5Tp_iIYD.cWGgUEfs0AudL1FaQiOLkQ-1684393190-0-Ad1Xc/NkOmMJPLlifJKCVD3zdITZR9xmCs1ZpzLMkrDs370K2fN2jE3zk5Smj1BIgR4JXr73YBknOrvQHK0BfeVI7fq9i2o3f/xBqLainozZJ5ALqmPC6kQWDs4iui2syw==',\n",
    "}\n",
    "\n",
    "headers = {\n",
    "    'authority': 'steamdb.info',\n",
    "    'accept': 'text/html,application/xhtml+xml,application/xml;q=0.9,image/avif,image/webp,image/apng,*/*;q=0.8,application/signed-exchange;v=b3;q=0.7',\n",
    "    'accept-language': 'ko-KR,ko;q=0.9,en-US;q=0.8,en;q=0.7',\n",
    "    # 'cookie': 'cf_chl_2=4a2e0619d44c978; cf_clearance=6ZvQNUTl6xjdufH6RpVx6ul8o4T803b3mNRMOoyclhI-1684391238-0-250; __cf_bm=T6nW2SbURbiS5Tp_iIYD.cWGgUEfs0AudL1FaQiOLkQ-1684393190-0-Ad1Xc/NkOmMJPLlifJKCVD3zdITZR9xmCs1ZpzLMkrDs370K2fN2jE3zk5Smj1BIgR4JXr73YBknOrvQHK0BfeVI7fq9i2o3f/xBqLainozZJ5ALqmPC6kQWDs4iui2syw==',\n",
    "    'sec-ch-ua': '\"Google Chrome\";v=\"113\", \"Chromium\";v=\"113\", \"Not-A.Brand\";v=\"24\"',\n",
    "    'sec-ch-ua-mobile': '?0',\n",
    "    'sec-ch-ua-platform': '\"Windows\"',\n",
    "    'sec-fetch-dest': 'document',\n",
    "    'sec-fetch-mode': 'navigate',\n",
    "    'sec-fetch-site': 'none',\n",
    "    'sec-fetch-user': '?1',\n",
    "    'upgrade-insecure-requests': '1',\n",
    "    'user-agent': 'Mozilla/5.0 (Windows NT 10.0; Win64; x64) AppleWebKit/537.36 (KHTML, like Gecko) Chrome/113.0.0.0 Safari/537.36',\n",
    "}"
   ]
  },
  {
   "cell_type": "code",
   "execution_count": 32,
   "metadata": {},
   "outputs": [],
   "source": [
    "year_list = [2022]"
   ]
  },
  {
   "cell_type": "code",
   "execution_count": 46,
   "metadata": {},
   "outputs": [
    {
     "name": "stdout",
     "output_type": "stream",
     "text": [
      "['1794680', '1332010', '1583720', '1290000', '1593500', '1533420', '1999360', '1687950', '1942280', '1684930', '1817070', '1424330', '1868140', '1985690', '1677770', '1059990', '1167630', '1455840', '1260520', '1586800', '1901370', '1948280', '1969080', '1061910', '2070550', '658920', '1665190', '1284190', '1718570', '799640', '1328840', '1927720', '1293180', '1275670', '2237980', '674140', '1829980', '1574270', '1262350', '1350650', '1171320', '2206340', '1776970', '1599600', '2088570', '2135690', '1740100', '1865780', '1115050', '1239690', '1451940', '1827680', '1732180', '1599020', '1935660', '1035990', '1657630', '1359980', '975370', '1336490', '1269640', '1902490', '1955330', '648800', '1148760', '1062520', '2106520', '615120', '2083040', '1313140', '1535560', '1848450', '799600', '1522870', '1997680', '1717770', '1215390', '2113430', '1574580', '2240530', '1986840', '1488200', '2058180', '1562700', '2085360', '949480', '1903370', '2207540', '2124380', '1888430', '1718870', '1939160', '1515210', '2057080', '1817940', '1629530', '1834870', '1706930', '1401590', '1725640', '1703340', '1205520', '1179080', '1063660', '1817000', '1768640', '1733060', '1730680', '1147550', '659540', '2058190', '1745510', '1888010', '1361510', '1155970', '1777430', '1135230', '1822910', '1942120', '1668510', '1817190', '1786790', '1237320', '2088270', '1487270', '1865060', '1701800', '1588530', '1585220', '1245620', '1328350', '1737100', '1850480', '1379870', '1865440', '1896700', '2171440', '1954750', '1684410', '964800', '1871310', '1949960', '1296540', '1694420', '1712830', '1296770', '1854430', '1910580', '595500', '1850570', '2088250', '1296830', '1874170', '1109570', '1287040', '2066550', '1578650', '1853200', '1881340', '1902710', '2119940', '1975120', '1970460', '2113540', '1923790', '2226870', '1878740', '898890', '1998530', '1545990', '1977530', '1966900', '1967510', '1740930', '1182110', '2056560', '1984350', '1980530', '1604380', '2112520', '1743850', '1785820', '1883260', '1962920', '1621310', '1895300', '1679210', '1834920', '553420', '1846170', '1425760', '1723260', '1919460', '2085800', '1755100', '1051690', '1932570', '1988540', '1210320', '1608290', '2059670', '920210', '980610', '552080', '1985260', '2067920', '1532710', '1249480', '1615290', '1761390', '1944250', '1150760', '1511780', '1944240', '1428100', '1791610', '1954200', '2060130', '1594320', '1684660', '1972710', '1070790', '1972440', '950620', '1621690', '1309000', '1975360', '2062930', '1457220', '1808400', '2165610', '1927740', '1572920', '1338580', '1921900', '2091250', '1720850', '1769170', '1600900', '1135810', '1689910', '1986880', '1850550', '1732750', '1592670', '1766740', '1182900', '2173570', '1570010', '1722520']\n"
     ]
    }
   ],
   "source": [
    "for year in year_list:\n",
    "    response = requests.get(f\"https://steamdb.info/stats/gameratings/{year}/\", cookies=cookies, headers=headers)\n",
    "    soup = bs(response.text, 'html.parser')\n",
    "    tr_list = soup.select('tr[class = \"app\"]')\n",
    "    # <tr class=\"app\" data-appid=\"1794680\" data-cache=\"1684335869\">\n",
    "    \n",
    "    appid = [tr['data-appid'] for tr in tr_list]\n",
    "    print(appid)\n",
    "    # tr_list  에서 data_appid 모으기\n",
    "    \n",
    "    with open(f'C:\\\\Users\\\\NT550009\\\\Desktop\\\\ml project files\\\\appid_{year}.txt', 'w') as f:\n",
    "        for app in appid:\n",
    "            f.write(f'{app}\\n')"
   ]
  },
  {
   "cell_type": "code",
   "execution_count": 34,
   "metadata": {},
   "outputs": [
    {
     "data": {
      "text/plain": [
       "'<!doctype html>\\n<html lang=\"en\">\\n<head>\\n<meta charset=\"UTF-8\">\\n<meta name=\"viewport\" content=\"width=device-width, initial-scale=1.0\">\\n<title>SteamDB</title>\\n<meta name=\"theme-color\" content=\"#1B2838\">\\n<style>:root{--navbar-height:48px;--body-bg-color:#161920;--body-color:#ddd;--contrast-color:#fff;--muted-bg-color:#213145;--muted-color:#999;--border-color:#394960;--border-color-2:#1f2733;--link-color:#00aff4;--link-color-hover:#0095ff;--bg-green:#030;--bg-blue:#00174d;--state-text-color:#111;--state-owned:89 185 70;--state-wished:102 148 255;--state-watched:87 132 168;--state-followed:211 222 234;--state-cart:247 203 8;--state-ignored:191 191 191;--tooltip-bg:hsla(0,0%,100%,.8);--tooltip-green:#577c27;color-scheme:dark;scrollbar-color:var(--border-color) var(--body-bg-color);-moz-tab-size:4;tab-size:4}html{box-sizing:border-box;overflow-y:scroll;scroll-padding-top:calc(var(--navbar-height) + 15px)}*,:after,:before{box-sizing:inherit}body{background-color:var(--body-bg-color);color:var(--body-color);font:14px/20px Inter,-apple-system,Segoe UI,Roboto,Helvetica Neue,Arial,sans-serif,Apple Color Emoji,Segoe UI Emoji,Segoe UI Symbol}body,html{height:100%}iframe{background-color:transparent;border:0;color-scheme:light;overflow:hidden}a{color:var(--link-color);text-decoration:none}a:hover{color:var(--link-color-hover);text-decoration:underline}hr{background:var(--border-color);border:0;height:1px;margin:15px 0;overflow:hidden;padding:0}blockquote{margin:0}img{vertical-align:middle}.container{margin-left:auto;margin-right:auto;padding-left:10px;padding-right:10px;width:960px}.row{column-gap:20px;display:flex;flex:0 1 auto;flex-flow:row wrap}.span12{width:940px}.span11{width:860px}.span10{width:780px}.span9{width:700px}.span8{width:620px}.span7{width:540px}.span6{width:460px}.span5{width:380px}.span4{width:300px}.span3{width:220px}.span2{width:140px}.span1{width:60px}@media (max-width:980px){.container{width:auto}.row{flex-direction:column}.row,.span1,.span10,.span11,.span12,.span2,.span3,.span4,.span5,.span6,.span7,.span8,.span9{width:100%}}html{overflow-y:auto}body{--body-bg-color:#1b1d2a;--body-color:#fff;--link-color:#0095ff;font-size:16px;margin:0;padding:20px;text-align:center}body.centered{display:flex;flex-direction:column}.container{margin:auto}.header{padding:20px}h1{color:#66c0f4;font-size:24px;font-weight:500;line-height:1.2;margin:15px;max-width:unset}.muted-banner{background-color:var(--muted-bg-color);border-radius:6px;padding:15px}.muted{color:var(--muted-color)}[data-translate]{color:inherit!important}.cf-error{margin-bottom:20px;text-align:left}.cf-error h1{font-weight:400;margin:0}.cf-error h3{margin-bottom:0}.cf-error ul{color:#999}#cf_alert_div{top:0!important}</style>\\n<link rel=\"icon\" type=\"image/svg+xml\" href=\"data:image/svg+xml,%3Csvg xmlns=\\'http://www.w3.org/2000/svg\\' viewBox=\\'0 0 16 16\\'%3E%3Cstyle%3E path %7B fill: %23000; %7D @media (prefers-color-scheme: dark) %7B path %7B fill: %23FFF; %7D %7D %3C/style%3E%3Cpath d=\\'M7.982 0C3.807 0 .383 1.49.015 3.393l4.446.842c.36-.107.777-.164 1.198-.167l2.09-1.252c-.024-.313.168-.632.589-.905.597-.387 1.534-.598 2.487-.606a5.662 5.662 0 011.876.274c1.396.47 1.717 1.387.71 2.038-.637.413-1.659.624-2.677.604l-2.752.981c-.024.196-.165.39-.428.56-.739.48-2.177.588-3.202.243-.453-.152-.751-.37-.879-.606L.316 4.802c.287.448.749.86 1.348 1.22C.62 6.621 0 7.373 0 8.188c0 .8.598 1.538 1.606 2.131C.597 10.914 0 11.655 0 12.456 0 14.413 3.579 16 7.998 16 12.417 16 16 14.413 16 12.456c0-.8-.598-1.542-1.607-2.136C15.402 9.727 16 8.989 16 8.19c0-.82-.628-1.577-1.68-2.178 1.042-.63 1.664-1.42 1.664-2.279C15.984 1.671 12.401 0 7.982 0zm2.856 1.774c-.644.013-1.273.146-1.681.41-.688.445-.476 1.06.478 1.382.954.32 2.269.22 2.956-.226.688-.445.476-1.058-.478-1.379a3.971 3.971 0 00-1.275-.187zm.036.213c.92 0 1.663.349 1.663.778 0 .428-.744.775-1.663.775-.92 0-1.662-.347-1.662-.775 0-.429.743-.778 1.662-.778zM5.659 4.3c-.198.014-.393.02-.578.052l1.138.214a1.345.628 0 11-1.011 1.162l-1.107-.21c.125.113.305.216.543.296.803.27 1.92.186 2.5-.19.58-.374.398-.893-.406-1.164A3.38 3.38 0 005.66 4.3zm7.967 2.08v1.16c0 1.377-2.52 2.49-5.628 2.49S2.374 8.917 2.374 7.54V6.394c1.443.663 3.422 1.073 5.608 1.073 2.202 0 4.197-.416 5.644-1.088zm0 4.328v1.099c0 1.376-2.52 2.49-5.628 2.49s-5.624-1.114-5.624-2.49v-1.098c1.444.633 3.43 1.024 5.624 1.024 2.194 0 4.182-.391 5.628-1.025z\\'/%3E%3C/svg%3E%0A\">\\n<style>.text{font-size:16px;line-height:1.7;text-align:left}#js-data{background:transparent;border:2px solid #1b95e0;color:inherit;height:300px;outline:none;padding:10px;resize:none;width:100%}</style>\\n</head>\\n<body>\\n<div class=\"header\">\\n<svg version=\"1.1\" width=\"64\" height=\"64\" viewBox=\"0 0 128 128\" aria-hidden=\"true\"><path fill=\"#fff\" fill-rule=\"evenodd\" d=\"M63.9 0C30.5 0 3.1 11.9.1 27.1l35.6 6.7c2.9-.9 6.2-1.3 9.6-1.3l16.7-10c-.2-2.5 1.3-5.1 4.7-7.2 4.8-3.1 12.3-4.8 19.9-4.8 5.2-.1 10.5.7 15 2.2 11.2 3.8 13.7 11.1 5.7 16.3-5.1 3.3-13.3 5-21.4 4.8l-22 7.9c-.2 1.6-1.3 3.1-3.4 4.5-5.9 3.8-17.4 4.7-25.6 1.9-3.6-1.2-6-3-7-4.8L2.5 38.4c2.3 3.6 6 6.9 10.8 9.8C5 53 0 59 0 65.5c0 6.4 4.8 12.3 12.9 17.1C4.8 87.3 0 93.2 0 99.6 0 115.3 28.6 128 64 128c35.3 0 64-12.7 64-28.4 0-6.4-4.8-12.3-12.9-17 8.1-4.8 12.9-10.7 12.9-17.1 0-6.5-5-12.6-13.4-17.4 8.3-5.1 13.3-11.4 13.3-18.2 0-16.5-28.7-29.9-64-29.9zm22.8 14.2c-5.2.1-10.2 1.2-13.4 3.3-5.5 3.6-3.8 8.5 3.8 11.1 7.6 2.6 18.1 1.8 23.6-1.8s3.8-8.5-3.8-11c-3.1-1-6.7-1.5-10.2-1.5zm.3 1.7c7.4 0 13.3 2.8 13.3 6.2 0 3.4-5.9 6.2-13.3 6.2s-13.3-2.8-13.3-6.2c0-3.4 5.9-6.2 13.3-6.2zM45.3 34.4c-1.6.1-3.1.2-4.6.4l9.1 1.7a10.8 5 0 1 1-8.1 9.3l-8.9-1.7c1 .9 2.4 1.7 4.3 2.4 6.4 2.2 15.4 1.5 20-1.5s3.2-7.2-3.2-9.3c-2.6-.9-5.7-1.3-8.6-1.3zM109 51v9.3c0 11-20.2 19.9-45 19.9-24.9 0-45-8.9-45-19.9v-9.2c11.5 5.3 27.4 8.6 44.9 8.6 17.6 0 33.6-3.3 45.2-8.7zm0 34.6v8.8c0 11-20.2 19.9-45 19.9-24.9 0-45-8.9-45-19.9v-8.8c11.6 5.1 27.4 8.2 45 8.2s33.5-3.1 45-8.2z\"></path></svg>\\n<h1>You have been banned on SteamDB</h1>\\n</div>\\n<div class=\"container text\">\\n<p>You are seeing this page because your IP address has been banned, either for scraping or using something like page monitor.</p>\\n<p>SteamDB is a community project that does not make money, please stay respectful.</p>\\n<p>If you were scraping, then you should be getting the information from Steam directly.</p>\\n<p><a href=\"/faq/#can-i-use-auto-refreshing-plugins-or-automatically-scrape-crawl-steamdb\">Please read our FAQ page to learn more.</a></p>\\n<p style=\"margin-top:50px\">If this page does <u>not go away within an hour</u>, contact us at <u>iambanned [at] steamdb.info</u> with your IP address, and details to get unbanned. <b>Please include the following information in your email:</b></p>\\n<textarea id=\"js-data\" readonly onclick=\"this.focus();this.select()\">Loading… If this does not load, visit https://steamdb.info/cdn-cgi/trace and copy the info there.</textarea>\\n<div class=\"cf-error\">RAY: <b id=\"rayid\">7c923d13cec119e0</b></div>\\n</div>\\n<script>fetch(\"/cdn-cgi/trace\").then((t=>t.text())).then((t=>{const e=document.getElementById(\"rayid\");e&&(t=`ray=${e.textContent}\\\\n${t}`),document.getElementById(\"js-data\").textContent=t}));</script>\\n<script>!function(){var e=document.createElement(\"iframe\");function t(){var t=e.contentDocument||e.contentWindow.document;if(t){var n=t.createElement(\"script\");n.nonce=\"\",n.innerHTML=\"window[\\'__CF$cv$params\\']={r:\\'7b622d9d40e5ce38\\',m:\\'e0tf2cklrpNIKEV0mr5qE4XBqSVzUzdYIK3AKHj5t.A-1681205083-0-ARf1g3Tfp9XwMg525IgO+cYmWfMlHUtmAavEr4wdakA7xLTVfqLP8ItqNQa/ek9NKeG5RuqW9J2tE0ZDTV1BQ8leCaJGiQ95qQoLZ02p3mE5l1WQfRqPx1c0J+U1U2uhLHc6pOKG/7gHhl2AgRpZm8w=\\',s:[0xb7d107bd82,0x9a743fef95],u:\\'/cdn-cgi/challenge-platform/h/b\\'};var now=Date.now()/1000,offset=14400,ts=\\'\\'+(Math.floor(now)-Math.floor(now%offset)),_cpo=document.createElement(\\'script\\');_cpo.nonce=\\'\\',_cpo.src=\\'/cdn-cgi/challenge-platform/h/b/scripts/alpha/invisible.js?ts=\\'+ts,document.getElementsByTagName(\\'head\\')[0].appendChild(_cpo);\",t.getElementsByTagName(\"head\")[0].appendChild(n)}}if(e.height=1,e.width=1,e.style.position=\"absolute\",e.style.top=0,e.style.left=0,e.style.border=\"none\",e.style.visibility=\"hidden\",document.body.appendChild(e),\"loading\"!==document.readyState)t();else if(window.addEventListener)document.addEventListener(\"DOMContentLoaded\",t);else{var n=document.onreadystatechange||function(){};document.onreadystatechange=function(e){n(e),\"loading\"!==document.readyState&&(document.onreadystatechange=n,t())}}}();</script></body>\\n</html>\\n'"
      ]
     },
     "execution_count": 34,
     "metadata": {},
     "output_type": "execute_result"
    }
   ],
   "source": [
    "response.text"
   ]
  },
  {
   "cell_type": "code",
   "execution_count": null,
   "metadata": {},
   "outputs": [],
   "source": []
  },
  {
   "cell_type": "code",
   "execution_count": null,
   "metadata": {},
   "outputs": [],
   "source": []
  }
 ],
 "metadata": {
  "kernelspec": {
   "display_name": "base",
   "language": "python",
   "name": "python3"
  },
  "language_info": {
   "codemirror_mode": {
    "name": "ipython",
    "version": 3
   },
   "file_extension": ".py",
   "mimetype": "text/x-python",
   "name": "python",
   "nbconvert_exporter": "python",
   "pygments_lexer": "ipython3",
   "version": "3.10.9"
  },
  "orig_nbformat": 4
 },
 "nbformat": 4,
 "nbformat_minor": 2
}
