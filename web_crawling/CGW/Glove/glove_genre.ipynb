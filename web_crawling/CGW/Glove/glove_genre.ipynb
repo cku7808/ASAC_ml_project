{
 "cells": [
  {
   "cell_type": "code",
   "execution_count": 1,
   "metadata": {},
   "outputs": [],
   "source": [
    "from glove import Corpus, Glove\n",
    "import pandas as pd\n",
    "import re"
   ]
  },
  {
   "cell_type": "code",
   "execution_count": 2,
   "metadata": {},
   "outputs": [],
   "source": [
    "data = [\n",
    "    \"action\",\"arcade & rhythm\",\"fighting & martial arts\", \"first-person shooter\",\"hack & slash\",\"platformer & runner\",\n",
    "    \"third-person shooter\", \"shmup\",\"role-playing\",\"action rpg\",\"adventure rpg\",\"jrpg\",\"party-based\",\"rogue-like\",\"strategy rpg\",\n",
    "    \"turn-based\",\"strategy\",\"card & board\",\"city & settlement\",\"grand & 4x\",\"military\",\"real-time strategy\",\"tower defense\",\"turn-based strategy\",\n",
    "    \"adventure\",\"adventure rpg\",\"casual\",\"hidden object\",\"metroidvania\",\"puzzle\",\"story-rich\",\"visual novel\",\"simulation\",\"building & automation\",\n",
    "    \"dating\",\"farming & crafting\",\"hobby & job\",\"life & immersive\",\"sandbox & physics\",\"space & flight\",\"sports & racing\",\"all sports\",\"fishing & hunting\",\n",
    "    \"individual sports\",\"racing\",\"racing sim\",\"sports sim\",\"team sports\"\n",
    "]\n",
    "data = list(set(data))"
   ]
  },
  {
   "cell_type": "code",
   "execution_count": 3,
   "metadata": {},
   "outputs": [],
   "source": [
    "normalized_text = []\n",
    "for string in data:\n",
    "     tokens = re.sub(r\"[^a-z0-9]+\", \" \", string.lower())\n",
    "     normalized_text.append(tokens)\n",
    "\n",
    "# 각 문장에 대해서 NLTK를 이용하여 단어 토큰화를 수행.\n",
    "result = [[sentence] for sentence in normalized_text]"
   ]
  },
  {
   "cell_type": "code",
   "execution_count": 4,
   "metadata": {},
   "outputs": [],
   "source": [
    "corpus = Corpus() "
   ]
  },
  {
   "cell_type": "code",
   "execution_count": 5,
   "metadata": {},
   "outputs": [],
   "source": [
    "corpus.fit(result, window=5)\n",
    "glove = Glove(no_components=100, learning_rate=0.05)"
   ]
  },
  {
   "cell_type": "code",
   "execution_count": 6,
   "metadata": {},
   "outputs": [
    {
     "name": "stdout",
     "output_type": "stream",
     "text": [
      "Performing 20 training epochs with 4 threads\n",
      "Epoch 0\n",
      "Epoch 1\n",
      "Epoch 2\n",
      "Epoch 3\n",
      "Epoch 4\n",
      "Epoch 5\n",
      "Epoch 6\n",
      "Epoch 7\n",
      "Epoch 8\n",
      "Epoch 9\n",
      "Epoch 10\n",
      "Epoch 11\n",
      "Epoch 12\n",
      "Epoch 13\n",
      "Epoch 14\n",
      "Epoch 15\n",
      "Epoch 16\n",
      "Epoch 17\n",
      "Epoch 18\n",
      "Epoch 19\n"
     ]
    }
   ],
   "source": [
    "glove.fit(corpus.matrix, epochs=20, no_threads=4, verbose=True)\n",
    "glove.add_dictionary(corpus.dictionary)"
   ]
  },
  {
   "cell_type": "code",
   "execution_count": 9,
   "metadata": {},
   "outputs": [
    {
     "data": {
      "text/plain": [
       "[('turn based', 0.15332377214193668),\n",
       " ('simulation', 0.13224457452346466),\n",
       " ('fishing hunting', 0.12030942553832599),\n",
       " ('racing sim', 0.11778942267925746)]"
      ]
     },
     "execution_count": 9,
     "metadata": {},
     "output_type": "execute_result"
    }
   ],
   "source": [
    "glove.most_similar(\"strategy\")"
   ]
  }
 ],
 "metadata": {
  "kernelspec": {
   "display_name": "edap",
   "language": "python",
   "name": "python3"
  },
  "language_info": {
   "codemirror_mode": {
    "name": "ipython",
    "version": 3
   },
   "file_extension": ".py",
   "mimetype": "text/x-python",
   "name": "python",
   "nbconvert_exporter": "python",
   "pygments_lexer": "ipython3",
   "version": "3.6.13"
  },
  "orig_nbformat": 4
 },
 "nbformat": 4,
 "nbformat_minor": 2
}
