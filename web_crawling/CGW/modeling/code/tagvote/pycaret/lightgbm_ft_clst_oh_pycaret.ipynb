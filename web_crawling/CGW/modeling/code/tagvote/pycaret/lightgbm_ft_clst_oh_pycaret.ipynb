{
 "cells": [
  {
   "cell_type": "code",
   "execution_count": 1,
   "metadata": {},
   "outputs": [
    {
     "ename": "KeyboardInterrupt",
     "evalue": "",
     "output_type": "error",
     "traceback": [
      "\u001b[1;31m---------------------------------------------------------------------------\u001b[0m",
      "\u001b[1;31mKeyboardInterrupt\u001b[0m                         Traceback (most recent call last)",
      "Cell \u001b[1;32mIn[1], line 1\u001b[0m\n\u001b[1;32m----> 1\u001b[0m \u001b[39mfrom\u001b[39;00m \u001b[39mpycaret\u001b[39;00m\u001b[39m.\u001b[39;00m\u001b[39mclassification\u001b[39;00m \u001b[39mimport\u001b[39;00m ClassificationExperiment\n\u001b[0;32m      2\u001b[0m \u001b[39mfrom\u001b[39;00m \u001b[39mpycaret\u001b[39;00m\u001b[39m.\u001b[39;00m\u001b[39mclassification\u001b[39;00m \u001b[39mimport\u001b[39;00m setup\n\u001b[0;32m      3\u001b[0m \u001b[39mimport\u001b[39;00m \u001b[39mpandas\u001b[39;00m \u001b[39mas\u001b[39;00m \u001b[39mpd\u001b[39;00m\n",
      "File \u001b[1;32mc:\\Users\\NT550-052\\anaconda3\\envs\\tmp\\lib\\site-packages\\pycaret\\classification\\__init__.py:1\u001b[0m\n\u001b[1;32m----> 1\u001b[0m \u001b[39mfrom\u001b[39;00m \u001b[39mpycaret\u001b[39;00m\u001b[39m.\u001b[39;00m\u001b[39mclassification\u001b[39;00m\u001b[39m.\u001b[39;00m\u001b[39mfunctional\u001b[39;00m \u001b[39mimport\u001b[39;00m (\n\u001b[0;32m      2\u001b[0m     add_metric,\n\u001b[0;32m      3\u001b[0m     automl,\n\u001b[0;32m      4\u001b[0m     blend_models,\n\u001b[0;32m      5\u001b[0m     calibrate_model,\n\u001b[0;32m      6\u001b[0m     check_drift,\n\u001b[0;32m      7\u001b[0m     check_fairness,\n\u001b[0;32m      8\u001b[0m     compare_models,\n\u001b[0;32m      9\u001b[0m     convert_model,\n\u001b[0;32m     10\u001b[0m     create_api,\n\u001b[0;32m     11\u001b[0m     create_app,\n\u001b[0;32m     12\u001b[0m     create_docker,\n\u001b[0;32m     13\u001b[0m     create_model,\n\u001b[0;32m     14\u001b[0m     dashboard,\n\u001b[0;32m     15\u001b[0m     deep_check,\n\u001b[0;32m     16\u001b[0m     deploy_model,\n\u001b[0;32m     17\u001b[0m     eda,\n\u001b[0;32m     18\u001b[0m     ensemble_model,\n\u001b[0;32m     19\u001b[0m     evaluate_model,\n\u001b[0;32m     20\u001b[0m     finalize_model,\n\u001b[0;32m     21\u001b[0m     get_allowed_engines,\n\u001b[0;32m     22\u001b[0m     get_config,\n\u001b[0;32m     23\u001b[0m     get_current_experiment,\n\u001b[0;32m     24\u001b[0m     get_engine,\n\u001b[0;32m     25\u001b[0m     get_leaderboard,\n\u001b[0;32m     26\u001b[0m     get_logs,\n\u001b[0;32m     27\u001b[0m     get_metrics,\n\u001b[0;32m     28\u001b[0m     interpret_model,\n\u001b[0;32m     29\u001b[0m     load_experiment,\n\u001b[0;32m     30\u001b[0m     load_model,\n\u001b[0;32m     31\u001b[0m     models,\n\u001b[0;32m     32\u001b[0m     optimize_threshold,\n\u001b[0;32m     33\u001b[0m     plot_model,\n\u001b[0;32m     34\u001b[0m     predict_model,\n\u001b[0;32m     35\u001b[0m     pull,\n\u001b[0;32m     36\u001b[0m     remove_metric,\n\u001b[0;32m     37\u001b[0m     save_experiment,\n\u001b[0;32m     38\u001b[0m     save_model,\n\u001b[0;32m     39\u001b[0m     set_config,\n\u001b[0;32m     40\u001b[0m     set_current_experiment,\n\u001b[0;32m     41\u001b[0m     setup,\n\u001b[0;32m     42\u001b[0m     stack_models,\n\u001b[0;32m     43\u001b[0m     tune_model,\n\u001b[0;32m     44\u001b[0m )\n\u001b[0;32m     45\u001b[0m \u001b[39mfrom\u001b[39;00m \u001b[39mpycaret\u001b[39;00m\u001b[39m.\u001b[39;00m\u001b[39mclassification\u001b[39;00m\u001b[39m.\u001b[39;00m\u001b[39moop\u001b[39;00m \u001b[39mimport\u001b[39;00m ClassificationExperiment\n\u001b[0;32m     47\u001b[0m __all__ \u001b[39m=\u001b[39m [\n\u001b[0;32m     48\u001b[0m     \u001b[39m\"\u001b[39m\u001b[39mClassificationExperiment\u001b[39m\u001b[39m\"\u001b[39m,\n\u001b[0;32m     49\u001b[0m     \u001b[39m\"\u001b[39m\u001b[39msetup\u001b[39m\u001b[39m\"\u001b[39m,\n\u001b[1;32m   (...)\u001b[0m\n\u001b[0;32m     90\u001b[0m     \u001b[39m\"\u001b[39m\u001b[39mcheck_drift\u001b[39m\u001b[39m\"\u001b[39m,\n\u001b[0;32m     91\u001b[0m ]\n",
      "File \u001b[1;32mc:\\Users\\NT550-052\\anaconda3\\envs\\tmp\\lib\\site-packages\\pycaret\\classification\\functional.py:8\u001b[0m\n\u001b[0;32m      5\u001b[0m \u001b[39mimport\u001b[39;00m \u001b[39mpandas\u001b[39;00m \u001b[39mas\u001b[39;00m \u001b[39mpd\u001b[39;00m\n\u001b[0;32m      6\u001b[0m \u001b[39mfrom\u001b[39;00m \u001b[39mjoblib\u001b[39;00m\u001b[39m.\u001b[39;00m\u001b[39mmemory\u001b[39;00m \u001b[39mimport\u001b[39;00m Memory\n\u001b[1;32m----> 8\u001b[0m \u001b[39mfrom\u001b[39;00m \u001b[39mpycaret\u001b[39;00m\u001b[39m.\u001b[39;00m\u001b[39mclassification\u001b[39;00m\u001b[39m.\u001b[39;00m\u001b[39moop\u001b[39;00m \u001b[39mimport\u001b[39;00m ClassificationExperiment\n\u001b[0;32m      9\u001b[0m \u001b[39mfrom\u001b[39;00m \u001b[39mpycaret\u001b[39;00m\u001b[39m.\u001b[39;00m\u001b[39minternal\u001b[39;00m\u001b[39m.\u001b[39;00m\u001b[39mparallel\u001b[39;00m\u001b[39m.\u001b[39;00m\u001b[39mparallel_backend\u001b[39;00m \u001b[39mimport\u001b[39;00m ParallelBackend\n\u001b[0;32m     10\u001b[0m \u001b[39mfrom\u001b[39;00m \u001b[39mpycaret\u001b[39;00m\u001b[39m.\u001b[39;00m\u001b[39mloggers\u001b[39;00m\u001b[39m.\u001b[39;00m\u001b[39mbase_logger\u001b[39;00m \u001b[39mimport\u001b[39;00m BaseLogger\n",
      "File \u001b[1;32mc:\\Users\\NT550-052\\anaconda3\\envs\\tmp\\lib\\site-packages\\pycaret\\classification\\oop.py:17\u001b[0m\n\u001b[0;32m     14\u001b[0m \u001b[39mfrom\u001b[39;00m \u001b[39mscipy\u001b[39;00m\u001b[39m.\u001b[39;00m\u001b[39moptimize\u001b[39;00m \u001b[39mimport\u001b[39;00m shgo\n\u001b[0;32m     16\u001b[0m \u001b[39mfrom\u001b[39;00m \u001b[39mpycaret\u001b[39;00m\u001b[39m.\u001b[39;00m\u001b[39mcontainers\u001b[39;00m\u001b[39m.\u001b[39;00m\u001b[39mmetrics\u001b[39;00m \u001b[39mimport\u001b[39;00m get_all_class_metric_containers\n\u001b[1;32m---> 17\u001b[0m \u001b[39mfrom\u001b[39;00m \u001b[39mpycaret\u001b[39;00m\u001b[39m.\u001b[39;00m\u001b[39mcontainers\u001b[39;00m\u001b[39m.\u001b[39;00m\u001b[39mmodels\u001b[39;00m \u001b[39mimport\u001b[39;00m get_all_class_model_containers\n\u001b[0;32m     18\u001b[0m \u001b[39mfrom\u001b[39;00m \u001b[39mpycaret\u001b[39;00m\u001b[39m.\u001b[39;00m\u001b[39mcontainers\u001b[39;00m\u001b[39m.\u001b[39;00m\u001b[39mmodels\u001b[39;00m\u001b[39m.\u001b[39;00m\u001b[39mclassification\u001b[39;00m \u001b[39mimport\u001b[39;00m (\n\u001b[0;32m     19\u001b[0m     ALL_ALLOWED_ENGINES,\n\u001b[0;32m     20\u001b[0m     get_container_default_engines,\n\u001b[0;32m     21\u001b[0m )\n\u001b[0;32m     22\u001b[0m \u001b[39mfrom\u001b[39;00m \u001b[39mpycaret\u001b[39;00m\u001b[39m.\u001b[39;00m\u001b[39minternal\u001b[39;00m\u001b[39m.\u001b[39;00m\u001b[39mdisplay\u001b[39;00m \u001b[39mimport\u001b[39;00m CommonDisplay\n",
      "File \u001b[1;32mc:\\Users\\NT550-052\\anaconda3\\envs\\tmp\\lib\\site-packages\\pycaret\\containers\\models\\__init__.py:1\u001b[0m\n\u001b[1;32m----> 1\u001b[0m \u001b[39mfrom\u001b[39;00m \u001b[39m.\u001b[39;00m\u001b[39manomaly\u001b[39;00m \u001b[39mimport\u001b[39;00m get_all_model_containers \u001b[39mas\u001b[39;00m get_all_anomaly_model_containers\n\u001b[0;32m      2\u001b[0m \u001b[39mfrom\u001b[39;00m \u001b[39m.\u001b[39;00m\u001b[39mbase_model\u001b[39;00m \u001b[39mimport\u001b[39;00m ModelContainer\n\u001b[0;32m      3\u001b[0m \u001b[39mfrom\u001b[39;00m \u001b[39m.\u001b[39;00m\u001b[39mclassification\u001b[39;00m \u001b[39mimport\u001b[39;00m get_all_model_containers \u001b[39mas\u001b[39;00m get_all_class_model_containers\n",
      "File \u001b[1;32mc:\\Users\\NT550-052\\anaconda3\\envs\\tmp\\lib\\site-packages\\pycaret\\containers\\models\\anomaly.py:17\u001b[0m\n\u001b[0;32m     15\u001b[0m \u001b[39mimport\u001b[39;00m \u001b[39mpycaret\u001b[39;00m\u001b[39m.\u001b[39;00m\u001b[39mcontainers\u001b[39;00m\u001b[39m.\u001b[39;00m\u001b[39mbase_container\u001b[39;00m\n\u001b[0;32m     16\u001b[0m \u001b[39mimport\u001b[39;00m \u001b[39mpycaret\u001b[39;00m\u001b[39m.\u001b[39;00m\u001b[39minternal\u001b[39;00m\u001b[39m.\u001b[39;00m\u001b[39mcuml_wrappers\u001b[39;00m\n\u001b[1;32m---> 17\u001b[0m \u001b[39mfrom\u001b[39;00m \u001b[39mpycaret\u001b[39;00m\u001b[39m.\u001b[39;00m\u001b[39mcontainers\u001b[39;00m\u001b[39m.\u001b[39;00m\u001b[39mmodels\u001b[39;00m\u001b[39m.\u001b[39;00m\u001b[39mbase_model\u001b[39;00m \u001b[39mimport\u001b[39;00m ModelContainer\n\u001b[0;32m     18\u001b[0m \u001b[39mfrom\u001b[39;00m \u001b[39mpycaret\u001b[39;00m\u001b[39m.\u001b[39;00m\u001b[39minternal\u001b[39;00m\u001b[39m.\u001b[39;00m\u001b[39mdistributions\u001b[39;00m \u001b[39mimport\u001b[39;00m Distribution\n\u001b[0;32m     19\u001b[0m \u001b[39mfrom\u001b[39;00m \u001b[39mpycaret\u001b[39;00m\u001b[39m.\u001b[39;00m\u001b[39mutils\u001b[39;00m\u001b[39m.\u001b[39;00m\u001b[39mgeneric\u001b[39;00m \u001b[39mimport\u001b[39;00m get_logger, param_grid_to_lists\n",
      "File \u001b[1;32mc:\\Users\\NT550-052\\anaconda3\\envs\\tmp\\lib\\site-packages\\pycaret\\containers\\models\\base_model.py:9\u001b[0m\n\u001b[0;32m      7\u001b[0m \u001b[39mfrom\u001b[39;00m \u001b[39mpycaret\u001b[39;00m\u001b[39m.\u001b[39;00m\u001b[39mcontainers\u001b[39;00m\u001b[39m.\u001b[39;00m\u001b[39mbase_container\u001b[39;00m \u001b[39mimport\u001b[39;00m BaseContainer\n\u001b[0;32m      8\u001b[0m \u001b[39mfrom\u001b[39;00m \u001b[39mpycaret\u001b[39;00m\u001b[39m.\u001b[39;00m\u001b[39minternal\u001b[39;00m\u001b[39m.\u001b[39;00m\u001b[39mdistributions\u001b[39;00m \u001b[39mimport\u001b[39;00m CategoricalDistribution\n\u001b[1;32m----> 9\u001b[0m \u001b[39mfrom\u001b[39;00m \u001b[39mpycaret\u001b[39;00m\u001b[39m.\u001b[39;00m\u001b[39minternal\u001b[39;00m\u001b[39m.\u001b[39;00m\u001b[39mpycaret_experiment\u001b[39;00m\u001b[39m.\u001b[39;00m\u001b[39mpycaret_experiment\u001b[39;00m \u001b[39mimport\u001b[39;00m _PyCaretExperiment\n\u001b[0;32m     10\u001b[0m \u001b[39mfrom\u001b[39;00m \u001b[39mpycaret\u001b[39;00m\u001b[39m.\u001b[39;00m\u001b[39mutils\u001b[39;00m\u001b[39m.\u001b[39;00m\u001b[39mgeneric\u001b[39;00m \u001b[39mimport\u001b[39;00m get_allowed_engines, get_logger\n\u001b[0;32m     13\u001b[0m \u001b[39mclass\u001b[39;00m \u001b[39mModelContainer\u001b[39;00m(BaseContainer):\n",
      "File \u001b[1;32mc:\\Users\\NT550-052\\anaconda3\\envs\\tmp\\lib\\site-packages\\pycaret\\internal\\pycaret_experiment\\pycaret_experiment.py:12\u001b[0m\n\u001b[0;32m     10\u001b[0m \u001b[39mimport\u001b[39;00m \u001b[39mpycaret\u001b[39;00m\u001b[39m.\u001b[39;00m\u001b[39minternal\u001b[39;00m\u001b[39m.\u001b[39;00m\u001b[39mpatches\u001b[39;00m\u001b[39m.\u001b[39;00m\u001b[39msklearn\u001b[39;00m\n\u001b[0;32m     11\u001b[0m \u001b[39mimport\u001b[39;00m \u001b[39mpycaret\u001b[39;00m\u001b[39m.\u001b[39;00m\u001b[39minternal\u001b[39;00m\u001b[39m.\u001b[39;00m\u001b[39mpatches\u001b[39;00m\u001b[39m.\u001b[39;00m\u001b[39myellowbrick\u001b[39;00m\n\u001b[1;32m---> 12\u001b[0m \u001b[39mimport\u001b[39;00m \u001b[39mpycaret\u001b[39;00m\u001b[39m.\u001b[39;00m\u001b[39minternal\u001b[39;00m\u001b[39m.\u001b[39;00m\u001b[39mpersistence\u001b[39;00m\n\u001b[0;32m     13\u001b[0m \u001b[39mfrom\u001b[39;00m \u001b[39mpycaret\u001b[39;00m\u001b[39m.\u001b[39;00m\u001b[39minternal\u001b[39;00m\u001b[39m.\u001b[39;00m\u001b[39mlogging\u001b[39;00m \u001b[39mimport\u001b[39;00m get_logger\n\u001b[0;32m     14\u001b[0m \u001b[39mfrom\u001b[39;00m \u001b[39mpycaret\u001b[39;00m\u001b[39m.\u001b[39;00m\u001b[39mutils\u001b[39;00m\u001b[39m.\u001b[39;00m\u001b[39mconstants\u001b[39;00m \u001b[39mimport\u001b[39;00m DATAFRAME_LIKE\n",
      "File \u001b[1;32mc:\\Users\\NT550-052\\anaconda3\\envs\\tmp\\lib\\site-packages\\pycaret\\internal\\persistence.py:13\u001b[0m\n\u001b[0;32m     11\u001b[0m \u001b[39mfrom\u001b[39;00m \u001b[39mpycaret\u001b[39;00m\u001b[39m.\u001b[39;00m\u001b[39mutils\u001b[39;00m\u001b[39m.\u001b[39;00m\u001b[39m_dependencies\u001b[39;00m \u001b[39mimport\u001b[39;00m _check_soft_dependencies\n\u001b[0;32m     12\u001b[0m \u001b[39mfrom\u001b[39;00m \u001b[39mpycaret\u001b[39;00m\u001b[39m.\u001b[39;00m\u001b[39mutils\u001b[39;00m\u001b[39m.\u001b[39;00m\u001b[39mgeneric\u001b[39;00m \u001b[39mimport\u001b[39;00m MLUsecase, get_logger\n\u001b[1;32m---> 13\u001b[0m \u001b[39mfrom\u001b[39;00m \u001b[39mpycaret\u001b[39;00m\u001b[39m.\u001b[39;00m\u001b[39mutils\u001b[39;00m\u001b[39m.\u001b[39;00m\u001b[39mtime_series\u001b[39;00m\u001b[39m.\u001b[39;00m\u001b[39mforecasting\u001b[39;00m\u001b[39m.\u001b[39;00m\u001b[39mpipeline\u001b[39;00m \u001b[39mimport\u001b[39;00m _add_model_to_pipeline\n\u001b[0;32m     16\u001b[0m \u001b[39mdef\u001b[39;00m \u001b[39mdeploy_model\u001b[39m(\n\u001b[0;32m     17\u001b[0m     model, model_name: \u001b[39mstr\u001b[39m, authentication: \u001b[39mdict\u001b[39m, platform: \u001b[39mstr\u001b[39m \u001b[39m=\u001b[39m \u001b[39m\"\u001b[39m\u001b[39maws\u001b[39m\u001b[39m\"\u001b[39m, prep_pipe_\u001b[39m=\u001b[39m\u001b[39mNone\u001b[39;00m\n\u001b[0;32m     18\u001b[0m ):\n\u001b[0;32m     19\u001b[0m \u001b[39m    \u001b[39m\u001b[39m\"\"\"\u001b[39;00m\n\u001b[0;32m     20\u001b[0m \u001b[39m    (In Preview)\u001b[39;00m\n\u001b[0;32m     21\u001b[0m \n\u001b[1;32m   (...)\u001b[0m\n\u001b[0;32m    101\u001b[0m \n\u001b[0;32m    102\u001b[0m \u001b[39m    \"\"\"\u001b[39;00m\n",
      "File \u001b[1;32mc:\\Users\\NT550-052\\anaconda3\\envs\\tmp\\lib\\site-packages\\pycaret\\utils\\time_series\\__init__.py:11\u001b[0m\n\u001b[0;32m      9\u001b[0m \u001b[39mimport\u001b[39;00m \u001b[39mnumpy\u001b[39;00m \u001b[39mas\u001b[39;00m \u001b[39mnp\u001b[39;00m\n\u001b[0;32m     10\u001b[0m \u001b[39mimport\u001b[39;00m \u001b[39mpandas\u001b[39;00m \u001b[39mas\u001b[39;00m \u001b[39mpd\u001b[39;00m\n\u001b[1;32m---> 11\u001b[0m \u001b[39mfrom\u001b[39;00m \u001b[39mpmdarima\u001b[39;00m\u001b[39m.\u001b[39;00m\u001b[39marima\u001b[39;00m\u001b[39m.\u001b[39;00m\u001b[39mutils\u001b[39;00m \u001b[39mimport\u001b[39;00m ndiffs\n\u001b[0;32m     12\u001b[0m \u001b[39mfrom\u001b[39;00m \u001b[39msktime\u001b[39;00m\u001b[39m.\u001b[39;00m\u001b[39mparam_est\u001b[39;00m\u001b[39m.\u001b[39;00m\u001b[39mseasonality\u001b[39;00m \u001b[39mimport\u001b[39;00m SeasonalityACF\n\u001b[0;32m     13\u001b[0m \u001b[39mfrom\u001b[39;00m \u001b[39msktime\u001b[39;00m\u001b[39m.\u001b[39;00m\u001b[39mtransformations\u001b[39;00m\u001b[39m.\u001b[39;00m\u001b[39mseries\u001b[39;00m\u001b[39m.\u001b[39;00m\u001b[39mdifference\u001b[39;00m \u001b[39mimport\u001b[39;00m Differencer\n",
      "File \u001b[1;32mc:\\Users\\NT550-052\\anaconda3\\envs\\tmp\\lib\\site-packages\\pmdarima\\__init__.py:52\u001b[0m\n\u001b[0;32m     49\u001b[0m \u001b[39mfrom\u001b[39;00m \u001b[39m.\u001b[39;00m \u001b[39mimport\u001b[39;00m __check_build\n\u001b[0;32m     51\u001b[0m \u001b[39m# Stuff we want at top-level\u001b[39;00m\n\u001b[1;32m---> 52\u001b[0m \u001b[39mfrom\u001b[39;00m \u001b[39m.\u001b[39;00m\u001b[39marima\u001b[39;00m \u001b[39mimport\u001b[39;00m auto_arima, ARIMA, AutoARIMA, StepwiseContext, decompose\n\u001b[0;32m     53\u001b[0m \u001b[39mfrom\u001b[39;00m \u001b[39m.\u001b[39;00m\u001b[39mutils\u001b[39;00m \u001b[39mimport\u001b[39;00m acf, autocorr_plot, c, pacf, plot_acf, plot_pacf, \\\n\u001b[0;32m     54\u001b[0m     tsdisplay\n\u001b[0;32m     55\u001b[0m \u001b[39mfrom\u001b[39;00m \u001b[39m.\u001b[39;00m\u001b[39mutils\u001b[39;00m\u001b[39m.\u001b[39;00m\u001b[39m_show_versions\u001b[39;00m \u001b[39mimport\u001b[39;00m show_versions\n",
      "File \u001b[1;32mc:\\Users\\NT550-052\\anaconda3\\envs\\tmp\\lib\\site-packages\\pmdarima\\arima\\__init__.py:6\u001b[0m\n\u001b[0;32m      1\u001b[0m \u001b[39m# -*- coding: utf-8 -*-\u001b[39;00m\n\u001b[0;32m      2\u001b[0m \u001b[39m#\u001b[39;00m\n\u001b[0;32m      3\u001b[0m \u001b[39m# Author: Taylor Smith <taylor.smith@alkaline-ml.com>\u001b[39;00m\n\u001b[0;32m      5\u001b[0m \u001b[39mfrom\u001b[39;00m \u001b[39m.\u001b[39;00m\u001b[39mapprox\u001b[39;00m \u001b[39mimport\u001b[39;00m \u001b[39m*\u001b[39m\n\u001b[1;32m----> 6\u001b[0m \u001b[39mfrom\u001b[39;00m \u001b[39m.\u001b[39;00m\u001b[39marima\u001b[39;00m \u001b[39mimport\u001b[39;00m \u001b[39m*\u001b[39m\n\u001b[0;32m      7\u001b[0m \u001b[39mfrom\u001b[39;00m \u001b[39m.\u001b[39;00m\u001b[39mauto\u001b[39;00m \u001b[39mimport\u001b[39;00m \u001b[39m*\u001b[39m\n\u001b[0;32m      8\u001b[0m \u001b[39mfrom\u001b[39;00m \u001b[39m.\u001b[39;00m\u001b[39mutils\u001b[39;00m \u001b[39mimport\u001b[39;00m \u001b[39m*\u001b[39m\n",
      "File \u001b[1;32mc:\\Users\\NT550-052\\anaconda3\\envs\\tmp\\lib\\site-packages\\pmdarima\\arima\\arima.py:16\u001b[0m\n\u001b[0;32m     14\u001b[0m \u001b[39mfrom\u001b[39;00m \u001b[39mscipy\u001b[39;00m\u001b[39m.\u001b[39;00m\u001b[39mstats\u001b[39;00m \u001b[39mimport\u001b[39;00m gaussian_kde, norm\n\u001b[0;32m     15\u001b[0m \u001b[39mfrom\u001b[39;00m \u001b[39msklearn\u001b[39;00m\u001b[39m.\u001b[39;00m\u001b[39mutils\u001b[39;00m\u001b[39m.\u001b[39;00m\u001b[39mvalidation\u001b[39;00m \u001b[39mimport\u001b[39;00m check_array\n\u001b[1;32m---> 16\u001b[0m \u001b[39mfrom\u001b[39;00m \u001b[39mstatsmodels\u001b[39;00m \u001b[39mimport\u001b[39;00m api \u001b[39mas\u001b[39;00m sm\n\u001b[0;32m     18\u001b[0m \u001b[39mfrom\u001b[39;00m \u001b[39m.\u001b[39;00m \u001b[39mimport\u001b[39;00m _validation \u001b[39mas\u001b[39;00m val\n\u001b[0;32m     19\u001b[0m \u001b[39mfrom\u001b[39;00m \u001b[39m.\u001b[39;00m\u001b[39m.\u001b[39;00m\u001b[39mbase\u001b[39;00m \u001b[39mimport\u001b[39;00m BaseARIMA\n",
      "File \u001b[1;32mc:\\Users\\NT550-052\\anaconda3\\envs\\tmp\\lib\\site-packages\\statsmodels\\api.py:107\u001b[0m\n\u001b[0;32m     93\u001b[0m \u001b[39mfrom\u001b[39;00m \u001b[39m.\u001b[39;00m\u001b[39mdiscrete\u001b[39;00m\u001b[39m.\u001b[39;00m\u001b[39mdiscrete_model\u001b[39;00m \u001b[39mimport\u001b[39;00m (\n\u001b[0;32m     94\u001b[0m     GeneralizedPoisson,\n\u001b[0;32m     95\u001b[0m     Logit,\n\u001b[1;32m   (...)\u001b[0m\n\u001b[0;32m    100\u001b[0m     Probit,\n\u001b[0;32m    101\u001b[0m )\n\u001b[0;32m    102\u001b[0m \u001b[39mfrom\u001b[39;00m \u001b[39m.\u001b[39;00m\u001b[39mdiscrete\u001b[39;00m\u001b[39m.\u001b[39;00m\u001b[39mtruncated_model\u001b[39;00m \u001b[39mimport\u001b[39;00m (\n\u001b[0;32m    103\u001b[0m     TruncatedLFPoisson,\n\u001b[0;32m    104\u001b[0m     TruncatedLFNegativeBinomialP,\n\u001b[0;32m    105\u001b[0m     HurdleCountModel,\n\u001b[0;32m    106\u001b[0m     )\n\u001b[1;32m--> 107\u001b[0m \u001b[39mfrom\u001b[39;00m \u001b[39m.\u001b[39;00m\u001b[39mduration\u001b[39;00m \u001b[39mimport\u001b[39;00m api \u001b[39mas\u001b[39;00m duration\n\u001b[0;32m    108\u001b[0m \u001b[39mfrom\u001b[39;00m \u001b[39m.\u001b[39;00m\u001b[39mduration\u001b[39;00m\u001b[39m.\u001b[39;00m\u001b[39mhazard_regression\u001b[39;00m \u001b[39mimport\u001b[39;00m PHReg\n\u001b[0;32m    109\u001b[0m \u001b[39mfrom\u001b[39;00m \u001b[39m.\u001b[39;00m\u001b[39mduration\u001b[39;00m\u001b[39m.\u001b[39;00m\u001b[39msurvfunc\u001b[39;00m \u001b[39mimport\u001b[39;00m SurvfuncRight\n",
      "File \u001b[1;32mc:\\Users\\NT550-052\\anaconda3\\envs\\tmp\\lib\\site-packages\\statsmodels\\duration\\api.py:2\u001b[0m\n\u001b[0;32m      1\u001b[0m __all__ \u001b[39m=\u001b[39m [\u001b[39m\"\u001b[39m\u001b[39mPHReg\u001b[39m\u001b[39m\"\u001b[39m, \u001b[39m\"\u001b[39m\u001b[39mSurvfuncRight\u001b[39m\u001b[39m\"\u001b[39m, \u001b[39m\"\u001b[39m\u001b[39msurvdiff\u001b[39m\u001b[39m\"\u001b[39m, \u001b[39m\"\u001b[39m\u001b[39mCumIncidenceRight\u001b[39m\u001b[39m\"\u001b[39m]\n\u001b[1;32m----> 2\u001b[0m \u001b[39mfrom\u001b[39;00m \u001b[39m.\u001b[39;00m\u001b[39mhazard_regression\u001b[39;00m \u001b[39mimport\u001b[39;00m PHReg\n\u001b[0;32m      3\u001b[0m \u001b[39mfrom\u001b[39;00m \u001b[39m.\u001b[39;00m\u001b[39msurvfunc\u001b[39;00m \u001b[39mimport\u001b[39;00m (SurvfuncRight, survdiff,\n\u001b[0;32m      4\u001b[0m                        CumIncidenceRight)\n",
      "File \u001b[1;32m<frozen importlib._bootstrap>:1027\u001b[0m, in \u001b[0;36m_find_and_load\u001b[1;34m(name, import_)\u001b[0m\n",
      "File \u001b[1;32m<frozen importlib._bootstrap>:1006\u001b[0m, in \u001b[0;36m_find_and_load_unlocked\u001b[1;34m(name, import_)\u001b[0m\n",
      "File \u001b[1;32m<frozen importlib._bootstrap>:688\u001b[0m, in \u001b[0;36m_load_unlocked\u001b[1;34m(spec)\u001b[0m\n",
      "File \u001b[1;32m<frozen importlib._bootstrap_external>:879\u001b[0m, in \u001b[0;36mexec_module\u001b[1;34m(self, module)\u001b[0m\n",
      "File \u001b[1;32m<frozen importlib._bootstrap_external>:975\u001b[0m, in \u001b[0;36mget_code\u001b[1;34m(self, fullname)\u001b[0m\n",
      "File \u001b[1;32m<frozen importlib._bootstrap_external>:1074\u001b[0m, in \u001b[0;36mget_data\u001b[1;34m(self, path)\u001b[0m\n",
      "\u001b[1;31mKeyboardInterrupt\u001b[0m: "
     ]
    }
   ],
   "source": [
    "from pycaret.classification import ClassificationExperiment\n",
    "from pycaret.classification import setup\n",
    "import pandas as pd"
   ]
  },
  {
   "cell_type": "code",
   "execution_count": null,
   "metadata": {},
   "outputs": [],
   "source": [
    "data = pd.read_csv(r\"C:\\Users\\NT550-052\\OneDrive\\바탕 화면\\ASAC\\프로젝트\\ML\\web_crawling\\CGW\\modeling\\clstandoh\\clusterandoh.csv\",sep=\";\")\n",
    "data.drop(columns=\"Unnamed: 0\",inplace=True)\n",
    "data"
   ]
  },
  {
   "cell_type": "code",
   "execution_count": null,
   "metadata": {},
   "outputs": [],
   "source": [
    "tag_path = r\"C:\\Users\\NT550-052\\OneDrive\\바탕 화면\\ASAC\\프로젝트\\ML\\web_crawling\\merge_dataset\\tag_merge.csv\"\n",
    "tag_df = pd.read_csv(tag_path)\n",
    "tag_df"
   ]
  },
  {
   "cell_type": "code",
   "execution_count": null,
   "metadata": {},
   "outputs": [],
   "source": [
    "tag_df.iloc[:,1:] = tag_df.iloc[:,1:].astype(\"bool\")\n",
    "tag_df.iloc[:,1:] = tag_df.iloc[:,1:].astype(\"int\")\n",
    "data = pd.merge(data,tag_df,how=\"inner\",left_on=\"appid\",right_on=\"appid\")"
   ]
  },
  {
   "cell_type": "code",
   "execution_count": null,
   "metadata": {},
   "outputs": [],
   "source": [
    "data"
   ]
  },
  {
   "cell_type": "code",
   "execution_count": null,
   "metadata": {},
   "outputs": [],
   "source": [
    "data.drop(columns=[\"genre\",\"appid\"],inplace=True)"
   ]
  },
  {
   "cell_type": "code",
   "execution_count": null,
   "metadata": {},
   "outputs": [],
   "source": [
    "model = setup(data, target='Review', session_id=123, fold_strategy=\"stratifiedkfold\")"
   ]
  },
  {
   "cell_type": "code",
   "execution_count": null,
   "metadata": {},
   "outputs": [],
   "source": [
    "exp = ClassificationExperiment()"
   ]
  },
  {
   "cell_type": "code",
   "execution_count": null,
   "metadata": {},
   "outputs": [
    {
     "data": {
      "text/plain": [
       "<pycaret.classification.oop.ClassificationExperiment at 0x225f6c55300>"
      ]
     },
     "execution_count": 11,
     "metadata": {},
     "output_type": "execute_result"
    }
   ],
   "source": [
    "exp.setup(data, target='Review', session_id=123, fold_strategy=\"stratifiedkfold\")"
   ]
  },
  {
   "cell_type": "code",
   "execution_count": null,
   "metadata": {},
   "outputs": [
    {
     "data": {
      "text/html": [
       "<div>\n",
       "<style scoped>\n",
       "    .dataframe tbody tr th:only-of-type {\n",
       "        vertical-align: middle;\n",
       "    }\n",
       "\n",
       "    .dataframe tbody tr th {\n",
       "        vertical-align: top;\n",
       "    }\n",
       "\n",
       "    .dataframe thead th {\n",
       "        text-align: right;\n",
       "    }\n",
       "</style>\n",
       "<table border=\"1\" class=\"dataframe\">\n",
       "  <thead>\n",
       "    <tr style=\"text-align: right;\">\n",
       "      <th></th>\n",
       "      <th></th>\n",
       "      <th></th>\n",
       "    </tr>\n",
       "    <tr>\n",
       "      <th></th>\n",
       "      <th></th>\n",
       "      <th></th>\n",
       "    </tr>\n",
       "  </thead>\n",
       "  <tbody>\n",
       "    <tr>\n",
       "      <th>Initiated</th>\n",
       "      <td>. . . . . . . . . . . . . . . . . .</td>\n",
       "      <td>14:53:46</td>\n",
       "    </tr>\n",
       "    <tr>\n",
       "      <th>Status</th>\n",
       "      <td>. . . . . . . . . . . . . . . . . .</td>\n",
       "      <td>Loading Dependencies</td>\n",
       "    </tr>\n",
       "    <tr>\n",
       "      <th>Estimator</th>\n",
       "      <td>. . . . . . . . . . . . . . . . . .</td>\n",
       "      <td>Compiling Library</td>\n",
       "    </tr>\n",
       "  </tbody>\n",
       "</table>\n",
       "</div>"
      ],
      "text/plain": [
       "                                                                    \n",
       "                                                                    \n",
       "Initiated  . . . . . . . . . . . . . . . . . .              14:53:46\n",
       "Status     . . . . . . . . . . . . . . . . . .  Loading Dependencies\n",
       "Estimator  . . . . . . . . . . . . . . . . . .     Compiling Library"
      ]
     },
     "metadata": {},
     "output_type": "display_data"
    },
    {
     "data": {
      "text/html": [],
      "text/plain": [
       "<IPython.core.display.HTML object>"
      ]
     },
     "metadata": {},
     "output_type": "display_data"
    }
   ],
   "source": [
    "best = compare_models()"
   ]
  },
  {
   "cell_type": "code",
   "execution_count": null,
   "metadata": {},
   "outputs": [
    {
     "data": {
      "text/html": [
       "<div>\n",
       "<style scoped>\n",
       "    .dataframe tbody tr th:only-of-type {\n",
       "        vertical-align: middle;\n",
       "    }\n",
       "\n",
       "    .dataframe tbody tr th {\n",
       "        vertical-align: top;\n",
       "    }\n",
       "\n",
       "    .dataframe thead th {\n",
       "        text-align: right;\n",
       "    }\n",
       "</style>\n",
       "<table border=\"1\" class=\"dataframe\">\n",
       "  <thead>\n",
       "    <tr style=\"text-align: right;\">\n",
       "      <th></th>\n",
       "      <th>Model</th>\n",
       "      <th>Accuracy</th>\n",
       "      <th>AUC</th>\n",
       "      <th>Recall</th>\n",
       "      <th>Prec.</th>\n",
       "      <th>F1</th>\n",
       "      <th>Kappa</th>\n",
       "      <th>MCC</th>\n",
       "      <th>TT (Sec)</th>\n",
       "    </tr>\n",
       "  </thead>\n",
       "  <tbody>\n",
       "    <tr>\n",
       "      <th>lightgbm</th>\n",
       "      <td>Light Gradient Boosting Machine</td>\n",
       "      <td>0.7984</td>\n",
       "      <td>0.9346</td>\n",
       "      <td>0.7984</td>\n",
       "      <td>0.7967</td>\n",
       "      <td>0.7936</td>\n",
       "      <td>0.6741</td>\n",
       "      <td>0.6763</td>\n",
       "      <td>3.254</td>\n",
       "    </tr>\n",
       "    <tr>\n",
       "      <th>gbc</th>\n",
       "      <td>Gradient Boosting Classifier</td>\n",
       "      <td>0.7856</td>\n",
       "      <td>0.9257</td>\n",
       "      <td>0.7856</td>\n",
       "      <td>0.7874</td>\n",
       "      <td>0.7767</td>\n",
       "      <td>0.6492</td>\n",
       "      <td>0.6541</td>\n",
       "      <td>43.249</td>\n",
       "    </tr>\n",
       "    <tr>\n",
       "      <th>knn</th>\n",
       "      <td>K Neighbors Classifier</td>\n",
       "      <td>0.7654</td>\n",
       "      <td>0.8995</td>\n",
       "      <td>0.7654</td>\n",
       "      <td>0.7584</td>\n",
       "      <td>0.7579</td>\n",
       "      <td>0.6201</td>\n",
       "      <td>0.6225</td>\n",
       "      <td>2.587</td>\n",
       "    </tr>\n",
       "    <tr>\n",
       "      <th>dt</th>\n",
       "      <td>Decision Tree Classifier</td>\n",
       "      <td>0.7370</td>\n",
       "      <td>0.7975</td>\n",
       "      <td>0.7370</td>\n",
       "      <td>0.7367</td>\n",
       "      <td>0.7367</td>\n",
       "      <td>0.5837</td>\n",
       "      <td>0.5837</td>\n",
       "      <td>1.283</td>\n",
       "    </tr>\n",
       "    <tr>\n",
       "      <th>rf</th>\n",
       "      <td>Random Forest Classifier</td>\n",
       "      <td>0.7059</td>\n",
       "      <td>0.8647</td>\n",
       "      <td>0.7059</td>\n",
       "      <td>0.6970</td>\n",
       "      <td>0.6759</td>\n",
       "      <td>0.5073</td>\n",
       "      <td>0.5176</td>\n",
       "      <td>5.141</td>\n",
       "    </tr>\n",
       "    <tr>\n",
       "      <th>et</th>\n",
       "      <td>Extra Trees Classifier</td>\n",
       "      <td>0.6865</td>\n",
       "      <td>0.8441</td>\n",
       "      <td>0.6865</td>\n",
       "      <td>0.6704</td>\n",
       "      <td>0.6587</td>\n",
       "      <td>0.4762</td>\n",
       "      <td>0.4843</td>\n",
       "      <td>8.381</td>\n",
       "    </tr>\n",
       "    <tr>\n",
       "      <th>ada</th>\n",
       "      <td>Ada Boost Classifier</td>\n",
       "      <td>0.6740</td>\n",
       "      <td>0.8018</td>\n",
       "      <td>0.6740</td>\n",
       "      <td>0.6928</td>\n",
       "      <td>0.6504</td>\n",
       "      <td>0.4556</td>\n",
       "      <td>0.4758</td>\n",
       "      <td>3.288</td>\n",
       "    </tr>\n",
       "    <tr>\n",
       "      <th>lda</th>\n",
       "      <td>Linear Discriminant Analysis</td>\n",
       "      <td>0.6354</td>\n",
       "      <td>0.8007</td>\n",
       "      <td>0.6354</td>\n",
       "      <td>0.6153</td>\n",
       "      <td>0.6153</td>\n",
       "      <td>0.3972</td>\n",
       "      <td>0.4020</td>\n",
       "      <td>2.142</td>\n",
       "    </tr>\n",
       "    <tr>\n",
       "      <th>ridge</th>\n",
       "      <td>Ridge Classifier</td>\n",
       "      <td>0.6348</td>\n",
       "      <td>0.0000</td>\n",
       "      <td>0.6348</td>\n",
       "      <td>0.6066</td>\n",
       "      <td>0.5936</td>\n",
       "      <td>0.3808</td>\n",
       "      <td>0.3914</td>\n",
       "      <td>0.576</td>\n",
       "    </tr>\n",
       "    <tr>\n",
       "      <th>lr</th>\n",
       "      <td>Logistic Regression</td>\n",
       "      <td>0.6016</td>\n",
       "      <td>0.7410</td>\n",
       "      <td>0.6016</td>\n",
       "      <td>0.5689</td>\n",
       "      <td>0.5481</td>\n",
       "      <td>0.3225</td>\n",
       "      <td>0.3496</td>\n",
       "      <td>20.668</td>\n",
       "    </tr>\n",
       "    <tr>\n",
       "      <th>dummy</th>\n",
       "      <td>Dummy Classifier</td>\n",
       "      <td>0.4198</td>\n",
       "      <td>0.5000</td>\n",
       "      <td>0.4198</td>\n",
       "      <td>0.1763</td>\n",
       "      <td>0.2483</td>\n",
       "      <td>0.0000</td>\n",
       "      <td>0.0000</td>\n",
       "      <td>0.277</td>\n",
       "    </tr>\n",
       "    <tr>\n",
       "      <th>svm</th>\n",
       "      <td>SVM - Linear Kernel</td>\n",
       "      <td>0.3852</td>\n",
       "      <td>0.0000</td>\n",
       "      <td>0.3852</td>\n",
       "      <td>0.5466</td>\n",
       "      <td>0.3529</td>\n",
       "      <td>0.1295</td>\n",
       "      <td>0.1671</td>\n",
       "      <td>4.390</td>\n",
       "    </tr>\n",
       "    <tr>\n",
       "      <th>nb</th>\n",
       "      <td>Naive Bayes</td>\n",
       "      <td>0.1727</td>\n",
       "      <td>0.6113</td>\n",
       "      <td>0.1727</td>\n",
       "      <td>0.4851</td>\n",
       "      <td>0.2305</td>\n",
       "      <td>0.0440</td>\n",
       "      <td>0.0668</td>\n",
       "      <td>0.554</td>\n",
       "    </tr>\n",
       "    <tr>\n",
       "      <th>qda</th>\n",
       "      <td>Quadratic Discriminant Analysis</td>\n",
       "      <td>0.1468</td>\n",
       "      <td>0.5607</td>\n",
       "      <td>0.1468</td>\n",
       "      <td>0.4913</td>\n",
       "      <td>0.1667</td>\n",
       "      <td>0.0219</td>\n",
       "      <td>0.0305</td>\n",
       "      <td>1.722</td>\n",
       "    </tr>\n",
       "  </tbody>\n",
       "</table>\n",
       "</div>"
      ],
      "text/plain": [
       "                                    Model  Accuracy     AUC  Recall   Prec.  \\\n",
       "lightgbm  Light Gradient Boosting Machine    0.7984  0.9346  0.7984  0.7967   \n",
       "gbc          Gradient Boosting Classifier    0.7856  0.9257  0.7856  0.7874   \n",
       "knn                K Neighbors Classifier    0.7654  0.8995  0.7654  0.7584   \n",
       "dt               Decision Tree Classifier    0.7370  0.7975  0.7370  0.7367   \n",
       "rf               Random Forest Classifier    0.7059  0.8647  0.7059  0.6970   \n",
       "et                 Extra Trees Classifier    0.6865  0.8441  0.6865  0.6704   \n",
       "ada                  Ada Boost Classifier    0.6740  0.8018  0.6740  0.6928   \n",
       "lda          Linear Discriminant Analysis    0.6354  0.8007  0.6354  0.6153   \n",
       "ridge                    Ridge Classifier    0.6348  0.0000  0.6348  0.6066   \n",
       "lr                    Logistic Regression    0.6016  0.7410  0.6016  0.5689   \n",
       "dummy                    Dummy Classifier    0.4198  0.5000  0.4198  0.1763   \n",
       "svm                   SVM - Linear Kernel    0.3852  0.0000  0.3852  0.5466   \n",
       "nb                            Naive Bayes    0.1727  0.6113  0.1727  0.4851   \n",
       "qda       Quadratic Discriminant Analysis    0.1468  0.5607  0.1468  0.4913   \n",
       "\n",
       "              F1   Kappa     MCC  TT (Sec)  \n",
       "lightgbm  0.7936  0.6741  0.6763     3.254  \n",
       "gbc       0.7767  0.6492  0.6541    43.249  \n",
       "knn       0.7579  0.6201  0.6225     2.587  \n",
       "dt        0.7367  0.5837  0.5837     1.283  \n",
       "rf        0.6759  0.5073  0.5176     5.141  \n",
       "et        0.6587  0.4762  0.4843     8.381  \n",
       "ada       0.6504  0.4556  0.4758     3.288  \n",
       "lda       0.6153  0.3972  0.4020     2.142  \n",
       "ridge     0.5936  0.3808  0.3914     0.576  \n",
       "lr        0.5481  0.3225  0.3496    20.668  \n",
       "dummy     0.2483  0.0000  0.0000     0.277  \n",
       "svm       0.3529  0.1295  0.1671     4.390  \n",
       "nb        0.2305  0.0440  0.0668     0.554  \n",
       "qda       0.1667  0.0219  0.0305     1.722  "
      ]
     },
     "execution_count": 14,
     "metadata": {},
     "output_type": "execute_result"
    }
   ],
   "source": [
    "pull()"
   ]
  },
  {
   "cell_type": "code",
   "execution_count": null,
   "metadata": {},
   "outputs": [],
   "source": [
    "tune = tune_model(best, search_library = 'optuna',n_iter = 20)"
   ]
  },
  {
   "cell_type": "code",
   "execution_count": null,
   "metadata": {},
   "outputs": [],
   "source": []
  },
  {
   "cell_type": "code",
   "execution_count": null,
   "metadata": {},
   "outputs": [],
   "source": []
  }
 ],
 "metadata": {
  "kernelspec": {
   "display_name": "mlp",
   "language": "python",
   "name": "python3"
  },
  "language_info": {
   "codemirror_mode": {
    "name": "ipython",
    "version": 3
   },
   "file_extension": ".py",
   "mimetype": "text/x-python",
   "name": "python",
   "nbconvert_exporter": "python",
   "pygments_lexer": "ipython3",
   "version": "3.10.11"
  },
  "orig_nbformat": 4
 },
 "nbformat": 4,
 "nbformat_minor": 2
}
