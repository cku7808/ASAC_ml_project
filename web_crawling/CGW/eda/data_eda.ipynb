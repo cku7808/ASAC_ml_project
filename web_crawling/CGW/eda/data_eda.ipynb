{
 "cells": [
  {
   "cell_type": "code",
   "execution_count": 8,
   "metadata": {},
   "outputs": [],
   "source": [
    "%matplotlib inline\n",
    "import pandas as pd\n",
    "import numpy as np\n",
    "import matplotlib.pyplot as plt"
   ]
  },
  {
   "cell_type": "code",
   "execution_count": 3,
   "metadata": {},
   "outputs": [],
   "source": [
    "path = r\"C:\\Users\\NT550-052\\OneDrive\\바탕 화면\\ASAC\\프로젝트\\ML\\web_crawling\\CGW\\finaldata\\finaldata_gw.csv\""
   ]
  },
  {
   "cell_type": "code",
   "execution_count": 5,
   "metadata": {},
   "outputs": [
    {
     "data": {
      "text/html": [
       "<div>\n",
       "<style scoped>\n",
       "    .dataframe tbody tr th:only-of-type {\n",
       "        vertical-align: middle;\n",
       "    }\n",
       "\n",
       "    .dataframe tbody tr th {\n",
       "        vertical-align: top;\n",
       "    }\n",
       "\n",
       "    .dataframe thead th {\n",
       "        text-align: right;\n",
       "    }\n",
       "</style>\n",
       "<table border=\"1\" class=\"dataframe\">\n",
       "  <thead>\n",
       "    <tr style=\"text-align: right;\">\n",
       "      <th></th>\n",
       "      <th>appid</th>\n",
       "      <th>24_Hour_Peak</th>\n",
       "      <th>All_time_peak</th>\n",
       "      <th>positive</th>\n",
       "      <th>negative</th>\n",
       "      <th>average_forever</th>\n",
       "      <th>average_2weeks</th>\n",
       "      <th>median_forever</th>\n",
       "      <th>median_2weeks</th>\n",
       "      <th>price</th>\n",
       "      <th>...</th>\n",
       "      <th>metacritic_tf</th>\n",
       "      <th>windows</th>\n",
       "      <th>mac</th>\n",
       "      <th>linux</th>\n",
       "      <th>platforms_num</th>\n",
       "      <th>recommendations</th>\n",
       "      <th>achievements</th>\n",
       "      <th>new_date</th>\n",
       "      <th>days_after_release</th>\n",
       "      <th>Review</th>\n",
       "    </tr>\n",
       "  </thead>\n",
       "  <tbody>\n",
       "    <tr>\n",
       "      <th>0</th>\n",
       "      <td>294100</td>\n",
       "      <td>20930</td>\n",
       "      <td>60742</td>\n",
       "      <td>157344</td>\n",
       "      <td>3038</td>\n",
       "      <td>12492</td>\n",
       "      <td>1401</td>\n",
       "      <td>5368</td>\n",
       "      <td>921</td>\n",
       "      <td>34.99</td>\n",
       "      <td>...</td>\n",
       "      <td>1</td>\n",
       "      <td>1.0</td>\n",
       "      <td>1.0</td>\n",
       "      <td>1.0</td>\n",
       "      <td>3.0</td>\n",
       "      <td>134967.0</td>\n",
       "      <td>0.0</td>\n",
       "      <td>2018-10-17</td>\n",
       "      <td>1675</td>\n",
       "      <td>Overwhelmingly Positive</td>\n",
       "    </tr>\n",
       "    <tr>\n",
       "      <th>1</th>\n",
       "      <td>960090</td>\n",
       "      <td>13428</td>\n",
       "      <td>53891</td>\n",
       "      <td>246979</td>\n",
       "      <td>6441</td>\n",
       "      <td>4018</td>\n",
       "      <td>277</td>\n",
       "      <td>1532</td>\n",
       "      <td>62</td>\n",
       "      <td>13.99</td>\n",
       "      <td>...</td>\n",
       "      <td>0</td>\n",
       "      <td>1.0</td>\n",
       "      <td>1.0</td>\n",
       "      <td>0.0</td>\n",
       "      <td>2.0</td>\n",
       "      <td>222889.0</td>\n",
       "      <td>146.0</td>\n",
       "      <td>2018-12-18</td>\n",
       "      <td>1613</td>\n",
       "      <td>Overwhelmingly Positive</td>\n",
       "    </tr>\n",
       "    <tr>\n",
       "      <th>2</th>\n",
       "      <td>504230</td>\n",
       "      <td>1234</td>\n",
       "      <td>4148</td>\n",
       "      <td>71428</td>\n",
       "      <td>1686</td>\n",
       "      <td>1316</td>\n",
       "      <td>310</td>\n",
       "      <td>370</td>\n",
       "      <td>582</td>\n",
       "      <td>19.99</td>\n",
       "      <td>...</td>\n",
       "      <td>1</td>\n",
       "      <td>1.0</td>\n",
       "      <td>1.0</td>\n",
       "      <td>1.0</td>\n",
       "      <td>3.0</td>\n",
       "      <td>66397.0</td>\n",
       "      <td>32.0</td>\n",
       "      <td>2018-01-25</td>\n",
       "      <td>1940</td>\n",
       "      <td>Overwhelmingly Positive</td>\n",
       "    </tr>\n",
       "    <tr>\n",
       "      <th>3</th>\n",
       "      <td>588650</td>\n",
       "      <td>4553</td>\n",
       "      <td>14880</td>\n",
       "      <td>128085</td>\n",
       "      <td>3722</td>\n",
       "      <td>1841</td>\n",
       "      <td>183</td>\n",
       "      <td>868</td>\n",
       "      <td>213</td>\n",
       "      <td>14.99</td>\n",
       "      <td>...</td>\n",
       "      <td>1</td>\n",
       "      <td>1.0</td>\n",
       "      <td>1.0</td>\n",
       "      <td>1.0</td>\n",
       "      <td>3.0</td>\n",
       "      <td>113184.0</td>\n",
       "      <td>121.0</td>\n",
       "      <td>2018-08-06</td>\n",
       "      <td>1747</td>\n",
       "      <td>Overwhelmingly Positive</td>\n",
       "    </tr>\n",
       "    <tr>\n",
       "      <th>4</th>\n",
       "      <td>264710</td>\n",
       "      <td>4205</td>\n",
       "      <td>50876</td>\n",
       "      <td>221972</td>\n",
       "      <td>7800</td>\n",
       "      <td>1943</td>\n",
       "      <td>313</td>\n",
       "      <td>941</td>\n",
       "      <td>277</td>\n",
       "      <td>29.99</td>\n",
       "      <td>...</td>\n",
       "      <td>1</td>\n",
       "      <td>1.0</td>\n",
       "      <td>1.0</td>\n",
       "      <td>0.0</td>\n",
       "      <td>2.0</td>\n",
       "      <td>208334.0</td>\n",
       "      <td>17.0</td>\n",
       "      <td>2018-01-24</td>\n",
       "      <td>1941</td>\n",
       "      <td>Overwhelmingly Positive</td>\n",
       "    </tr>\n",
       "  </tbody>\n",
       "</table>\n",
       "<p>5 rows × 28 columns</p>\n",
       "</div>"
      ],
      "text/plain": [
       "    appid  24_Hour_Peak  All_time_peak  positive  negative  average_forever   \n",
       "0  294100         20930          60742    157344      3038            12492  \\\n",
       "1  960090         13428          53891    246979      6441             4018   \n",
       "2  504230          1234           4148     71428      1686             1316   \n",
       "3  588650          4553          14880    128085      3722             1841   \n",
       "4  264710          4205          50876    221972      7800             1943   \n",
       "\n",
       "   average_2weeks  median_forever  median_2weeks  price  ...  metacritic_tf   \n",
       "0            1401            5368            921  34.99  ...              1  \\\n",
       "1             277            1532             62  13.99  ...              0   \n",
       "2             310             370            582  19.99  ...              1   \n",
       "3             183             868            213  14.99  ...              1   \n",
       "4             313             941            277  29.99  ...              1   \n",
       "\n",
       "  windows  mac  linux  platforms_num  recommendations  achievements   \n",
       "0     1.0  1.0    1.0            3.0         134967.0           0.0  \\\n",
       "1     1.0  1.0    0.0            2.0         222889.0         146.0   \n",
       "2     1.0  1.0    1.0            3.0          66397.0          32.0   \n",
       "3     1.0  1.0    1.0            3.0         113184.0         121.0   \n",
       "4     1.0  1.0    0.0            2.0         208334.0          17.0   \n",
       "\n",
       "     new_date  days_after_release                   Review  \n",
       "0  2018-10-17                1675  Overwhelmingly Positive  \n",
       "1  2018-12-18                1613  Overwhelmingly Positive  \n",
       "2  2018-01-25                1940  Overwhelmingly Positive  \n",
       "3  2018-08-06                1747  Overwhelmingly Positive  \n",
       "4  2018-01-24                1941  Overwhelmingly Positive  \n",
       "\n",
       "[5 rows x 28 columns]"
      ]
     },
     "execution_count": 5,
     "metadata": {},
     "output_type": "execute_result"
    }
   ],
   "source": [
    "data = pd.read_csv(path,sep=\"\\t\")\n",
    "data.head()"
   ]
  },
  {
   "cell_type": "code",
   "execution_count": 6,
   "metadata": {},
   "outputs": [
    {
     "data": {
      "text/plain": [
       "Index(['appid', '24_Hour_Peak', 'All_time_peak', 'positive', 'negative',\n",
       "       'average_forever', 'average_2weeks', 'median_forever', 'median_2weeks',\n",
       "       'price', 'initialprice', 'genre', 'num_lang', 'required_age', 'is_free',\n",
       "       'controller_support', 'dlc', 'metacritic', 'metacritic_tf', 'windows',\n",
       "       'mac', 'linux', 'platforms_num', 'recommendations', 'achievements',\n",
       "       'new_date', 'days_after_release', 'Review'],\n",
       "      dtype='object')"
      ]
     },
     "execution_count": 6,
     "metadata": {},
     "output_type": "execute_result"
    }
   ],
   "source": [
    "data.columns"
   ]
  },
  {
   "cell_type": "code",
   "execution_count": 9,
   "metadata": {},
   "outputs": [
    {
     "data": {
      "text/plain": [
       "Review\n",
       "Very Positive              7498\n",
       "Positive                   6950\n",
       "Mixed                      6575\n",
       "Mostly Positive            4701\n",
       "1 user reviews             3706\n",
       "2 user reviews             2908\n",
       "3 user reviews             2343\n",
       "4 user reviews             1940\n",
       "No user reviews            1815\n",
       "5 user reviews             1669\n",
       "6 user reviews             1423\n",
       "7 user reviews             1244\n",
       "8 user reviews             1100\n",
       "Mostly Negative             957\n",
       "9 user reviews              948\n",
       "Overwhelmingly Positive     270\n",
       "Negative                    185\n",
       "Very Negative                17\n",
       "Overwhelmingly Negative       3\n",
       "Name: count, dtype: int64"
      ]
     },
     "execution_count": 9,
     "metadata": {},
     "output_type": "execute_result"
    }
   ],
   "source": [
    "data[\"Review\"].value_counts()"
   ]
  },
  {
   "cell_type": "code",
   "execution_count": 16,
   "metadata": {},
   "outputs": [
    {
     "data": {
      "text/plain": [
       "0        Positive\n",
       "1        Positive\n",
       "2        Positive\n",
       "3        Positive\n",
       "4        Positive\n",
       "           ...   \n",
       "46247    Negative\n",
       "46248    Negative\n",
       "46249    Negative\n",
       "46250    Negative\n",
       "46251    Negative\n",
       "Name: Review, Length: 46252, dtype: object"
      ]
     },
     "execution_count": 16,
     "metadata": {},
     "output_type": "execute_result"
    }
   ],
   "source": [
    "data[\"Review\"].apply(lambda x : 'Positive' if 'Positive' in x else x).apply(lambda x : 'Negative' if 'Negative' in x else x).apply(lambda x : 'Indifference' if 'user' in x else x)"
   ]
  },
  {
   "cell_type": "code",
   "execution_count": null,
   "metadata": {},
   "outputs": [],
   "source": []
  },
  {
   "cell_type": "code",
   "execution_count": null,
   "metadata": {},
   "outputs": [],
   "source": []
  },
  {
   "cell_type": "code",
   "execution_count": null,
   "metadata": {},
   "outputs": [],
   "source": []
  },
  {
   "cell_type": "code",
   "execution_count": null,
   "metadata": {},
   "outputs": [],
   "source": []
  }
 ],
 "metadata": {
  "kernelspec": {
   "display_name": "mlp",
   "language": "python",
   "name": "python3"
  },
  "language_info": {
   "codemirror_mode": {
    "name": "ipython",
    "version": 3
   },
   "file_extension": ".py",
   "mimetype": "text/x-python",
   "name": "python",
   "nbconvert_exporter": "python",
   "pygments_lexer": "ipython3",
   "version": "3.10.11"
  },
  "orig_nbformat": 4
 },
 "nbformat": 4,
 "nbformat_minor": 2
}
