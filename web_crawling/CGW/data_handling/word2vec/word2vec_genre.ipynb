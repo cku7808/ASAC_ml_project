{
 "cells": [
  {
   "cell_type": "code",
   "execution_count": 71,
   "metadata": {},
   "outputs": [],
   "source": [
    "import re\n",
    "import urllib.request\n",
    "import zipfile\n",
    "from lxml import etree\n",
    "from nltk.tokenize import word_tokenize, sent_tokenize\n",
    "import pandas as pd"
   ]
  },
  {
   "cell_type": "code",
   "execution_count": 72,
   "metadata": {},
   "outputs": [],
   "source": [
    "data = [\n",
    "    \"action\",\"arcade & rhythm\",\"fighting & martial arts\", \"first-person shooter\",\"hack & slash\",\"platformer & runner\",\n",
    "    \"third-person shooter\", \"shmup\",\"role-playing\",\"action rpg\",\"adventure rpg\",\"jrpg\",\"party-based\",\"rogue-like\",\"strategy rpg\",\n",
    "    \"turn-based\",\"strategy\",\"card & board\",\"city & settlement\",\"grand & 4x\",\"military\",\"real-time strategy\",\"tower defense\",\"turn-based strategy\",\n",
    "    \"adventure\",\"adventure rpg\",\"casual\",\"hidden object\",\"metroidvania\",\"puzzle\",\"story-rich\",\"visual novel\",\"simulation\",\"building & automation\",\n",
    "    \"dating\",\"farming & crafting\",\"hobby & job\",\"life & immersive\",\"sandbox & physics\",\"space & flight\",\"sports & racing\",\"all sports\",\"fishing & hunting\",\n",
    "    \"individual sports\",\"racing\",\"racing sim\",\"sports sim\",\"team sports\"\n",
    "]\n",
    "data = list(set(data))"
   ]
  },
  {
   "cell_type": "code",
   "execution_count": 73,
   "metadata": {},
   "outputs": [],
   "source": [
    "normalized_text = []\n",
    "for string in data:\n",
    "     tokens = re.sub(r\"[^a-z0-9]+\", \" \", string.lower())\n",
    "     normalized_text.append(tokens)\n",
    "\n",
    "# 각 문장에 대해서 NLTK를 이용하여 단어 토큰화를 수행.\n",
    "# result = [word_tokenize(sentence) for sentence in normalized_text]\n",
    "result = [[sentence] for sentence in normalized_text]"
   ]
  },
  {
   "cell_type": "code",
   "execution_count": 74,
   "metadata": {},
   "outputs": [
    {
     "data": {
      "text/plain": [
       "[['building automation'],\n",
       " ['life immersive'],\n",
       " ['military'],\n",
       " ['real time strategy'],\n",
       " ['racing'],\n",
       " ['city settlement'],\n",
       " ['strategy'],\n",
       " ['visual novel'],\n",
       " ['farming crafting'],\n",
       " ['sandbox physics'],\n",
       " ['all sports'],\n",
       " ['role playing'],\n",
       " ['space flight'],\n",
       " ['platformer runner'],\n",
       " ['team sports'],\n",
       " ['metroidvania'],\n",
       " ['tower defense'],\n",
       " ['fighting martial arts'],\n",
       " ['adventure rpg'],\n",
       " ['individual sports'],\n",
       " ['grand 4x'],\n",
       " ['story rich'],\n",
       " ['rogue like'],\n",
       " ['simulation'],\n",
       " ['racing sim'],\n",
       " ['party based'],\n",
       " ['dating'],\n",
       " ['adventure'],\n",
       " ['first person shooter'],\n",
       " ['hidden object'],\n",
       " ['puzzle'],\n",
       " ['sports sim'],\n",
       " ['third person shooter'],\n",
       " ['hobby job'],\n",
       " ['hack slash'],\n",
       " ['turn based strategy'],\n",
       " ['jrpg'],\n",
       " ['card board'],\n",
       " ['sports racing'],\n",
       " ['arcade rhythm'],\n",
       " ['action rpg'],\n",
       " ['strategy rpg'],\n",
       " ['fishing hunting'],\n",
       " ['shmup'],\n",
       " ['casual'],\n",
       " ['turn based'],\n",
       " ['action']]"
      ]
     },
     "execution_count": 74,
     "metadata": {},
     "output_type": "execute_result"
    }
   ],
   "source": [
    "result"
   ]
  },
  {
   "cell_type": "code",
   "execution_count": 75,
   "metadata": {},
   "outputs": [
    {
     "name": "stdout",
     "output_type": "stream",
     "text": [
      "총 샘플의 개수 : 47\n"
     ]
    }
   ],
   "source": [
    "print('총 샘플의 개수 : {}'.format(len(result)))"
   ]
  },
  {
   "cell_type": "code",
   "execution_count": 76,
   "metadata": {},
   "outputs": [
    {
     "data": {
      "text/plain": [
       "(114, 470)"
      ]
     },
     "execution_count": 76,
     "metadata": {},
     "output_type": "execute_result"
    }
   ],
   "source": [
    "from gensim.models import Word2Vec\n",
    "model = Word2Vec(result,min_count=1,workers=4, sg=1)\n",
    "model.build_vocab(corpus_iterable=result)\n",
    "model.train(corpus_iterable=result, total_examples=len(result), epochs=10)"
   ]
  },
  {
   "cell_type": "code",
   "execution_count": 77,
   "metadata": {},
   "outputs": [
    {
     "data": {
      "text/plain": [
       "array([ 7.0887972e-03, -1.5679300e-03,  7.9474989e-03, -9.4886590e-03,\n",
       "       -8.0294991e-03, -6.6403709e-03, -4.0034545e-03,  4.9892161e-03,\n",
       "       -3.8135587e-03, -8.3199050e-03,  8.4117772e-03, -3.7470020e-03,\n",
       "        8.6086961e-03, -4.8957514e-03,  3.9185942e-03,  4.9220170e-03,\n",
       "        2.3926091e-03, -2.8188038e-03,  2.8491246e-03, -8.2562361e-03,\n",
       "       -2.7655398e-03, -2.5911583e-03,  7.2490061e-03, -3.4634031e-03,\n",
       "       -6.5997029e-03,  4.3404270e-03, -4.7448516e-04, -3.5975564e-03,\n",
       "        6.8824720e-03,  3.8723124e-03, -3.9002013e-03,  7.7188847e-04,\n",
       "        9.1435025e-03,  7.7546560e-03,  6.3618720e-03,  4.6673026e-03,\n",
       "        2.3844899e-03, -1.8416261e-03, -6.3712932e-03, -3.0181051e-04,\n",
       "       -1.5653884e-03, -5.7228567e-04, -6.2628710e-03,  7.4340473e-03,\n",
       "       -6.5914928e-03, -7.2392775e-03, -2.7571463e-03, -1.5154004e-03,\n",
       "       -7.6357173e-03,  6.9824100e-04, -5.3261113e-03, -1.2755442e-03,\n",
       "       -7.3651113e-03,  1.9605684e-03,  3.2731986e-03, -2.3138524e-05,\n",
       "       -5.4483581e-03, -1.7260861e-03,  7.0849168e-03,  3.7362587e-03,\n",
       "       -8.8810492e-03, -3.4135508e-03,  2.3541022e-03,  2.1380198e-03,\n",
       "       -9.4640078e-03,  4.5711659e-03, -8.6569972e-03, -7.3870681e-03,\n",
       "        3.4831120e-03, -3.4709584e-03,  3.5644709e-03,  8.8940905e-03,\n",
       "       -3.5743224e-03,  9.3204249e-03,  1.7110384e-03,  9.8477742e-03,\n",
       "        5.7050432e-03, -9.1494834e-03, -3.3277308e-03,  6.5301750e-03,\n",
       "        5.6027793e-03,  8.7055154e-03,  6.9261026e-03,  8.0388878e-03,\n",
       "       -9.8230084e-03,  4.2988253e-03, -5.0300765e-03,  3.5123860e-03,\n",
       "        6.0566878e-03,  4.3921317e-03,  7.5123594e-03,  1.4977157e-03,\n",
       "       -1.2649416e-03,  5.7684006e-03, -5.6395675e-03,  3.8591625e-05,\n",
       "        9.4565870e-03, -5.4812501e-03,  3.8142789e-03, -8.1130210e-03],\n",
       "      dtype=float32)"
      ]
     },
     "execution_count": 77,
     "metadata": {},
     "output_type": "execute_result"
    }
   ],
   "source": [
    "model.wv['all sports']"
   ]
  },
  {
   "cell_type": "code",
   "execution_count": 78,
   "metadata": {},
   "outputs": [
    {
     "data": {
      "text/plain": [
       "[('shmup', 0.2685850262641907),\n",
       " ('turn based strategy', 0.14284475147724152),\n",
       " ('space flight', 0.12813477218151093),\n",
       " ('role playing', 0.10941850394010544),\n",
       " ('visual novel', 0.1088901236653328),\n",
       " ('simulation', 0.10807985067367554),\n",
       " ('racing sim', 0.10195513069629669),\n",
       " ('rogue like', 0.09932279586791992),\n",
       " ('fighting martial arts', 0.09614861756563187),\n",
       " ('individual sports', 0.08635812252759933)]"
      ]
     },
     "execution_count": 78,
     "metadata": {},
     "output_type": "execute_result"
    }
   ],
   "source": [
    "model.wv.most_similar(\"all sports\")"
   ]
  },
  {
   "cell_type": "code",
   "execution_count": 79,
   "metadata": {},
   "outputs": [],
   "source": [
    "# 단어 유사도\n",
    "# model.wv.similarity('sportsracing', 'allsports')"
   ]
  },
  {
   "cell_type": "code",
   "execution_count": 80,
   "metadata": {},
   "outputs": [],
   "source": [
    "from sklearn.cluster import KMeans\n",
    "\n",
    "word_vectors = model.wv.vectors # 어휘의 feature vector\n"
   ]
  },
  {
   "cell_type": "code",
   "execution_count": 81,
   "metadata": {},
   "outputs": [
    {
     "data": {
      "text/plain": [
       "(47, 100)"
      ]
     },
     "execution_count": 81,
     "metadata": {},
     "output_type": "execute_result"
    }
   ],
   "source": [
    "word_vectors.shape"
   ]
  },
  {
   "cell_type": "code",
   "execution_count": 82,
   "metadata": {},
   "outputs": [
    {
     "name": "stdout",
     "output_type": "stream",
     "text": [
      "9\n"
     ]
    }
   ],
   "source": [
    "num_clusters = int(word_vectors.shape[0]/5) # 어휘 크기의 1/5나 평균 5단어\n",
    "print(num_clusters)\n",
    "num_clusters = int(num_clusters)"
   ]
  },
  {
   "cell_type": "code",
   "execution_count": 83,
   "metadata": {},
   "outputs": [
    {
     "name": "stderr",
     "output_type": "stream",
     "text": [
      "c:\\anaconda\\envs\\edap\\lib\\site-packages\\sklearn\\cluster\\_kmeans.py:870: FutureWarning: The default value of `n_init` will change from 10 to 'auto' in 1.4. Set the value of `n_init` explicitly to suppress the warning\n",
      "  warnings.warn(\n"
     ]
    }
   ],
   "source": [
    "kmeans_clustering = KMeans(n_clusters=num_clusters)\n",
    "idx = kmeans_clustering.fit_predict(word_vectors)\n",
    "\n",
    "idx = list(idx)\n",
    "names = model.wv.index_to_key\n",
    "word_centroid_map = {names[i]: idx[i] for i in range(len(names))}"
   ]
  },
  {
   "cell_type": "code",
   "execution_count": 84,
   "metadata": {},
   "outputs": [
    {
     "name": "stdout",
     "output_type": "stream",
     "text": [
      "\n",
      "cluster 0\n",
      "['sandbox physics', 'casual', 'building automation']\n",
      "\n",
      "cluster 1\n",
      "['role playing', 'grand 4x', 'fighting martial arts', 'tower defense', 'city settlement', 'real time strategy', 'military', 'strategy rpg', 'jrpg', 'hack slash', 'puzzle']\n",
      "\n",
      "cluster 2\n",
      "['platformer runner', 'strategy', 'racing', 'story rich', 'simulation', 'arcade rhythm', 'sports racing', 'party based']\n",
      "\n",
      "cluster 3\n",
      "['all sports', 'turn based', 'turn based strategy', 'action rpg']\n",
      "\n",
      "cluster 4\n",
      "['individual sports', 'team sports', 'visual novel', 'card board', 'first person shooter', 'dating']\n",
      "\n",
      "cluster 5\n",
      "['metroidvania', 'rogue like', 'life immersive', 'sports sim', 'hidden object']\n",
      "\n",
      "cluster 6\n",
      "['fishing hunting', 'racing sim']\n",
      "\n",
      "cluster 7\n",
      "['adventure rpg', 'space flight', 'shmup', 'hobby job', 'third person shooter']\n",
      "\n",
      "cluster 8\n",
      "['action', 'farming crafting', 'adventure']\n"
     ]
    }
   ],
   "source": [
    "for c in range(num_clusters):\n",
    "    # 클러스터 번호를 출력\n",
    "    print(\"\\ncluster {}\".format(c))\n",
    "    \n",
    "    words = []\n",
    "    cluster_values = list(word_centroid_map.values())\n",
    "    for i in range(len(cluster_values)):\n",
    "        if (cluster_values[i] == c):\n",
    "            words.append(list(word_centroid_map.keys())[i])            \n",
    "    print(words)"
   ]
  }
 ],
 "metadata": {
  "kernelspec": {
   "display_name": "edap",
   "language": "python",
   "name": "python3"
  },
  "language_info": {
   "codemirror_mode": {
    "name": "ipython",
    "version": 3
   },
   "file_extension": ".py",
   "mimetype": "text/x-python",
   "name": "python",
   "nbconvert_exporter": "python",
   "pygments_lexer": "ipython3",
   "version": "3.10.0"
  },
  "orig_nbformat": 4
 },
 "nbformat": 4,
 "nbformat_minor": 2
}
