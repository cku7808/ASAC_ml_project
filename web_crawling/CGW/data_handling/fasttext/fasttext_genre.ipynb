{
 "cells": [
  {
   "cell_type": "code",
   "execution_count": 62,
   "metadata": {},
   "outputs": [],
   "source": [
    "import re\n",
    "import urllib.request\n",
    "import zipfile\n",
    "from lxml import etree\n",
    "from nltk.tokenize import word_tokenize, sent_tokenize\n",
    "import pandas as pd"
   ]
  },
  {
   "cell_type": "code",
   "execution_count": 63,
   "metadata": {},
   "outputs": [],
   "source": [
    "data = [\n",
    "    \"action\",\"arcade & rhythm\",\"fighting & martial arts\", \"first-person shooter\",\"hack & slash\",\"platformer & runner\",\n",
    "    \"third-person shooter\", \"shmup\",\"role-playing\",\"action rpg\",\"adventure rpg\",\"jrpg\",\"party-based\",\"rogue-like\",\"strategy rpg\",\n",
    "    \"turn-based\",\"strategy\",\"card & board\",\"city & settlement\",\"grand & 4x\",\"military\",\"real-time strategy\",\"tower defense\",\"turn-based strategy\",\n",
    "    \"adventure\",\"adventure rpg\",\"casual\",\"hidden object\",\"metroidvania\",\"puzzle\",\"story-rich\",\"visual novel\",\"simulation\",\"building & automation\",\n",
    "    \"dating\",\"farming & crafting\",\"hobby & job\",\"life & immersive\",\"sandbox & physics\",\"space & flight\",\"sports & racing\",\"all sports\",\"fishing & hunting\",\n",
    "    \"individual sports\",\"racing\",\"racing sim\",\"sports sim\",\"team sports\"\n",
    "]\n",
    "data = list(set(data))"
   ]
  },
  {
   "cell_type": "code",
   "execution_count": 64,
   "metadata": {},
   "outputs": [],
   "source": [
    "normalized_text = []\n",
    "for string in data:\n",
    "     tokens = re.sub(r\"[^a-z0-9]+\", \" \", string.lower())\n",
    "     normalized_text.append(tokens)\n",
    "\n",
    "# 각 문장에 대해서 NLTK를 이용하여 단어 토큰화를 수행.\n",
    "# result = [word_tokenize(sentence) for sentence in normalized_text]\n",
    "result = [[sentence] for sentence in normalized_text]"
   ]
  },
  {
   "cell_type": "code",
   "execution_count": 65,
   "metadata": {},
   "outputs": [
    {
     "data": {
      "text/plain": [
       "[['visual novel'],\n",
       " ['first person shooter'],\n",
       " ['fighting martial arts'],\n",
       " ['military'],\n",
       " ['arcade rhythm'],\n",
       " ['sports racing'],\n",
       " ['racing sim'],\n",
       " ['rogue like'],\n",
       " ['action rpg'],\n",
       " ['all sports'],\n",
       " ['third person shooter'],\n",
       " ['grand 4x'],\n",
       " ['hack slash'],\n",
       " ['jrpg'],\n",
       " ['story rich'],\n",
       " ['card board'],\n",
       " ['sandbox physics'],\n",
       " ['strategy rpg'],\n",
       " ['puzzle'],\n",
       " ['real time strategy'],\n",
       " ['hidden object'],\n",
       " ['platformer runner'],\n",
       " ['strategy'],\n",
       " ['simulation'],\n",
       " ['adventure'],\n",
       " ['life immersive'],\n",
       " ['hobby job'],\n",
       " ['dating'],\n",
       " ['city settlement'],\n",
       " ['building automation'],\n",
       " ['casual'],\n",
       " ['fishing hunting'],\n",
       " ['party based'],\n",
       " ['turn based strategy'],\n",
       " ['role playing'],\n",
       " ['sports sim'],\n",
       " ['farming crafting'],\n",
       " ['racing'],\n",
       " ['individual sports'],\n",
       " ['tower defense'],\n",
       " ['space flight'],\n",
       " ['action'],\n",
       " ['metroidvania'],\n",
       " ['turn based'],\n",
       " ['team sports'],\n",
       " ['shmup'],\n",
       " ['adventure rpg']]"
      ]
     },
     "execution_count": 65,
     "metadata": {},
     "output_type": "execute_result"
    }
   ],
   "source": [
    "result"
   ]
  },
  {
   "cell_type": "code",
   "execution_count": 66,
   "metadata": {},
   "outputs": [
    {
     "name": "stdout",
     "output_type": "stream",
     "text": [
      "총 샘플의 개수 : 47\n"
     ]
    }
   ],
   "source": [
    "print('총 샘플의 개수 : {}'.format(len(result)))"
   ]
  },
  {
   "cell_type": "code",
   "execution_count": 67,
   "metadata": {},
   "outputs": [
    {
     "data": {
      "text/plain": [
       "(114, 470)"
      ]
     },
     "execution_count": 67,
     "metadata": {},
     "output_type": "execute_result"
    }
   ],
   "source": [
    "from gensim.models import FastText\n",
    "model = FastText(result,min_count=1,workers=4, sg=1)\n",
    "model.build_vocab(corpus_iterable=result)\n",
    "model.train(corpus_iterable=result, total_examples=len(result), epochs=10)"
   ]
  },
  {
   "cell_type": "code",
   "execution_count": 68,
   "metadata": {},
   "outputs": [
    {
     "data": {
      "text/plain": [
       "[('individual sports', 0.4489245116710663),\n",
       " ('team sports', 0.3898385465145111),\n",
       " ('sports sim', 0.2855340540409088),\n",
       " ('arcade rhythm', 0.2211601585149765),\n",
       " ('turn based strategy', 0.2140343338251114),\n",
       " ('sports racing', 0.20826105773448944),\n",
       " ('visual novel', 0.1984509378671646),\n",
       " ('racing', 0.16095691919326782),\n",
       " ('card board', 0.14919812977313995),\n",
       " ('sandbox physics', 0.147965207695961)]"
      ]
     },
     "execution_count": 68,
     "metadata": {},
     "output_type": "execute_result"
    }
   ],
   "source": [
    "model.wv.most_similar(\"all sports\")"
   ]
  },
  {
   "cell_type": "code",
   "execution_count": 69,
   "metadata": {},
   "outputs": [
    {
     "data": {
      "text/plain": [
       "0.20826103"
      ]
     },
     "execution_count": 69,
     "metadata": {},
     "output_type": "execute_result"
    }
   ],
   "source": [
    "# 단어 유사도\n",
    "model.wv.similarity('sports racing', 'all sports')"
   ]
  },
  {
   "cell_type": "code",
   "execution_count": 70,
   "metadata": {},
   "outputs": [],
   "source": [
    "from sklearn.cluster import KMeans\n",
    "\n",
    "word_vectors = model.wv.vectors # 어휘의 feature vector\n"
   ]
  },
  {
   "cell_type": "code",
   "execution_count": 71,
   "metadata": {},
   "outputs": [
    {
     "data": {
      "text/plain": [
       "(47, 100)"
      ]
     },
     "execution_count": 71,
     "metadata": {},
     "output_type": "execute_result"
    }
   ],
   "source": [
    "word_vectors.shape"
   ]
  },
  {
   "cell_type": "code",
   "execution_count": 85,
   "metadata": {},
   "outputs": [
    {
     "name": "stdout",
     "output_type": "stream",
     "text": [
      "11\n"
     ]
    }
   ],
   "source": [
    "num_clusters = int(word_vectors.shape[0]/4) # 어휘 크기의 1/5나 평균 5단어\n",
    "print(num_clusters)\n",
    "num_clusters = int(num_clusters)"
   ]
  },
  {
   "cell_type": "code",
   "execution_count": 86,
   "metadata": {},
   "outputs": [
    {
     "name": "stderr",
     "output_type": "stream",
     "text": [
      "c:\\anaconda\\envs\\edap\\lib\\site-packages\\sklearn\\cluster\\_kmeans.py:870: FutureWarning: The default value of `n_init` will change from 10 to 'auto' in 1.4. Set the value of `n_init` explicitly to suppress the warning\n",
      "  warnings.warn(\n"
     ]
    }
   ],
   "source": [
    "kmeans_clustering = KMeans(n_clusters=num_clusters)\n",
    "idx = kmeans_clustering.fit_predict(word_vectors)\n",
    "\n",
    "idx = list(idx)\n",
    "names = model.wv.index_to_key\n",
    "word_centroid_map = {names[i]: idx[i] for i in range(len(names))}"
   ]
  },
  {
   "cell_type": "code",
   "execution_count": 87,
   "metadata": {},
   "outputs": [
    {
     "name": "stdout",
     "output_type": "stream",
     "text": [
      "\n",
      "cluster 0\n",
      "['sports racing', 'sports sim', 'racing']\n",
      "\n",
      "cluster 1\n",
      "['rogue like', 'platformer runner', 'simulation', 'space flight', 'farming crafting', 'role playing', 'party based', 'fishing hunting', 'building automation', 'dating', 'hobby job']\n",
      "\n",
      "cluster 2\n",
      "['action']\n",
      "\n",
      "cluster 3\n",
      "['hack slash', 'first person shooter', 'tower defense', 'casual']\n",
      "\n",
      "cluster 4\n",
      "['jrpg']\n",
      "\n",
      "cluster 5\n",
      "['puzzle']\n",
      "\n",
      "cluster 6\n",
      "['team sports']\n",
      "\n",
      "cluster 7\n",
      "['hidden object', 'real time strategy', 'sandbox physics', 'card board', 'story rich', 'third person shooter', 'all sports', 'racing sim', 'arcade rhythm', 'military', 'fighting martial arts', 'turn based', 'metroidvania', 'individual sports', 'turn based strategy', 'city settlement', 'life immersive', 'visual novel']\n",
      "\n",
      "cluster 8\n",
      "['grand 4x']\n",
      "\n",
      "cluster 9\n",
      "['adventure rpg', 'strategy rpg', 'strategy', 'action rpg', 'adventure']\n",
      "\n",
      "cluster 10\n",
      "['shmup']\n"
     ]
    }
   ],
   "source": [
    "for c in range(num_clusters):\n",
    "    # 클러스터 번호를 출력\n",
    "    print(\"\\ncluster {}\".format(c))\n",
    "    \n",
    "    words = []\n",
    "    cluster_values = list(word_centroid_map.values())\n",
    "    for i in range(len(cluster_values)):\n",
    "        if (cluster_values[i] == c):\n",
    "            words.append(list(word_centroid_map.keys())[i])            \n",
    "    print(words)"
   ]
  }
 ],
 "metadata": {
  "kernelspec": {
   "display_name": "edap",
   "language": "python",
   "name": "python3"
  },
  "language_info": {
   "codemirror_mode": {
    "name": "ipython",
    "version": 3
   },
   "file_extension": ".py",
   "mimetype": "text/x-python",
   "name": "python",
   "nbconvert_exporter": "python",
   "pygments_lexer": "ipython3",
   "version": "3.10.0"
  },
  "orig_nbformat": 4
 },
 "nbformat": 4,
 "nbformat_minor": 2
}
