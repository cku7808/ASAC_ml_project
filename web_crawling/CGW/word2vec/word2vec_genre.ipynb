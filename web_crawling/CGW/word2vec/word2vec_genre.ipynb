{
 "cells": [
  {
   "cell_type": "code",
   "execution_count": 1,
   "metadata": {},
   "outputs": [],
   "source": [
    "import re\n",
    "import urllib.request\n",
    "import zipfile\n",
    "from lxml import etree\n",
    "from nltk.tokenize import word_tokenize, sent_tokenize\n",
    "import pandas as pd"
   ]
  },
  {
   "cell_type": "code",
   "execution_count": 2,
   "metadata": {},
   "outputs": [],
   "source": [
    "data = [\n",
    "    \"action\",\"arcade & rhythm\",\"fighting & martial arts\", \"first-person shooter\",\"hack & slash\",\"platformer & runner\",\n",
    "    \"third-person shooter\", \"shmup\",\"role-playing\",\"action rpg\",\"adventure rpg\",\"jrpg\",\"party-based\",\"rogue-like\",\"strategy rpg\",\n",
    "    \"turn-based\",\"strategy\",\"card & board\",\"city & settlement\",\"grand & 4x\",\"military\",\"real-time strategy\",\"tower defense\",\"turn-based strategy\",\n",
    "    \"adventure\",\"adventure rpg\",\"casual\",\"hidden object\",\"metroidvania\",\"puzzle\",\"story-rich\",\"visual novel\",\"simulation\",\"building & automation\",\n",
    "    \"dating\",\"farming & crafting\",\"hobby & job\",\"life & immersive\",\"sandbox & physics\",\"space & flight\",\"sports & racing\",\"all sports\",\"fishing & hunting\",\n",
    "    \"individual sports\",\"racing\",\"racing sim\",\"sports sim\",\"team sports\"\n",
    "]\n",
    "data = list(set(data))"
   ]
  },
  {
   "cell_type": "code",
   "execution_count": 3,
   "metadata": {},
   "outputs": [],
   "source": [
    "normalized_text = []\n",
    "for string in data:\n",
    "     tokens = re.sub(r\"[^a-z0-9]+\", \" \", string.lower())\n",
    "     normalized_text.append(tokens)\n",
    "\n",
    "# 각 문장에 대해서 NLTK를 이용하여 단어 토큰화를 수행.\n",
    "# result = [word_tokenize(sentence) for sentence in normalized_text]\n",
    "result = [[sentence] for sentence in normalized_text]"
   ]
  },
  {
   "cell_type": "code",
   "execution_count": 4,
   "metadata": {},
   "outputs": [
    {
     "data": {
      "text/plain": [
       "[['building automation'],\n",
       " ['life immersive'],\n",
       " ['military'],\n",
       " ['real time strategy'],\n",
       " ['racing'],\n",
       " ['city settlement'],\n",
       " ['strategy'],\n",
       " ['visual novel'],\n",
       " ['farming crafting'],\n",
       " ['sandbox physics'],\n",
       " ['all sports'],\n",
       " ['role playing'],\n",
       " ['space flight'],\n",
       " ['platformer runner'],\n",
       " ['team sports'],\n",
       " ['metroidvania'],\n",
       " ['tower defense'],\n",
       " ['fighting martial arts'],\n",
       " ['adventure rpg'],\n",
       " ['individual sports'],\n",
       " ['grand 4x'],\n",
       " ['story rich'],\n",
       " ['rogue like'],\n",
       " ['simulation'],\n",
       " ['racing sim'],\n",
       " ['party based'],\n",
       " ['dating'],\n",
       " ['adventure'],\n",
       " ['first person shooter'],\n",
       " ['hidden object'],\n",
       " ['puzzle'],\n",
       " ['sports sim'],\n",
       " ['third person shooter'],\n",
       " ['hobby job'],\n",
       " ['hack slash'],\n",
       " ['turn based strategy'],\n",
       " ['jrpg'],\n",
       " ['card board'],\n",
       " ['sports racing'],\n",
       " ['arcade rhythm'],\n",
       " ['action rpg'],\n",
       " ['strategy rpg'],\n",
       " ['fishing hunting'],\n",
       " ['shmup'],\n",
       " ['casual'],\n",
       " ['turn based'],\n",
       " ['action']]"
      ]
     },
     "execution_count": 4,
     "metadata": {},
     "output_type": "execute_result"
    }
   ],
   "source": [
    "result"
   ]
  },
  {
   "cell_type": "code",
   "execution_count": 5,
   "metadata": {},
   "outputs": [
    {
     "name": "stdout",
     "output_type": "stream",
     "text": [
      "총 샘플의 개수 : 47\n"
     ]
    }
   ],
   "source": [
    "print('총 샘플의 개수 : {}'.format(len(result)))"
   ]
  },
  {
   "cell_type": "code",
   "execution_count": 7,
   "metadata": {},
   "outputs": [
    {
     "data": {
      "text/plain": [
       "(114, 470)"
      ]
     },
     "execution_count": 7,
     "metadata": {},
     "output_type": "execute_result"
    }
   ],
   "source": [
    "from gensim.models import Word2Vec\n",
    "model = Word2Vec(result,min_count=1,workers=4, sg=1)\n",
    "model.build_vocab(corpus_iterable=result)\n",
    "model.train(corpus_iterable=result, total_examples=len(result), epochs=10)"
   ]
  },
  {
   "cell_type": "code",
   "execution_count": 8,
   "metadata": {},
   "outputs": [
    {
     "data": {
      "text/plain": [
       "[('shmup', 0.2685850262641907),\n",
       " ('turn based strategy', 0.14284475147724152),\n",
       " ('space flight', 0.12813477218151093),\n",
       " ('role playing', 0.10941850394010544),\n",
       " ('visual novel', 0.1088901236653328),\n",
       " ('simulation', 0.10807985067367554),\n",
       " ('racing sim', 0.10195513069629669),\n",
       " ('rogue like', 0.09932279586791992),\n",
       " ('fighting martial arts', 0.09614861756563187),\n",
       " ('individual sports', 0.08635812252759933)]"
      ]
     },
     "execution_count": 8,
     "metadata": {},
     "output_type": "execute_result"
    }
   ],
   "source": [
    "model.wv.most_similar(\"all sports\")"
   ]
  },
  {
   "cell_type": "code",
   "execution_count": 9,
   "metadata": {},
   "outputs": [
    {
     "data": {
      "text/plain": [
       "-0.2478306"
      ]
     },
     "execution_count": 9,
     "metadata": {},
     "output_type": "execute_result"
    }
   ],
   "source": [
    "# 단어 유사도\n",
    "model.wv.similarity('sports racing', 'all sports')"
   ]
  }
 ],
 "metadata": {
  "kernelspec": {
   "display_name": "edap",
   "language": "python",
   "name": "python3"
  },
  "language_info": {
   "codemirror_mode": {
    "name": "ipython",
    "version": 3
   },
   "file_extension": ".py",
   "mimetype": "text/x-python",
   "name": "python",
   "nbconvert_exporter": "python",
   "pygments_lexer": "ipython3",
   "version": "3.10.0"
  },
  "orig_nbformat": 4
 },
 "nbformat": 4,
 "nbformat_minor": 2
}
