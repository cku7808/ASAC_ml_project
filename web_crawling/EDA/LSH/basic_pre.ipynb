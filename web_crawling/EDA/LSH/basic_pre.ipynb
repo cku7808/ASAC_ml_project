{
 "cells": [
  {
   "cell_type": "code",
   "execution_count": 1,
   "metadata": {},
   "outputs": [],
   "source": [
    "import pandas as pd\n",
    "import os\n",
    "\n",
    "from glob import glob"
   ]
  },
  {
   "cell_type": "code",
   "execution_count": 2,
   "metadata": {},
   "outputs": [
    {
     "name": "stdout",
     "output_type": "stream",
     "text": [
      "c:\\Users\\NT550-045\\Desktop\\ml2\\web_crawling\n"
     ]
    }
   ],
   "source": [
    "pwd = os.getcwd()\n",
    "basic_dir = f\"{pwd.split('web_crawling')[0]}web_crawling\"\n",
    "os.chdir(basic_dir)\n",
    "\n",
    "pwd = os.getcwd()\n",
    "print(pwd)"
   ]
  },
  {
   "cell_type": "code",
   "execution_count": 3,
   "metadata": {},
   "outputs": [
    {
     "name": "stdout",
     "output_type": "stream",
     "text": [
      "['c:\\\\Users\\\\NT550-045\\\\Desktop\\\\ml2\\\\web_crawling\\\\LSH\\\\steampy\\\\appid_2018.csv', 'c:\\\\Users\\\\NT550-045\\\\Desktop\\\\ml2\\\\web_crawling\\\\LSH\\\\steampy\\\\appid_2018_tag.csv', 'c:\\\\Users\\\\NT550-045\\\\Desktop\\\\ml2\\\\web_crawling\\\\LSH\\\\steampy\\\\appid_2019.csv', 'c:\\\\Users\\\\NT550-045\\\\Desktop\\\\ml2\\\\web_crawling\\\\LSH\\\\steampy\\\\appid_2019_tag.csv', 'c:\\\\Users\\\\NT550-045\\\\Desktop\\\\ml2\\\\web_crawling\\\\LSH\\\\steampy\\\\appid_2020.csv', 'c:\\\\Users\\\\NT550-045\\\\Desktop\\\\ml2\\\\web_crawling\\\\LSH\\\\steampy\\\\appid_2020_tag.csv', 'c:\\\\Users\\\\NT550-045\\\\Desktop\\\\ml2\\\\web_crawling\\\\LSH\\\\steampy\\\\appid_2021.csv', 'c:\\\\Users\\\\NT550-045\\\\Desktop\\\\ml2\\\\web_crawling\\\\LSH\\\\steampy\\\\appid_2021_tag.csv', 'c:\\\\Users\\\\NT550-045\\\\Desktop\\\\ml2\\\\web_crawling\\\\LSH\\\\steampy\\\\appid_2022.csv', 'c:\\\\Users\\\\NT550-045\\\\Desktop\\\\ml2\\\\web_crawling\\\\LSH\\\\steampy\\\\appid_2022_tag.csv']\n"
     ]
    }
   ],
   "source": [
    "csv_list = glob(f'{pwd}\\\\**\\\\appid_*.csv', recursive=True)\n",
    "print(csv_list)"
   ]
  },
  {
   "cell_type": "code",
   "execution_count": 9,
   "metadata": {},
   "outputs": [
    {
     "data": {
      "text/plain": [
       "['c:\\\\Users\\\\NT550-045\\\\Desktop\\\\ml2\\\\web_crawling\\\\LSH\\\\steampy\\\\appid_2018.csv',\n",
       " 'c:\\\\Users\\\\NT550-045\\\\Desktop\\\\ml2\\\\web_crawling\\\\LSH\\\\steampy\\\\appid_2019.csv',\n",
       " 'c:\\\\Users\\\\NT550-045\\\\Desktop\\\\ml2\\\\web_crawling\\\\LSH\\\\steampy\\\\appid_2020.csv',\n",
       " 'c:\\\\Users\\\\NT550-045\\\\Desktop\\\\ml2\\\\web_crawling\\\\LSH\\\\steampy\\\\appid_2021.csv',\n",
       " 'c:\\\\Users\\\\NT550-045\\\\Desktop\\\\ml2\\\\web_crawling\\\\LSH\\\\steampy\\\\appid_2022.csv']"
      ]
     },
     "execution_count": 9,
     "metadata": {},
     "output_type": "execute_result"
    }
   ],
   "source": [
    "csv_list[0::2]"
   ]
  },
  {
   "cell_type": "code",
   "execution_count": 14,
   "metadata": {},
   "outputs": [
    {
     "name": "stdout",
     "output_type": "stream",
     "text": [
      "appid_2018.csv\n",
      "{'Education', 'Animation&Modeling', 'Racing', 'WebPublishing', 'Violent', 'SexualContent', 'Utilities', 'Accounting', 'Casual', 'Gore', 'PhotoEditing', 'AudioProduction', 'Design&Illustration', 'Action', 'Sports', 'Strategy', 'Adventure', 'VideoProduction', 'Nudity', 'Simulation', 'RPG', 'MassivelyMultiplayer', 'SoftwareTraining', 'FreetoPlay', 'Indie', 'nan', 'EarlyAccess'}\n",
      "27\n",
      "appid_2019.csv\n",
      "{'Education', 'Racing', 'Violent', 'Utilities', 'Casual', 'AudioProduction', 'Design&Illustration', 'Action', 'Strategy', 'Adventure', 'Simulation', 'RPG', 'MassivelyMultiplayer', 'nan', 'FreetoPlay', 'SoftwareTraining', 'Indie', 'Sports', 'EarlyAccess', 'GameDevelopment'}\n",
      "20\n",
      "appid_2020.csv\n",
      "{'Education', 'EarlyAccess', 'Racing', 'Animation&Modeling', 'WebPublishing', 'Episodic', 'Utilities', 'Accounting', 'Casual', 'Movie', 'Tutorial', 'PhotoEditing', 'AudioProduction', 'Design&Illustration', 'Action', 'Strategy', 'Adventure', 'VideoProduction', 'Documentary', 'Simulation', 'Short', 'RPG', 'MassivelyMultiplayer', 'nan', 'ActionGames', 'SoftwareTraining', 'FreetoPlay', 'Indie', 'Sports', '360V', 'GameDevelopment'}\n",
      "31\n",
      "appid_2021.csv\n",
      "{'Education', 'Racing', 'Utilities', 'Casual', 'Accounting', 'Action', 'Strategy', 'Adventure', 'VideoProduction', 'Simulation', 'RPG', 'MassivelyMultiplayer', 'nan', 'FreetoPlay', 'SoftwareTraining', 'Indie', 'Sports', 'EarlyAccess', 'GameDevelopment'}\n",
      "19\n",
      "appid_2022.csv\n",
      "{'Animation&Modeling', 'Education', 'Racing', 'Utilities', 'Casual', 'Action', 'Strategy', 'Adventure', 'Simulation', 'RPG', 'MassivelyMultiplayer', 'nan', 'FreetoPlay', 'Indie', 'Sports', 'EarlyAccess', 'GameDevelopment'}\n",
      "17\n"
     ]
    }
   ],
   "source": [
    "from functools import reduce\n",
    "b = set()\n",
    "for csv in csv_list[0::2]:\n",
    "    print(os.path.split(csv)[1])\n",
    "    \n",
    "    df = pd.read_csv(csv, sep='\\t')\n",
    "    set(df.loc[0,'genre'].replace(' ','').split(','))\n",
    "    a = reduce(lambda x,y : x | y, df['genre'].apply(lambda x: set(str(x).replace(' ','').split(','))))\n",
    "    print(reduce(lambda x,y : x | y, df['genre'].apply(lambda x: set(str(x).replace(' ','').split(',')))))\n",
    "    print(len(reduce(lambda x,y : x | y, df['genre'].apply(lambda x: set(str(x).replace(' ','').split(','))))))\n",
    "    b |= a"
   ]
  },
  {
   "cell_type": "code",
   "execution_count": 17,
   "metadata": {},
   "outputs": [
    {
     "data": {
      "text/plain": [
       "{'360V',\n",
       " 'Accounting',\n",
       " 'Action',\n",
       " 'ActionGames',\n",
       " 'Adventure',\n",
       " 'Animation&Modeling',\n",
       " 'AudioProduction',\n",
       " 'Casual',\n",
       " 'Design&Illustration',\n",
       " 'Documentary',\n",
       " 'EarlyAccess',\n",
       " 'Education',\n",
       " 'Episodic',\n",
       " 'FreetoPlay',\n",
       " 'GameDevelopment',\n",
       " 'Gore',\n",
       " 'Indie',\n",
       " 'MassivelyMultiplayer',\n",
       " 'Movie',\n",
       " 'Nudity',\n",
       " 'PhotoEditing',\n",
       " 'RPG',\n",
       " 'Racing',\n",
       " 'SexualContent',\n",
       " 'Short',\n",
       " 'Simulation',\n",
       " 'SoftwareTraining',\n",
       " 'Sports',\n",
       " 'Strategy',\n",
       " 'Tutorial',\n",
       " 'Utilities',\n",
       " 'VideoProduction',\n",
       " 'Violent',\n",
       " 'WebPublishing',\n",
       " 'nan'}"
      ]
     },
     "execution_count": 17,
     "metadata": {},
     "output_type": "execute_result"
    }
   ],
   "source": [
    "b"
   ]
  },
  {
   "cell_type": "code",
   "execution_count": 16,
   "metadata": {},
   "outputs": [
    {
     "data": {
      "text/plain": [
       "35"
      ]
     },
     "execution_count": 16,
     "metadata": {},
     "output_type": "execute_result"
    }
   ],
   "source": [
    "len(b)"
   ]
  },
  {
   "cell_type": "code",
   "execution_count": 4,
   "metadata": {},
   "outputs": [],
   "source": [
    "df = pd.read_csv(csv_list[0], sep='\\t')"
   ]
  },
  {
   "cell_type": "code",
   "execution_count": 14,
   "metadata": {},
   "outputs": [
    {
     "data": {
      "text/plain": [
       "{'Indie', 'Simulation', 'Strategy'}"
      ]
     },
     "execution_count": 14,
     "metadata": {},
     "output_type": "execute_result"
    }
   ],
   "source": [
    "set(df.loc[0,'genre'].replace(' ','').split(','))"
   ]
  },
  {
   "cell_type": "code",
   "execution_count": 7,
   "metadata": {},
   "outputs": [
    {
     "name": "stdout",
     "output_type": "stream",
     "text": [
      "{'Education', 'Animation&Modeling', 'Racing', 'WebPublishing', 'Violent', 'SexualContent', 'Utilities', 'Accounting', 'Casual', 'Gore', 'PhotoEditing', 'AudioProduction', 'Design&Illustration', 'Action', 'Sports', 'Strategy', 'Adventure', 'VideoProduction', 'Nudity', 'Simulation', 'RPG', 'MassivelyMultiplayer', 'SoftwareTraining', 'FreetoPlay', 'Indie', 'nan', 'EarlyAccess'}\n",
      "27\n"
     ]
    }
   ],
   "source": [
    "from functools import reduce\n",
    "print(reduce(lambda x,y : x | y, df['genre'].apply(lambda x: set(str(x).replace(' ','').split(',')))))\n",
    "\n",
    "print(len(reduce(lambda x,y : x | y, df['genre'].apply(lambda x: set(str(x).replace(' ','').split(','))))))"
   ]
  },
  {
   "cell_type": "code",
   "execution_count": 22,
   "metadata": {},
   "outputs": [
    {
     "data": {
      "text/plain": [
       "0                             Indie, Simulation, Strategy\n",
       "1                                                Strategy\n",
       "2                                Action, Adventure, Indie\n",
       "3                                Action, Adventure, Indie\n",
       "4                                        Adventure, Indie\n",
       "                              ...                        \n",
       "7708                                            Adventure\n",
       "7709    Adventure, Massively Multiplayer, RPG, Simulat...\n",
       "7710                                    Indie, Simulation\n",
       "7711                                               Casual\n",
       "7712                                                Indie\n",
       "Name: genre, Length: 7713, dtype: object"
      ]
     },
     "execution_count": 22,
     "metadata": {},
     "output_type": "execute_result"
    }
   ],
   "source": [
    "df['genre']"
   ]
  },
  {
   "cell_type": "code",
   "execution_count": null,
   "metadata": {},
   "outputs": [],
   "source": []
  }
 ],
 "metadata": {
  "kernelspec": {
   "display_name": "Python 3",
   "language": "python",
   "name": "python3"
  },
  "language_info": {
   "codemirror_mode": {
    "name": "ipython",
    "version": 3
   },
   "file_extension": ".py",
   "mimetype": "text/x-python",
   "name": "python",
   "nbconvert_exporter": "python",
   "pygments_lexer": "ipython3",
   "version": "3.10.11"
  },
  "orig_nbformat": 4
 },
 "nbformat": 4,
 "nbformat_minor": 2
}
