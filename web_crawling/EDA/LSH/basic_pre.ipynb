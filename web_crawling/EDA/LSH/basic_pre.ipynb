{
 "cells": [
  {
   "cell_type": "code",
   "execution_count": 1,
   "metadata": {},
   "outputs": [],
   "source": [
    "import pandas as pd\n",
    "import os\n",
    "\n",
    "from glob import glob"
   ]
  },
  {
   "cell_type": "code",
   "execution_count": 2,
   "metadata": {},
   "outputs": [
    {
     "name": "stdout",
     "output_type": "stream",
     "text": [
      "c:\\Users\\reot1\\OneDrive\\바탕 화면\\ml2\\web_crawling\n"
     ]
    }
   ],
   "source": [
    "pwd = os.getcwd()\n",
    "basic_dir = f\"{pwd.split('web_crawling')[0]}web_crawling\"\n",
    "os.chdir(basic_dir)\n",
    "\n",
    "pwd = os.getcwd()\n",
    "print(pwd)"
   ]
  },
  {
   "cell_type": "code",
   "execution_count": 3,
   "metadata": {},
   "outputs": [
    {
     "name": "stdout",
     "output_type": "stream",
     "text": [
      "['c:\\\\Users\\\\reot1\\\\OneDrive\\\\바탕 화면\\\\ml2\\\\web_crawling\\\\LSH\\\\steampy\\\\appid_2018.csv', 'c:\\\\Users\\\\reot1\\\\OneDrive\\\\바탕 화면\\\\ml2\\\\web_crawling\\\\LSH\\\\steampy\\\\appid_2018_tag.csv', 'c:\\\\Users\\\\reot1\\\\OneDrive\\\\바탕 화면\\\\ml2\\\\web_crawling\\\\LSH\\\\steampy\\\\appid_2019.csv', 'c:\\\\Users\\\\reot1\\\\OneDrive\\\\바탕 화면\\\\ml2\\\\web_crawling\\\\LSH\\\\steampy\\\\appid_2019_tag.csv', 'c:\\\\Users\\\\reot1\\\\OneDrive\\\\바탕 화면\\\\ml2\\\\web_crawling\\\\LSH\\\\steampy\\\\appid_2020.csv', 'c:\\\\Users\\\\reot1\\\\OneDrive\\\\바탕 화면\\\\ml2\\\\web_crawling\\\\LSH\\\\steampy\\\\appid_2020_tag.csv', 'c:\\\\Users\\\\reot1\\\\OneDrive\\\\바탕 화면\\\\ml2\\\\web_crawling\\\\LSH\\\\steampy\\\\appid_2021.csv', 'c:\\\\Users\\\\reot1\\\\OneDrive\\\\바탕 화면\\\\ml2\\\\web_crawling\\\\LSH\\\\steampy\\\\appid_2021_tag.csv', 'c:\\\\Users\\\\reot1\\\\OneDrive\\\\바탕 화면\\\\ml2\\\\web_crawling\\\\LSH\\\\steampy\\\\appid_2022.csv', 'c:\\\\Users\\\\reot1\\\\OneDrive\\\\바탕 화면\\\\ml2\\\\web_crawling\\\\LSH\\\\steampy\\\\appid_2022_tag.csv']\n"
     ]
    }
   ],
   "source": [
    "csv_list = glob(f'{pwd}\\\\**\\\\appid_*.csv', recursive=True)\n",
    "print(csv_list)"
   ]
  },
  {
   "cell_type": "code",
   "execution_count": 4,
   "metadata": {},
   "outputs": [],
   "source": [
    "df = pd.read_csv(csv_list[0], sep='\\t')"
   ]
  },
  {
   "cell_type": "code",
   "execution_count": 5,
   "metadata": {},
   "outputs": [
    {
     "data": {
      "text/html": [
       "<div>\n",
       "<style scoped>\n",
       "    .dataframe tbody tr th:only-of-type {\n",
       "        vertical-align: middle;\n",
       "    }\n",
       "\n",
       "    .dataframe tbody tr th {\n",
       "        vertical-align: top;\n",
       "    }\n",
       "\n",
       "    .dataframe thead th {\n",
       "        text-align: right;\n",
       "    }\n",
       "</style>\n",
       "<table border=\"1\" class=\"dataframe\">\n",
       "  <thead>\n",
       "    <tr style=\"text-align: right;\">\n",
       "      <th></th>\n",
       "      <th>0</th>\n",
       "    </tr>\n",
       "  </thead>\n",
       "  <tbody>\n",
       "    <tr>\n",
       "      <th>developer</th>\n",
       "      <td>Ludeon Studios</td>\n",
       "    </tr>\n",
       "    <tr>\n",
       "      <th>publisher</th>\n",
       "      <td>Ludeon Studios</td>\n",
       "    </tr>\n",
       "    <tr>\n",
       "      <th>positive</th>\n",
       "      <td>157344</td>\n",
       "    </tr>\n",
       "    <tr>\n",
       "      <th>negative</th>\n",
       "      <td>3038</td>\n",
       "    </tr>\n",
       "    <tr>\n",
       "      <th>average_forever</th>\n",
       "      <td>12492</td>\n",
       "    </tr>\n",
       "    <tr>\n",
       "      <th>average_2weeks</th>\n",
       "      <td>1401</td>\n",
       "    </tr>\n",
       "    <tr>\n",
       "      <th>median_forever</th>\n",
       "      <td>5368</td>\n",
       "    </tr>\n",
       "    <tr>\n",
       "      <th>median_2weeks</th>\n",
       "      <td>921</td>\n",
       "    </tr>\n",
       "    <tr>\n",
       "      <th>price</th>\n",
       "      <td>34.99</td>\n",
       "    </tr>\n",
       "    <tr>\n",
       "      <th>initialprice</th>\n",
       "      <td>34.99</td>\n",
       "    </tr>\n",
       "    <tr>\n",
       "      <th>languages</th>\n",
       "      <td>English, French, German, Polish, Russian, Ital...</td>\n",
       "    </tr>\n",
       "    <tr>\n",
       "      <th>tags</th>\n",
       "      <td>{'Colony Sim': 3516, 'Base-Building': 3435, 'S...</td>\n",
       "    </tr>\n",
       "    <tr>\n",
       "      <th>genre</th>\n",
       "      <td>Indie, Simulation, Strategy</td>\n",
       "    </tr>\n",
       "    <tr>\n",
       "      <th>appid</th>\n",
       "      <td>294100</td>\n",
       "    </tr>\n",
       "    <tr>\n",
       "      <th>num_lang</th>\n",
       "      <td>35</td>\n",
       "    </tr>\n",
       "  </tbody>\n",
       "</table>\n",
       "</div>"
      ],
      "text/plain": [
       "                                                                 0\n",
       "developer                                           Ludeon Studios\n",
       "publisher                                           Ludeon Studios\n",
       "positive                                                    157344\n",
       "negative                                                      3038\n",
       "average_forever                                              12492\n",
       "average_2weeks                                                1401\n",
       "median_forever                                                5368\n",
       "median_2weeks                                                  921\n",
       "price                                                        34.99\n",
       "initialprice                                                 34.99\n",
       "languages        English, French, German, Polish, Russian, Ital...\n",
       "tags             {'Colony Sim': 3516, 'Base-Building': 3435, 'S...\n",
       "genre                                  Indie, Simulation, Strategy\n",
       "appid                                                       294100\n",
       "num_lang                                                        35"
      ]
     },
     "execution_count": 5,
     "metadata": {},
     "output_type": "execute_result"
    }
   ],
   "source": [
    "df.head(1).T"
   ]
  },
  {
   "cell_type": "code",
   "execution_count": 6,
   "metadata": {},
   "outputs": [
    {
     "data": {
      "text/plain": [
       "0    Indie, Simulation, Strategy\n",
       "1                       Strategy\n",
       "2       Action, Adventure, Indie\n",
       "3       Action, Adventure, Indie\n",
       "4               Adventure, Indie\n",
       "Name: genre, dtype: object"
      ]
     },
     "execution_count": 6,
     "metadata": {},
     "output_type": "execute_result"
    }
   ],
   "source": [
    "df['genre'].head(5)"
   ]
  },
  {
   "cell_type": "code",
   "execution_count": 14,
   "metadata": {},
   "outputs": [
    {
     "data": {
      "text/plain": [
       "{'Indie', 'Simulation', 'Strategy'}"
      ]
     },
     "execution_count": 14,
     "metadata": {},
     "output_type": "execute_result"
    }
   ],
   "source": [
    "set(df.loc[0,'genre'].replace(' ','').split(','))"
   ]
  },
  {
   "cell_type": "code",
   "execution_count": 46,
   "metadata": {},
   "outputs": [
    {
     "data": {
      "text/plain": [
       "27"
      ]
     },
     "execution_count": 46,
     "metadata": {},
     "output_type": "execute_result"
    }
   ],
   "source": [
    "from functools import reduce\n",
    "\n",
    "\n",
    "len(reduce(lambda x,y : x | y, df['genre'].apply(lambda x: set(str(x).replace(' ','').split(',')))))"
   ]
  },
  {
   "cell_type": "code",
   "execution_count": 22,
   "metadata": {},
   "outputs": [
    {
     "data": {
      "text/plain": [
       "0                             Indie, Simulation, Strategy\n",
       "1                                                Strategy\n",
       "2                                Action, Adventure, Indie\n",
       "3                                Action, Adventure, Indie\n",
       "4                                        Adventure, Indie\n",
       "                              ...                        \n",
       "7708                                            Adventure\n",
       "7709    Adventure, Massively Multiplayer, RPG, Simulat...\n",
       "7710                                    Indie, Simulation\n",
       "7711                                               Casual\n",
       "7712                                                Indie\n",
       "Name: genre, Length: 7713, dtype: object"
      ]
     },
     "execution_count": 22,
     "metadata": {},
     "output_type": "execute_result"
    }
   ],
   "source": [
    "df['genre']"
   ]
  },
  {
   "cell_type": "code",
   "execution_count": null,
   "metadata": {},
   "outputs": [],
   "source": []
  }
 ],
 "metadata": {
  "kernelspec": {
   "display_name": "Python 3",
   "language": "python",
   "name": "python3"
  },
  "language_info": {
   "codemirror_mode": {
    "name": "ipython",
    "version": 3
   },
   "file_extension": ".py",
   "mimetype": "text/x-python",
   "name": "python",
   "nbconvert_exporter": "python",
   "pygments_lexer": "ipython3",
   "version": "3.8.10"
  },
  "orig_nbformat": 4
 },
 "nbformat": 4,
 "nbformat_minor": 2
}
