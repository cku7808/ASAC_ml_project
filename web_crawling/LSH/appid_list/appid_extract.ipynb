{
 "cells": [
  {
   "cell_type": "code",
   "execution_count": 2,
   "metadata": {},
   "outputs": [],
   "source": [
    "import requests\n",
    "import pandas as pd\n",
    "import os\n",
    "\n",
    "from datetime import date\n",
    "from bs4 import BeautifulSoup as bs"
   ]
  },
  {
   "cell_type": "code",
   "execution_count": 13,
   "metadata": {},
   "outputs": [],
   "source": [
    "cookies = {}\n",
    "headers = {\n",
    "    'authority': 'steamdb.info',\n",
    "    'accept': 'text/html,application/xhtml+xml,application/xml;q=0.9,image/avif,image/webp,image/apng,*/*;q=0.8,application/signed-exchange;v=b3;q=0.7',\n",
    "    'accept-language': 'ko-KR,ko;q=0.9,en-US;q=0.8,en;q=0.7',\n",
    "    'referer': 'https://steamdb.info/stats/releases/',\n",
    "    'sec-ch-ua': '\"Google Chrome\";v=\"113\", \"Chromium\";v=\"113\", \"Not-A.Brand\";v=\"24\"',\n",
    "    'sec-ch-ua-mobile': '?0',\n",
    "    'sec-ch-ua-platform': '\"Windows\"',\n",
    "    'sec-fetch-dest': 'document',\n",
    "    'sec-fetch-mode': 'navigate',\n",
    "    'sec-fetch-site': 'same-origin',\n",
    "    'sec-fetch-user': '?1',\n",
    "    'upgrade-insecure-requests': '1',\n",
    "    'user-agent': 'Mozilla/5.0 (Windows NT 10.0; Win64; x64) AppleWebKit/537.36 (KHTML, like Gecko) Chrome/113.0.0.0 Safari/537.36',\n",
    "}\n"
   ]
  },
  {
   "cell_type": "code",
   "execution_count": 9,
   "metadata": {},
   "outputs": [
    {
     "name": "stdout",
     "output_type": "stream",
     "text": [
      "c:\\Users\\NT550-045\\Desktop\\ml2\\web_crawling\\CGW\n"
     ]
    }
   ],
   "source": [
    "pwd = os.getcwd()\n",
    "CGW_dir = f\"{pwd.split('web_crawling')[0]}web_crawling\\\\CGW\"\n",
    "print(CGW_dir)"
   ]
  },
  {
   "cell_type": "code",
   "execution_count": 11,
   "metadata": {},
   "outputs": [],
   "source": [
    "year_list = [2022, 2021, 2020, 2019, 2018]"
   ]
  },
  {
   "cell_type": "code",
   "execution_count": 25,
   "metadata": {},
   "outputs": [
    {
     "name": "stdout",
     "output_type": "stream",
     "text": [
      "2022 - 11745\n",
      "2021 - 10606\n",
      "2020 - 8985\n",
      "2019 - 7313\n",
      "2018 - 7639\n"
     ]
    }
   ],
   "source": [
    "for year in year_list:\n",
    "    response = requests.get(f'https://steamdb.info/stats/gameratings/{year}/?all', cookies=cookies, headers=headers)\n",
    "    soup = bs(response.text, 'html.parser')\n",
    "    tr_list = soup.select('tr[class=\"app\"]')\n",
    "    \n",
    "    appid = [tr['data-appid'] for tr in tr_list]\n",
    "    time_list = [f'{year} {tr.select(\"td\")[3].text}' for tr in tr_list]\n",
    "    \n",
    "    df = pd.DataFrame({'appid' : appid, 'new_date':time_list})\n",
    "    \n",
    "    print(f'{year} - {len(appid)}')\n",
    "    \n",
    "    df['new_date'] = pd.to_datetime(df['new_date'])\n",
    "    df.to_csv(f'{CGW_dir}\\\\csvs\\\\{year}_date.csv', index=False)\n",
    "    \n",
    "    "
   ]
  },
  {
   "cell_type": "code",
   "execution_count": null,
   "metadata": {},
   "outputs": [],
   "source": [
    "for year in year_list:\n",
    "    response = requests.get(f'https://steamdb.info/stats/gameratings/{year}/?all', cookies=cookies, headers=headers)\n",
    "    soup = bs(response.text, 'html.parser')\n",
    "    tr_list = soup.select('tr[class=\"app\"]')\n",
    "    appid = [tr['data-appid'] for tr in tr_list]\n",
    "    \n",
    "    print(f'{year} - {len(appid)}')\n",
    "    \n",
    "    with open(f'C:\\\\Users\\\\NT550-045\\\\Desktop\\\\ml2\\\\ASAC_ml_project\\\\web_crawling\\\\LSH\\\\appid_{year}.txt', 'w') as f:\n",
    "        for app in appid:\n",
    "            f.write(f'{app}\\n')\n",
    "    "
   ]
  }
 ],
 "metadata": {
  "kernelspec": {
   "display_name": "base",
   "language": "python",
   "name": "python3"
  },
  "language_info": {
   "codemirror_mode": {
    "name": "ipython",
    "version": 3
   },
   "file_extension": ".py",
   "mimetype": "text/x-python",
   "name": "python",
   "nbconvert_exporter": "python",
   "pygments_lexer": "ipython3",
   "version": "3.10.11"
  },
  "orig_nbformat": 4
 },
 "nbformat": 4,
 "nbformat_minor": 2
}
