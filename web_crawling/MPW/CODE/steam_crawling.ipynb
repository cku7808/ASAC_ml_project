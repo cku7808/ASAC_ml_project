{
 "cells": [
  {
   "cell_type": "code",
   "execution_count": 1,
   "metadata": {},
   "outputs": [
    {
     "name": "stdout",
     "output_type": "stream",
     "text": [
      "전체 데이터 개수 :  7370\n",
      "진행횟수 :  0\n"
     ]
    }
   ],
   "source": [
    "from bs4 import BeautifulSoup\n",
    "import requests\n",
    "import os\n",
    "import pandas as pd\n",
    "### 현재 위치에서 상위 폴더로 이동, 이후에 파일을 상대경로로 읽어들이기 위해서 이동함.\n",
    "for i in range(3):\n",
    "    os.chdir(\"../\")\n",
    "### APP ID를 활용하여 스팀 내에서 크롤링을 진행하기 위해 APP ID가 저장되어 있는 파일을 읽어들임.\n",
    "### 파일경로의 경우 상대경로로 읽어들임으로써, 기존의 git repo가 어디에 clone 되어 있는지 상관없이 읽어들일 수 있음.\n",
    "### text 파일의 한줄마다 app_id의 list로 저장\n",
    "f = open(r'web_crawling\\LSH\\appid_list\\appid_2019.txt')\n",
    "app_id=[]\n",
    "while True:\n",
    "    line=f.readline()\n",
    "    if not line : break\n",
    "    app_id.append(line.strip())\n",
    "reviews=[]\n",
    "print(\"전체 데이터 개수 : \",len(app_id))\n",
    "### APP ID를 활용하여 Steam 페이지에 접속하여 그 안에서 Review 평점과 APP Tag 값을 가져오는 코드\n",
    "for i in range (len(app_id)):\n",
    "    individual_tag=[]\n",
    "    path=\"https://store.steampowered.com/app/\"+app_id[i]\n",
    "    response = requests.get(path)\n",
    "    soup=BeautifulSoup(response.text,\"html.parser\")\n",
    "    review=\"None\"\n",
    "    if soup.find(\"span\",\"game_review_summary\")!=None:\n",
    "        review=soup.find(\"span\",\"game_review_summary\").text\n",
    "    if soup.find_all(\"a\",\"app_tag\")!=None:\n",
    "        tag=soup.find_all(\"a\",\"app_tag\")\n",
    "        for j in range(len(tag)):\n",
    "            a=tag[j].text.strip()\n",
    "            individual_tag.append(a)\n",
    "    reviews.append([app_id[i],review,individual_tag])\n",
    "    if i%100==0:\n",
    "        print(\"진행횟수 : \" , i)\n",
    "    df=pd.DataFrame(reviews)"
   ]
  },
  {
   "cell_type": "code",
   "execution_count": null,
   "metadata": {},
   "outputs": [],
   "source": [
    "f = open(r'web_crawling\\LSH\\appid_list\\appid_2019.txt')\n",
    "app_id=[]\n",
    "while True:\n",
    "    line=f.readline()\n",
    "    if not line : break\n",
    "    app_id.append(line.strip())\n",
    "reviews=[]\n",
    "print(\"전체 데이터 개수 : \",len(app_id))\n",
    "### APP ID를 활용하여 Steam 페이지에 접속하여 그 안에서 Review 평점과 APP Tag 값을 가져오는 코드\n",
    "for i in range (len(app_id)):\n",
    "    individual_tag=[]\n",
    "    path=\"https://store.steampowered.com/app/\"+app_id[i]\n",
    "    response = requests.get(path)\n",
    "    soup=BeautifulSoup(response.text,\"html.parser\")\n",
    "    review=\"None\"\n",
    "    if soup.find(\"span\",\"game_review_summary\")!=None:\n",
    "        review=soup.find(\"span\",\"game_review_summary\").text\n",
    "    if soup.find_all(\"a\",\"app_tag\")!=None:\n",
    "        tag=soup.find_all(\"a\",\"app_tag\")\n",
    "        for j in range(len(tag)):\n",
    "            a=tag[j].text.strip()\n",
    "            individual_tag.append(a)\n",
    "    reviews.append([app_id[i],review,individual_tag])\n",
    "    if i%100==0:\n",
    "        print(\"진행횟수 : \" , i)\n",
    "    df=pd.DataFrame(reviews)"
   ]
  },
  {
   "cell_type": "code",
   "execution_count": null,
   "metadata": {},
   "outputs": [],
   "source": [
    "df.columns=[\"App_id\",\"Review\",\"Tag\"]"
   ]
  },
  {
   "cell_type": "code",
   "execution_count": null,
   "metadata": {},
   "outputs": [],
   "source": [
    "df.to_csv(\"2019_review.csv\",sep=';')"
   ]
  },
  {
   "cell_type": "code",
   "execution_count": null,
   "metadata": {},
   "outputs": [],
   "source": []
  }
 ],
 "metadata": {
  "kernelspec": {
   "display_name": "Python 3",
   "language": "python",
   "name": "python3"
  },
  "language_info": {
   "codemirror_mode": {
    "name": "ipython",
    "version": 3
   },
   "file_extension": ".py",
   "mimetype": "text/x-python",
   "name": "python",
   "nbconvert_exporter": "python",
   "pygments_lexer": "ipython3",
   "version": "3.8.6"
  },
  "orig_nbformat": 4
 },
 "nbformat": 4,
 "nbformat_minor": 2
}
