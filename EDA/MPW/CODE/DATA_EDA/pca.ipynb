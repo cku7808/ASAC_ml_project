{
 "cells": [
  {
   "cell_type": "code",
   "execution_count": 13,
   "metadata": {},
   "outputs": [],
   "source": [
    "### 필요한 모듈 IMPORT\n",
    "import pandas as pd\n",
    "from sklearn import preprocessing\n",
    "import numpy as np\n",
    "import matplotlib.pyplot as plt\n",
    "from sklearn.model_selection import KFold\n",
    "from sklearn.model_selection import train_test_split\n",
    "from sklearn.ensemble import RandomForestClassifier\n",
    "from sklearn.model_selection import cross_val_score\n",
    "from sklearn.model_selection import GridSearchCV\n",
    "from sklearn.model_selection import RandomizedSearchCV\n",
    "from sklearn.decomposition import PCA\n",
    "from sklearn.metrics import accuracy_score, confusion_matrix, classification_report\n",
    "import seaborn as sns"
   ]
  },
  {
   "cell_type": "code",
   "execution_count": 14,
   "metadata": {},
   "outputs": [
    {
     "name": "stdout",
     "output_type": "stream",
     "text": [
      "['Negative' 'Positive']\n"
     ]
    }
   ],
   "source": [
    "################################################\n",
    "#####BASE MODEL 확인을 위한 간단한 전처리#########\n",
    "################################################\n",
    "\n",
    "# 파일 읽어오기\n",
    "a=pd.read_csv(r\"C:\\Users\\moonp\\ASAC과정\\ASAC_ml_project\\web_crawling\\merge_dataset\\raw_merge.csv\",sep=\"\\t\")\n",
    "### METACRITIC 점수 표기 --> 메타크리틱 점수가 없는 경우 -1로 대체\n",
    "a.metacritic=a.metacritic.fillna(-1)\n",
    "tmp=a.dropna(axis=0)\n",
    "### 동접자수 전처리 과정 동접자수 없는 경우 0으로 표기\n",
    "tmp[\"24_Hour_Peak\"].replace(\"Invalid\",\"0\",inplace=True)\n",
    "tmp[\"All_time_peak\"].replace(\"Invalid\",\"0\",inplace=True)\n",
    "tmp[\"24_Hour_Peak\"]=tmp[\"24_Hour_Peak\"].astype(int)\n",
    "tmp[\"All_time_peak\"]=tmp[\"All_time_peak\"].astype(int)\n",
    "\n",
    "### is free 전처리 기존의 FALSE,TRUE --> 0,1로 바꾸어서\n",
    "tmp.is_free.replace(\"False\",\"0\",inplace=True)\n",
    "tmp.is_free.replace(\"0.0\",\"0\",inplace=True)\n",
    "tmp.is_free.replace(\"True\",\"1\",inplace=True)\n",
    "tmp.is_free.replace(\"1.0\",\"1\",inplace=True)\n",
    "tmp.is_free=tmp.is_free.astype(int)\n",
    "tmp.is_free=tmp.is_free.astype(int)\n",
    "\n",
    "\n",
    "### TARGET CLASS를 4개로 재분류\n",
    "No_interest_lst=['No user reviews','8 user reviews','7 user reviews','4 user reviews','9 user reviews','5 user reviews','6 user reviews','2 user reviews','3 user reviews','1 user reviews','None']\n",
    "Positive_lst=['Overwhelmingly Positive','Very Positive','Positive','Mostly Positive']\n",
    "Negative_lst=['Negative','Very Negative','Overwhelmingly Negative','Mostly Negative']\n",
    "tmp.Review.replace(No_interest_lst,\"Negative\",inplace=True)\n",
    "tmp.Review.replace(Positive_lst,\"Positive\",inplace=True)\n",
    "tmp.Review.replace(Negative_lst,\"Negative\",inplace=True)\n",
    "tmp.Review.replace(\"Mixed\",\"Negative\",inplace=True)\n",
    "\n",
    "### TARGET LABEL ENCODING\n",
    "le=preprocessing.LabelEncoder()\n",
    "le.fit(np.array(tmp.Review))\n",
    "y_true=le.fit_transform(tmp.Review)\n",
    "print(le.classes_)"
   ]
  },
  {
   "cell_type": "code",
   "execution_count": 15,
   "metadata": {},
   "outputs": [],
   "source": [
    "tmp_y=pd.DataFrame(y_true)"
   ]
  },
  {
   "cell_type": "code",
   "execution_count": 16,
   "metadata": {},
   "outputs": [],
   "source": [
    "##########GENRE 없이 BASE MODEL 학습 RF로만 간단하게 구성 #########\n",
    "# tmp=pd.concat([tmp,tmp_y],axis=1)\n",
    "##########데이터 전처리 #######################################\n",
    "x_no_genre=tmp.drop(columns=[\"appid\",\"positive\",\"negative\",\"genre\",\"new_date\",\"Review\",\"recommendations\"])"
   ]
  },
  {
   "cell_type": "code",
   "execution_count": 17,
   "metadata": {},
   "outputs": [],
   "source": [
    "pca_component=len(x_no_genre.columns)"
   ]
  },
  {
   "cell_type": "code",
   "execution_count": 18,
   "metadata": {},
   "outputs": [
    {
     "data": {
      "text/plain": [
       "21"
      ]
     },
     "execution_count": 18,
     "metadata": {},
     "output_type": "execute_result"
    }
   ],
   "source": [
    "pca_component"
   ]
  },
  {
   "cell_type": "code",
   "execution_count": 22,
   "metadata": {},
   "outputs": [
    {
     "name": "stdout",
     "output_type": "stream",
     "text": [
      "[0.94744739 0.03136192 0.0184831  0.00150039]\n"
     ]
    },
    {
     "data": {
      "image/png": "[encoded data removed]",
      "text/plain": [
       "<Figure size 504x504 with 1 Axes>"
      ]
     },
     "metadata": {
      "needs_background": "light"
     },
     "output_type": "display_data"
    }
   ],
   "source": [
    "pca = PCA(n_components = pca_component)\n",
    "pca.fit_transform(x_no_genre)\n",
    "\n",
    "\n",
    "## percentage of variance explained\n",
    "print(pca.explained_variance_ratio_)\n",
    "# [0.92461872 0.05306648 0.01710261 0.00521218]\n",
    "var=np.cumsum(np.round(pca.explained_variance_ratio_, decimals=2)*100)\n",
    "plt.title('dark_background')\n",
    "## Principal 1 & 2 explain about 97.8% of variance\n",
    "plt.rcParams['figure.figsize'] = (7, 7)\n",
    "plt.plot(var)\n",
    "plt.ylim(40,100.5)\n",
    "plt.xlim(0,pca_component)\n",
    "plt.xlabel(\"number of Principal Components\", fontsize=12)\n",
    "plt.ylabel(\"% of Variance Explained\", fontsize=12)\n",
    "\n",
    "plt.show()"
   ]
  },
  {
   "cell_type": "code",
   "execution_count": null,
   "metadata": {},
   "outputs": [],
   "source": [
    "pca = PCA(n_components=4, random_state=1004)\n",
    "x_pca = pca.fit_transform(x_no_genre)"
   ]
  },
  {
   "cell_type": "code",
   "execution_count": null,
   "metadata": {},
   "outputs": [],
   "source": [
    "x_pca=pd.DataFrame(x_pca)"
   ]
  },
  {
   "cell_type": "code",
   "execution_count": null,
   "metadata": {},
   "outputs": [],
   "source": [
    "x_pca.info()"
   ]
  },
  {
   "cell_type": "code",
   "execution_count": null,
   "metadata": {},
   "outputs": [],
   "source": [
    "len(y_true)"
   ]
  },
  {
   "cell_type": "code",
   "execution_count": null,
   "metadata": {},
   "outputs": [],
   "source": [
    "x_train, x_val, y_train, y_val = train_test_split(\n",
    "    x_no_genre,    # 문제 --> train/val\n",
    "    y_true,    # 정답지\n",
    "    test_size= 0.2, # train 데이터 중에서 20프로만 중간 검사용으로 빼두자..\n",
    "    random_state= 1234, # 옵션 : 나중에 재현성을 위해서 seed값.\n",
    "    stratify = y_true # 옵션 : 나눌 때 비율을 유지할지 말지....\n",
    ")\n"
   ]
  },
  {
   "cell_type": "code",
   "execution_count": null,
   "metadata": {},
   "outputs": [],
   "source": [
    "kfold = KFold( n_splits=5, random_state=1234, shuffle=True)\n",
    "# cv = 5 ---> 내가 run할 때 마다 셋들이 5개이기는 하지만 구성이 제각가..\n",
    "# cv = kold ---> 언제, 어디서 하더라도 5개 셋이, 다 고정으로 동일하게 적용!!!\n",
    "# 1) 모델\n",
    "rf = RandomForestClassifier(n_jobs=-1, random_state=1234,verbose=2)\n",
    "# 2) 파라미터의 조합 RGS --> 여러개가 있지만,,대표적인 것만 세팅..\n",
    "parameters = {\n",
    "    # 몇 개의 모델을 활용할지 \n",
    "    \"n_estimators\" : [10, 100, 500, 1000], # 7\n",
    "    # 세로에 대해서 어떻게 샘플링을 할지.\n",
    "    \"max_features\" : [\"sqrt\",\"log2\", None], # 3\n",
    "    \"min_samples_split\" : [2, 5, 10],\n",
    "    # 각 모델이 dt의 overfit을 조절하기\n",
    "    \"max_depth\" : [2,5,10,20,100], # 10\n",
    "    # min sample leaf\n",
    "    \"min_samples_leaf\" : [1, 2, 4],\n",
    "    \"criterion\" : [\"gini\", \"entropy\", \"log_loss\"],\n",
    "    # 기타 여러 parameters 세팅 가능함....\n",
    "}\n",
    "# 3) RGS --> 몇 번 반복할지 \n",
    "n_iter = 100\n",
    "# 4) RGSCV 세팅.\n",
    "rf_pca = RandomizedSearchCV( rf, \n",
    "                                  param_distributions= parameters,\n",
    "                                  cv = kfold,\n",
    "                                  scoring = \"accuracy\",\n",
    "                                  n_jobs= -1,\n",
    "                                  random_state=1234,\n",
    "                                  n_iter = n_iter,verbose=3\n",
    "                                  )\n",
    "# 5) 학습\n",
    "rf_pca.fit(x_train, y_train)"
   ]
  },
  {
   "cell_type": "code",
   "execution_count": null,
   "metadata": {},
   "outputs": [],
   "source": [
    "rf_pca.best_score_\n",
    "### pca-4 63.72%"
   ]
  },
  {
   "cell_type": "code",
   "execution_count": 6,
   "metadata": {},
   "outputs": [],
   "source": [
    "df_genre=pd.DataFrame(tmp.genre)\n",
    "##########Genre Category#########\n",
    "genre_total_lst=dict()\n",
    "for i in range(len(df_genre)):\n",
    "    a=df_genre.iloc[i,0].replace(\" \",\"\").split(\",\")\n",
    "    for j in range(len(a)):\n",
    "        genre_total_lst[a[j]]=0\n",
    "genre_total_lst=list(genre_total_lst.keys())\n",
    "\n",
    "###########Genre Onehot##################################\n",
    "df_genre=pd.DataFrame(tmp.genre)\n",
    "genre_pre=[]\n",
    "for i in range(len(df_genre)):\n",
    "    a=df_genre.iloc[i,0].replace(\" \",\"\").split(\",\")\n",
    "    category=[0 for j in range(len(genre_total_lst))]\n",
    "    for j in range(len(a)):\n",
    "        for k in range(len(genre_total_lst)):\n",
    "            if a[j]==genre_total_lst[k]:\n",
    "                category[k]+=1\n",
    "    genre_pre.append(category)\n",
    "genre_pre=pd.DataFrame(genre_pre)\n",
    "genre_pre.columns=genre_total_lst\n",
    "\n",
    "x_no_genre=tmp.drop(columns=[\"appid\",\"positive\",\"negative\",\"genre\",\"new_date\",\"Review\",\"recommendations\"])\n",
    "x_no_genre.reset_index(inplace=True)\n",
    "\n",
    "onehot_x=pd.concat([x_no_genre,genre_pre],axis=1)\n",
    "onehot_x=onehot_x.drop(columns=[\"index\"])\n"
   ]
  },
  {
   "cell_type": "code",
   "execution_count": 7,
   "metadata": {},
   "outputs": [],
   "source": [
    "tmp_y=pd.DataFrame(y_true)\n",
    "pca_genre=pd.concat([onehot_x,tmp_y],axis=1)"
   ]
  },
  {
   "cell_type": "code",
   "execution_count": 9,
   "metadata": {},
   "outputs": [
    {
     "data": {
      "text/html": [
       "<div>\n",
       "<style scoped>\n",
       "    .dataframe tbody tr th:only-of-type {\n",
       "        vertical-align: middle;\n",
       "    }\n",
       "\n",
       "    .dataframe tbody tr th {\n",
       "        vertical-align: top;\n",
       "    }\n",
       "\n",
       "    .dataframe thead th {\n",
       "        text-align: right;\n",
       "    }\n",
       "</style>\n",
       "<table border=\"1\" class=\"dataframe\">\n",
       "  <thead>\n",
       "    <tr style=\"text-align: right;\">\n",
       "      <th></th>\n",
       "      <th>24_Hour_Peak</th>\n",
       "      <th>All_time_peak</th>\n",
       "      <th>average_forever</th>\n",
       "      <th>average_2weeks</th>\n",
       "      <th>median_forever</th>\n",
       "      <th>median_2weeks</th>\n",
       "      <th>price</th>\n",
       "      <th>initialprice</th>\n",
       "      <th>num_lang</th>\n",
       "      <th>required_age</th>\n",
       "      <th>...</th>\n",
       "      <th>AudioProduction</th>\n",
       "      <th>PhotoEditing</th>\n",
       "      <th>GameDevelopment</th>\n",
       "      <th>ActionGames</th>\n",
       "      <th>Movie</th>\n",
       "      <th>Documentary</th>\n",
       "      <th>Episodic</th>\n",
       "      <th>Short</th>\n",
       "      <th>Tutorial</th>\n",
       "      <th>360V</th>\n",
       "    </tr>\n",
       "  </thead>\n",
       "  <tbody>\n",
       "    <tr>\n",
       "      <th>0</th>\n",
       "      <td>20930</td>\n",
       "      <td>60742</td>\n",
       "      <td>12492</td>\n",
       "      <td>1401</td>\n",
       "      <td>5368</td>\n",
       "      <td>921</td>\n",
       "      <td>34.99</td>\n",
       "      <td>34.99</td>\n",
       "      <td>35</td>\n",
       "      <td>0.0</td>\n",
       "      <td>...</td>\n",
       "      <td>0</td>\n",
       "      <td>0</td>\n",
       "      <td>0</td>\n",
       "      <td>0</td>\n",
       "      <td>0</td>\n",
       "      <td>0</td>\n",
       "      <td>0</td>\n",
       "      <td>0</td>\n",
       "      <td>0</td>\n",
       "      <td>0</td>\n",
       "    </tr>\n",
       "    <tr>\n",
       "      <th>1</th>\n",
       "      <td>13428</td>\n",
       "      <td>53891</td>\n",
       "      <td>4018</td>\n",
       "      <td>277</td>\n",
       "      <td>1532</td>\n",
       "      <td>62</td>\n",
       "      <td>13.99</td>\n",
       "      <td>13.99</td>\n",
       "      <td>24</td>\n",
       "      <td>0.0</td>\n",
       "      <td>...</td>\n",
       "      <td>0</td>\n",
       "      <td>0</td>\n",
       "      <td>0</td>\n",
       "      <td>0</td>\n",
       "      <td>0</td>\n",
       "      <td>0</td>\n",
       "      <td>0</td>\n",
       "      <td>0</td>\n",
       "      <td>0</td>\n",
       "      <td>0</td>\n",
       "    </tr>\n",
       "    <tr>\n",
       "      <th>2</th>\n",
       "      <td>1234</td>\n",
       "      <td>4148</td>\n",
       "      <td>1316</td>\n",
       "      <td>310</td>\n",
       "      <td>370</td>\n",
       "      <td>582</td>\n",
       "      <td>19.99</td>\n",
       "      <td>19.99</td>\n",
       "      <td>14</td>\n",
       "      <td>0.0</td>\n",
       "      <td>...</td>\n",
       "      <td>0</td>\n",
       "      <td>0</td>\n",
       "      <td>0</td>\n",
       "      <td>0</td>\n",
       "      <td>0</td>\n",
       "      <td>0</td>\n",
       "      <td>0</td>\n",
       "      <td>0</td>\n",
       "      <td>0</td>\n",
       "      <td>0</td>\n",
       "    </tr>\n",
       "    <tr>\n",
       "      <th>3</th>\n",
       "      <td>4553</td>\n",
       "      <td>14880</td>\n",
       "      <td>1841</td>\n",
       "      <td>183</td>\n",
       "      <td>868</td>\n",
       "      <td>213</td>\n",
       "      <td>14.99</td>\n",
       "      <td>24.99</td>\n",
       "      <td>21</td>\n",
       "      <td>0.0</td>\n",
       "      <td>...</td>\n",
       "      <td>0</td>\n",
       "      <td>0</td>\n",
       "      <td>0</td>\n",
       "      <td>0</td>\n",
       "      <td>0</td>\n",
       "      <td>0</td>\n",
       "      <td>0</td>\n",
       "      <td>0</td>\n",
       "      <td>0</td>\n",
       "      <td>0</td>\n",
       "    </tr>\n",
       "    <tr>\n",
       "      <th>4</th>\n",
       "      <td>4205</td>\n",
       "      <td>50876</td>\n",
       "      <td>1943</td>\n",
       "      <td>313</td>\n",
       "      <td>941</td>\n",
       "      <td>277</td>\n",
       "      <td>29.99</td>\n",
       "      <td>29.99</td>\n",
       "      <td>38</td>\n",
       "      <td>0.0</td>\n",
       "      <td>...</td>\n",
       "      <td>0</td>\n",
       "      <td>0</td>\n",
       "      <td>0</td>\n",
       "      <td>0</td>\n",
       "      <td>0</td>\n",
       "      <td>0</td>\n",
       "      <td>0</td>\n",
       "      <td>0</td>\n",
       "      <td>0</td>\n",
       "      <td>0</td>\n",
       "    </tr>\n",
       "    <tr>\n",
       "      <th>...</th>\n",
       "      <td>...</td>\n",
       "      <td>...</td>\n",
       "      <td>...</td>\n",
       "      <td>...</td>\n",
       "      <td>...</td>\n",
       "      <td>...</td>\n",
       "      <td>...</td>\n",
       "      <td>...</td>\n",
       "      <td>...</td>\n",
       "      <td>...</td>\n",
       "      <td>...</td>\n",
       "      <td>...</td>\n",
       "      <td>...</td>\n",
       "      <td>...</td>\n",
       "      <td>...</td>\n",
       "      <td>...</td>\n",
       "      <td>...</td>\n",
       "      <td>...</td>\n",
       "      <td>...</td>\n",
       "      <td>...</td>\n",
       "      <td>...</td>\n",
       "    </tr>\n",
       "    <tr>\n",
       "      <th>46247</th>\n",
       "      <td>0</td>\n",
       "      <td>0</td>\n",
       "      <td>0</td>\n",
       "      <td>0</td>\n",
       "      <td>0</td>\n",
       "      <td>0</td>\n",
       "      <td>14.99</td>\n",
       "      <td>14.99</td>\n",
       "      <td>4</td>\n",
       "      <td>0.0</td>\n",
       "      <td>...</td>\n",
       "      <td>0</td>\n",
       "      <td>0</td>\n",
       "      <td>0</td>\n",
       "      <td>0</td>\n",
       "      <td>0</td>\n",
       "      <td>0</td>\n",
       "      <td>0</td>\n",
       "      <td>0</td>\n",
       "      <td>0</td>\n",
       "      <td>0</td>\n",
       "    </tr>\n",
       "    <tr>\n",
       "      <th>46248</th>\n",
       "      <td>0</td>\n",
       "      <td>0</td>\n",
       "      <td>0</td>\n",
       "      <td>0</td>\n",
       "      <td>0</td>\n",
       "      <td>0</td>\n",
       "      <td>9.99</td>\n",
       "      <td>9.99</td>\n",
       "      <td>1</td>\n",
       "      <td>0.0</td>\n",
       "      <td>...</td>\n",
       "      <td>0</td>\n",
       "      <td>0</td>\n",
       "      <td>0</td>\n",
       "      <td>0</td>\n",
       "      <td>0</td>\n",
       "      <td>0</td>\n",
       "      <td>0</td>\n",
       "      <td>0</td>\n",
       "      <td>0</td>\n",
       "      <td>0</td>\n",
       "    </tr>\n",
       "    <tr>\n",
       "      <th>46249</th>\n",
       "      <td>814</td>\n",
       "      <td>1176</td>\n",
       "      <td>0</td>\n",
       "      <td>0</td>\n",
       "      <td>0</td>\n",
       "      <td>0</td>\n",
       "      <td>0.00</td>\n",
       "      <td>0.00</td>\n",
       "      <td>0</td>\n",
       "      <td>0.0</td>\n",
       "      <td>...</td>\n",
       "      <td>0</td>\n",
       "      <td>0</td>\n",
       "      <td>0</td>\n",
       "      <td>0</td>\n",
       "      <td>0</td>\n",
       "      <td>0</td>\n",
       "      <td>0</td>\n",
       "      <td>0</td>\n",
       "      <td>0</td>\n",
       "      <td>0</td>\n",
       "    </tr>\n",
       "    <tr>\n",
       "      <th>46250</th>\n",
       "      <td>0</td>\n",
       "      <td>1</td>\n",
       "      <td>0</td>\n",
       "      <td>0</td>\n",
       "      <td>0</td>\n",
       "      <td>0</td>\n",
       "      <td>2.99</td>\n",
       "      <td>2.99</td>\n",
       "      <td>1</td>\n",
       "      <td>0.0</td>\n",
       "      <td>...</td>\n",
       "      <td>0</td>\n",
       "      <td>0</td>\n",
       "      <td>0</td>\n",
       "      <td>0</td>\n",
       "      <td>0</td>\n",
       "      <td>0</td>\n",
       "      <td>0</td>\n",
       "      <td>0</td>\n",
       "      <td>0</td>\n",
       "      <td>0</td>\n",
       "    </tr>\n",
       "    <tr>\n",
       "      <th>46251</th>\n",
       "      <td>4</td>\n",
       "      <td>97</td>\n",
       "      <td>0</td>\n",
       "      <td>0</td>\n",
       "      <td>0</td>\n",
       "      <td>0</td>\n",
       "      <td>29.99</td>\n",
       "      <td>29.99</td>\n",
       "      <td>16</td>\n",
       "      <td>0.0</td>\n",
       "      <td>...</td>\n",
       "      <td>0</td>\n",
       "      <td>0</td>\n",
       "      <td>0</td>\n",
       "      <td>0</td>\n",
       "      <td>0</td>\n",
       "      <td>0</td>\n",
       "      <td>0</td>\n",
       "      <td>0</td>\n",
       "      <td>0</td>\n",
       "      <td>0</td>\n",
       "    </tr>\n",
       "  </tbody>\n",
       "</table>\n",
       "<p>46252 rows × 56 columns</p>\n",
       "</div>"
      ],
      "text/plain": [
       "       24_Hour_Peak  All_time_peak  average_forever  average_2weeks  \\\n",
       "0             20930          60742            12492            1401   \n",
       "1             13428          53891             4018             277   \n",
       "2              1234           4148             1316             310   \n",
       "3              4553          14880             1841             183   \n",
       "4              4205          50876             1943             313   \n",
       "...             ...            ...              ...             ...   \n",
       "46247             0              0                0               0   \n",
       "46248             0              0                0               0   \n",
       "46249           814           1176                0               0   \n",
       "46250             0              1                0               0   \n",
       "46251             4             97                0               0   \n",
       "\n",
       "       median_forever  median_2weeks  price  initialprice  num_lang  \\\n",
       "0                5368            921  34.99         34.99        35   \n",
       "1                1532             62  13.99         13.99        24   \n",
       "2                 370            582  19.99         19.99        14   \n",
       "3                 868            213  14.99         24.99        21   \n",
       "4                 941            277  29.99         29.99        38   \n",
       "...               ...            ...    ...           ...       ...   \n",
       "46247               0              0  14.99         14.99         4   \n",
       "46248               0              0   9.99          9.99         1   \n",
       "46249               0              0   0.00          0.00         0   \n",
       "46250               0              0   2.99          2.99         1   \n",
       "46251               0              0  29.99         29.99        16   \n",
       "\n",
       "       required_age  ...  AudioProduction  PhotoEditing  GameDevelopment  \\\n",
       "0               0.0  ...                0             0                0   \n",
       "1               0.0  ...                0             0                0   \n",
       "2               0.0  ...                0             0                0   \n",
       "3               0.0  ...                0             0                0   \n",
       "4               0.0  ...                0             0                0   \n",
       "...             ...  ...              ...           ...              ...   \n",
       "46247           0.0  ...                0             0                0   \n",
       "46248           0.0  ...                0             0                0   \n",
       "46249           0.0  ...                0             0                0   \n",
       "46250           0.0  ...                0             0                0   \n",
       "46251           0.0  ...                0             0                0   \n",
       "\n",
       "       ActionGames  Movie  Documentary  Episodic  Short  Tutorial  360V  \n",
       "0                0      0            0         0      0         0     0  \n",
       "1                0      0            0         0      0         0     0  \n",
       "2                0      0            0         0      0         0     0  \n",
       "3                0      0            0         0      0         0     0  \n",
       "4                0      0            0         0      0         0     0  \n",
       "...            ...    ...          ...       ...    ...       ...   ...  \n",
       "46247            0      0            0         0      0         0     0  \n",
       "46248            0      0            0         0      0         0     0  \n",
       "46249            0      0            0         0      0         0     0  \n",
       "46250            0      0            0         0      0         0     0  \n",
       "46251            0      0            0         0      0         0     0  \n",
       "\n",
       "[46252 rows x 56 columns]"
      ]
     },
     "execution_count": 9,
     "metadata": {},
     "output_type": "execute_result"
    }
   ],
   "source": [
    "onehot_x"
   ]
  },
  {
   "cell_type": "code",
   "execution_count": null,
   "metadata": {},
   "outputs": [],
   "source": [
    "pca = PCA(random_state=1004)\n",
    "pca.fit_transform(genre_pre)\n",
    "\n",
    "\n",
    "## percentage of variance explained\n",
    "print(len(pca.explained_variance_ratio_))\n",
    "print(pca.explained_variance_ratio_)\n",
    "\n",
    "# [0.92461872 0.05306648 0.01710261 0.00521218]\n",
    "\n",
    "\n",
    "## Principal 1 & 2 explain about 97.8% of variance\n",
    "plt.rcParams['figure.figsize'] = (7, 7)\n",
    "plt.plot(range(1, genre_pre.shape[1]+1), pca.explained_variance_ratio_)\n",
    "plt.xlabel(\"number of Principal Components\", fontsize=12)\n",
    "plt.ylabel(\"% of Variance Explained\", fontsize=12)\n",
    "plt.show()"
   ]
  },
  {
   "cell_type": "code",
   "execution_count": null,
   "metadata": {},
   "outputs": [],
   "source": [
    "pca = PCA(n_components=4, random_state=1004)\n",
    "genre_pca = pca.fit_transform(genre_pre)\n",
    "genre_pca=pd.DataFrame(genre_pca)"
   ]
  },
  {
   "cell_type": "code",
   "execution_count": null,
   "metadata": {},
   "outputs": [],
   "source": [
    "genre_pca.columns=[\"pca1\",\"pca2\",\"pca3\",\"pca4\"]"
   ]
  },
  {
   "cell_type": "code",
   "execution_count": null,
   "metadata": {},
   "outputs": [],
   "source": [
    "x_genre_pca=pd.concat([x_no_genre,genre_pca],axis=1)\n",
    "x_genre_pca=x_genre_pca.drop(columns=[\"index\"])"
   ]
  },
  {
   "cell_type": "code",
   "execution_count": null,
   "metadata": {},
   "outputs": [],
   "source": [
    "onehot_x.columns"
   ]
  },
  {
   "cell_type": "code",
   "execution_count": 10,
   "metadata": {},
   "outputs": [
    {
     "name": "stdout",
     "output_type": "stream",
     "text": [
      "Fitting 5 folds for each of 100 candidates, totalling 500 fits\n"
     ]
    },
    {
     "name": "stderr",
     "output_type": "stream",
     "text": [
      "[Parallel(n_jobs=-1)]: Using backend ThreadingBackend with 8 concurrent workers.\n"
     ]
    },
    {
     "name": "stdout",
     "output_type": "stream",
     "text": [
      "building tree 1 of 100\n",
      "building tree 2 of 100\n",
      "building tree 3 of 100\n",
      "building tree 4 of 100\n",
      "building tree 5 of 100\n",
      "building tree 6 of 100\n",
      "building tree 7 of 100\n",
      "building tree 8 of 100\n",
      "building tree 9 of 100\n",
      "building tree 10 of 100building tree 11 of 100\n",
      "building tree 12 of 100\n",
      "\n",
      "building tree 13 of 100building tree 14 of 100\n",
      "building tree 15 of 100\n",
      "\n",
      "building tree 16 of 100\n",
      "building tree 17 of 100\n",
      "building tree 18 of 100building tree 19 of 100\n",
      "\n",
      "building tree 20 of 100\n",
      "building tree 21 of 100\n",
      "building tree 22 of 100building tree 23 of 100\n",
      "\n",
      "building tree 24 of 100\n",
      "building tree 25 of 100\n",
      "building tree 26 of 100\n",
      "building tree 27 of 100\n",
      "building tree 28 of 100\n",
      "building tree 29 of 100\n",
      "building tree 30 of 100\n",
      "building tree 31 of 100\n",
      "building tree 32 of 100\n",
      "building tree 33 of 100\n"
     ]
    },
    {
     "name": "stderr",
     "output_type": "stream",
     "text": [
      "[Parallel(n_jobs=-1)]: Done  25 tasks      | elapsed:    0.3s\n"
     ]
    },
    {
     "name": "stdout",
     "output_type": "stream",
     "text": [
      "building tree 34 of 100\n",
      "building tree 35 of 100\n",
      "building tree 36 of 100\n",
      "building tree 37 of 100\n",
      "building tree 38 of 100building tree 39 of 100\n",
      "\n",
      "building tree 40 of 100\n",
      "building tree 41 of 100\n",
      "building tree 42 of 100\n",
      "building tree 43 of 100\n",
      "building tree 44 of 100\n",
      "building tree 45 of 100\n",
      "building tree 46 of 100\n",
      "building tree 47 of 100\n",
      "building tree 48 of 100\n",
      "building tree 49 of 100\n",
      "building tree 50 of 100\n",
      "building tree 51 of 100\n",
      "building tree 52 of 100\n",
      "building tree 53 of 100\n",
      "building tree 54 of 100\n",
      "building tree 55 of 100\n",
      "building tree 56 of 100\n",
      "building tree 57 of 100\n",
      "building tree 58 of 100building tree 59 of 100\n",
      "\n",
      "building tree 60 of 100\n",
      "building tree 61 of 100\n",
      "building tree 62 of 100\n",
      "building tree 63 of 100\n",
      "building tree 64 of 100\n",
      "building tree 65 of 100\n",
      "building tree 66 of 100building tree 67 of 100\n",
      "\n",
      "building tree 68 of 100\n",
      "building tree 69 of 100\n",
      "building tree 70 of 100\n",
      "building tree 71 of 100\n",
      "building tree 72 of 100\n",
      "building tree 73 of 100\n",
      "building tree 74 of 100building tree 75 of 100\n",
      "\n",
      "building tree 76 of 100\n",
      "building tree 77 of 100\n",
      "building tree 78 of 100building tree 79 of 100\n",
      "\n",
      "building tree 80 of 100\n",
      "building tree 81 of 100\n",
      "building tree 82 of 100building tree 83 of 100\n",
      "\n",
      "building tree 84 of 100\n",
      "building tree 85 of 100\n",
      "building tree 86 of 100building tree 87 of 100\n",
      "\n",
      "building tree 88 of 100\n",
      "building tree 89 of 100\n",
      "building tree 90 of 100\n",
      "building tree 91 of 100\n",
      "building tree 92 of 100\n",
      "building tree 93 of 100\n",
      "building tree 94 of 100\n",
      "building tree 95 of 100\n",
      "building tree 96 of 100\n",
      "building tree 97 of 100\n",
      "building tree 98 of 100building tree 99 of 100\n",
      "\n",
      "building tree 100 of 100\n"
     ]
    },
    {
     "name": "stderr",
     "output_type": "stream",
     "text": [
      "[Parallel(n_jobs=-1)]: Done 100 out of 100 | elapsed:    1.2s finished\n"
     ]
    },
    {
     "data": {
      "text/html": [
       "<style>#sk-container-id-1 {color: black;background-color: white;}#sk-container-id-1 pre{padding: 0;}#sk-container-id-1 div.sk-toggleable {background-color: white;}#sk-container-id-1 label.sk-toggleable__label {cursor: pointer;display: block;width: 100%;margin-bottom: 0;padding: 0.3em;box-sizing: border-box;text-align: center;}#sk-container-id-1 label.sk-toggleable__label-arrow:before {content: \"▸\";float: left;margin-right: 0.25em;color: #696969;}#sk-container-id-1 label.sk-toggleable__label-arrow:hover:before {color: black;}#sk-container-id-1 div.sk-estimator:hover label.sk-toggleable__label-arrow:before {color: black;}#sk-container-id-1 div.sk-toggleable__content {max-height: 0;max-width: 0;overflow: hidden;text-align: left;background-color: #f0f8ff;}#sk-container-id-1 div.sk-toggleable__content pre {margin: 0.2em;color: black;border-radius: 0.25em;background-color: #f0f8ff;}#sk-container-id-1 input.sk-toggleable__control:checked~div.sk-toggleable__content {max-height: 200px;max-width: 100%;overflow: auto;}#sk-container-id-1 input.sk-toggleable__control:checked~label.sk-toggleable__label-arrow:before {content: \"▾\";}#sk-container-id-1 div.sk-estimator input.sk-toggleable__control:checked~label.sk-toggleable__label {background-color: #d4ebff;}#sk-container-id-1 div.sk-label input.sk-toggleable__control:checked~label.sk-toggleable__label {background-color: #d4ebff;}#sk-container-id-1 input.sk-hidden--visually {border: 0;clip: rect(1px 1px 1px 1px);clip: rect(1px, 1px, 1px, 1px);height: 1px;margin: -1px;overflow: hidden;padding: 0;position: absolute;width: 1px;}#sk-container-id-1 div.sk-estimator {font-family: monospace;background-color: #f0f8ff;border: 1px dotted black;border-radius: 0.25em;box-sizing: border-box;margin-bottom: 0.5em;}#sk-container-id-1 div.sk-estimator:hover {background-color: #d4ebff;}#sk-container-id-1 div.sk-parallel-item::after {content: \"\";width: 100%;border-bottom: 1px solid gray;flex-grow: 1;}#sk-container-id-1 div.sk-label:hover label.sk-toggleable__label {background-color: #d4ebff;}#sk-container-id-1 div.sk-serial::before {content: \"\";position: absolute;border-left: 1px solid gray;box-sizing: border-box;top: 0;bottom: 0;left: 50%;z-index: 0;}#sk-container-id-1 div.sk-serial {display: flex;flex-direction: column;align-items: center;background-color: white;padding-right: 0.2em;padding-left: 0.2em;position: relative;}#sk-container-id-1 div.sk-item {position: relative;z-index: 1;}#sk-container-id-1 div.sk-parallel {display: flex;align-items: stretch;justify-content: center;background-color: white;position: relative;}#sk-container-id-1 div.sk-item::before, #sk-container-id-1 div.sk-parallel-item::before {content: \"\";position: absolute;border-left: 1px solid gray;box-sizing: border-box;top: 0;bottom: 0;left: 50%;z-index: -1;}#sk-container-id-1 div.sk-parallel-item {display: flex;flex-direction: column;z-index: 1;position: relative;background-color: white;}#sk-container-id-1 div.sk-parallel-item:first-child::after {align-self: flex-end;width: 50%;}#sk-container-id-1 div.sk-parallel-item:last-child::after {align-self: flex-start;width: 50%;}#sk-container-id-1 div.sk-parallel-item:only-child::after {width: 0;}#sk-container-id-1 div.sk-dashed-wrapped {border: 1px dashed gray;margin: 0 0.4em 0.5em 0.4em;box-sizing: border-box;padding-bottom: 0.4em;background-color: white;}#sk-container-id-1 div.sk-label label {font-family: monospace;font-weight: bold;display: inline-block;line-height: 1.2em;}#sk-container-id-1 div.sk-label-container {text-align: center;}#sk-container-id-1 div.sk-container {/* jupyter's `normalize.less` sets `[hidden] { display: none; }` but bootstrap.min.css set `[hidden] { display: none !important; }` so we also need the `!important` here to be able to override the default hidden behavior on the sphinx rendered scikit-learn.org. See: https://github.com/scikit-learn/scikit-learn/issues/21755 */display: inline-block !important;position: relative;}#sk-container-id-1 div.sk-text-repr-fallback {display: none;}</style><div id=\"sk-container-id-1\" class=\"sk-top-container\"><div class=\"sk-text-repr-fallback\"><pre>RandomizedSearchCV(cv=KFold(n_splits=5, random_state=1234, shuffle=True),\n",
       "                   estimator=RandomForestClassifier(n_jobs=-1,\n",
       "                                                    random_state=1234,\n",
       "                                                    verbose=2),\n",
       "                   n_iter=100, n_jobs=-1,\n",
       "                   param_distributions={&#x27;criterion&#x27;: [&#x27;gini&#x27;, &#x27;entropy&#x27;,\n",
       "                                                      &#x27;log_loss&#x27;],\n",
       "                                        &#x27;max_depth&#x27;: [2, 5, 10, 20, 100],\n",
       "                                        &#x27;max_features&#x27;: [&#x27;sqrt&#x27;, &#x27;log2&#x27;, None],\n",
       "                                        &#x27;min_samples_leaf&#x27;: [1, 2, 4],\n",
       "                                        &#x27;min_samples_split&#x27;: [2, 5, 10],\n",
       "                                        &#x27;n_estimators&#x27;: [10, 100, 500, 1000]},\n",
       "                   random_state=1234, scoring=&#x27;accuracy&#x27;, verbose=3)</pre><b>In a Jupyter environment, please rerun this cell to show the HTML representation or trust the notebook. <br />On GitHub, the HTML representation is unable to render, please try loading this page with nbviewer.org.</b></div><div class=\"sk-container\" hidden><div class=\"sk-item sk-dashed-wrapped\"><div class=\"sk-label-container\"><div class=\"sk-label sk-toggleable\"><input class=\"sk-toggleable__control sk-hidden--visually\" id=\"sk-estimator-id-1\" type=\"checkbox\" ><label for=\"sk-estimator-id-1\" class=\"sk-toggleable__label sk-toggleable__label-arrow\">RandomizedSearchCV</label><div class=\"sk-toggleable__content\"><pre>RandomizedSearchCV(cv=KFold(n_splits=5, random_state=1234, shuffle=True),\n",
       "                   estimator=RandomForestClassifier(n_jobs=-1,\n",
       "                                                    random_state=1234,\n",
       "                                                    verbose=2),\n",
       "                   n_iter=100, n_jobs=-1,\n",
       "                   param_distributions={&#x27;criterion&#x27;: [&#x27;gini&#x27;, &#x27;entropy&#x27;,\n",
       "                                                      &#x27;log_loss&#x27;],\n",
       "                                        &#x27;max_depth&#x27;: [2, 5, 10, 20, 100],\n",
       "                                        &#x27;max_features&#x27;: [&#x27;sqrt&#x27;, &#x27;log2&#x27;, None],\n",
       "                                        &#x27;min_samples_leaf&#x27;: [1, 2, 4],\n",
       "                                        &#x27;min_samples_split&#x27;: [2, 5, 10],\n",
       "                                        &#x27;n_estimators&#x27;: [10, 100, 500, 1000]},\n",
       "                   random_state=1234, scoring=&#x27;accuracy&#x27;, verbose=3)</pre></div></div></div><div class=\"sk-parallel\"><div class=\"sk-parallel-item\"><div class=\"sk-item\"><div class=\"sk-label-container\"><div class=\"sk-label sk-toggleable\"><input class=\"sk-toggleable__control sk-hidden--visually\" id=\"sk-estimator-id-2\" type=\"checkbox\" ><label for=\"sk-estimator-id-2\" class=\"sk-toggleable__label sk-toggleable__label-arrow\">estimator: RandomForestClassifier</label><div class=\"sk-toggleable__content\"><pre>RandomForestClassifier(n_jobs=-1, random_state=1234, verbose=2)</pre></div></div></div><div class=\"sk-serial\"><div class=\"sk-item\"><div class=\"sk-estimator sk-toggleable\"><input class=\"sk-toggleable__control sk-hidden--visually\" id=\"sk-estimator-id-3\" type=\"checkbox\" ><label for=\"sk-estimator-id-3\" class=\"sk-toggleable__label sk-toggleable__label-arrow\">RandomForestClassifier</label><div class=\"sk-toggleable__content\"><pre>RandomForestClassifier(n_jobs=-1, random_state=1234, verbose=2)</pre></div></div></div></div></div></div></div></div></div></div>"
      ],
      "text/plain": [
       "RandomizedSearchCV(cv=KFold(n_splits=5, random_state=1234, shuffle=True),\n",
       "                   estimator=RandomForestClassifier(n_jobs=-1,\n",
       "                                                    random_state=1234,\n",
       "                                                    verbose=2),\n",
       "                   n_iter=100, n_jobs=-1,\n",
       "                   param_distributions={'criterion': ['gini', 'entropy',\n",
       "                                                      'log_loss'],\n",
       "                                        'max_depth': [2, 5, 10, 20, 100],\n",
       "                                        'max_features': ['sqrt', 'log2', None],\n",
       "                                        'min_samples_leaf': [1, 2, 4],\n",
       "                                        'min_samples_split': [2, 5, 10],\n",
       "                                        'n_estimators': [10, 100, 500, 1000]},\n",
       "                   random_state=1234, scoring='accuracy', verbose=3)"
      ]
     },
     "execution_count": 10,
     "metadata": {},
     "output_type": "execute_result"
    }
   ],
   "source": [
    "x_train, x_val, y_train, y_val = train_test_split(\n",
    "    onehot_x,    # 문제 --> train/val\n",
    "    y_true,    # 정답지\n",
    "    test_size= 0.2, # train 데이터 중에서 20프로만 중간 검사용으로 빼두자..\n",
    "    random_state= 1234, # 옵션 : 나중에 재현성을 위해서 seed값.\n",
    "    stratify = y_true # 옵션 : 나눌 때 비율을 유지할지 말지....\n",
    ")\n",
    "kfold = KFold( n_splits=5, random_state=1234, shuffle=True)\n",
    "# cv = 5 ---> 내가 run할 때 마다 셋들이 5개이기는 하지만 구성이 제각가..\n",
    "# cv = kold ---> 언제, 어디서 하더라도 5개 셋이, 다 고정으로 동일하게 적용!!!\n",
    "# 1) 모델\n",
    "rf = RandomForestClassifier(n_jobs=-1, random_state=1234,verbose=2)\n",
    "# 2) 파라미터의 조합 RGS --> 여러개가 있지만,,대표적인 것만 세팅..\n",
    "parameters = {\n",
    "    # 몇 개의 모델을 활용할지 \n",
    "    \"n_estimators\" : [10, 100, 500, 1000], # 7\n",
    "    # 세로에 대해서 어떻게 샘플링을 할지.\n",
    "    \"max_features\" : [\"sqrt\",\"log2\", None], # 3\n",
    "    \"min_samples_split\" : [2, 5, 10],\n",
    "    # 각 모델이 dt의 overfit을 조절하기\n",
    "    \"max_depth\" : [2,5,10,20,100], # 10\n",
    "    # min sample leaf\n",
    "    \"min_samples_leaf\" : [1, 2, 4],\n",
    "    \"criterion\" : [\"gini\", \"entropy\", \"log_loss\"],\n",
    "    # 기타 여러 parameters 세팅 가능함....\n",
    "}\n",
    "# 3) RGS --> 몇 번 반복할지 \n",
    "n_iter = 100\n",
    "# 4) RGSCV 세팅.\n",
    "rf_onehot = RandomizedSearchCV( rf, \n",
    "                                  param_distributions= parameters,\n",
    "                                  cv = kfold,\n",
    "                                  scoring = \"accuracy\",\n",
    "                                  n_jobs= -1,\n",
    "                                  random_state=1234,\n",
    "                                  n_iter = n_iter,verbose=3\n",
    "                                  )\n",
    "# 5) 학습\n",
    "rf_onehot.fit(x_train, y_train)"
   ]
  },
  {
   "cell_type": "code",
   "execution_count": 11,
   "metadata": {},
   "outputs": [
    {
     "name": "stderr",
     "output_type": "stream",
     "text": [
      "[Parallel(n_jobs=8)]: Using backend ThreadingBackend with 8 concurrent workers.\n",
      "[Parallel(n_jobs=8)]: Done  25 tasks      | elapsed:    0.0s\n",
      "[Parallel(n_jobs=8)]: Done 100 out of 100 | elapsed:    0.0s finished\n"
     ]
    }
   ],
   "source": [
    "y_pred_val = rf_onehot.best_estimator_.predict(x_val)"
   ]
  },
  {
   "cell_type": "code",
   "execution_count": 12,
   "metadata": {},
   "outputs": [
    {
     "name": "stdout",
     "output_type": "stream",
     "text": [
      "              precision    recall  f1-score   support\n",
      "\n",
      "           0       0.73      0.86      0.79      5367\n",
      "           1       0.74      0.56      0.63      3884\n",
      "\n",
      "    accuracy                           0.73      9251\n",
      "   macro avg       0.73      0.71      0.71      9251\n",
      "weighted avg       0.73      0.73      0.72      9251\n",
      "\n"
     ]
    }
   ],
   "source": [
    "print(classification_report(y_val, y_pred_val))"
   ]
  },
  {
   "cell_type": "code",
   "execution_count": null,
   "metadata": {},
   "outputs": [],
   "source": [
    "x_val"
   ]
  },
  {
   "cell_type": "code",
   "execution_count": null,
   "metadata": {},
   "outputs": [],
   "source": [
    "y_pred_val = rf_onehot.best_estimator_.predict(x_val)"
   ]
  },
  {
   "cell_type": "code",
   "execution_count": null,
   "metadata": {},
   "outputs": [],
   "source": [
    "print(classification_report(y_val, y_pred_val))"
   ]
  },
  {
   "cell_type": "code",
   "execution_count": null,
   "metadata": {},
   "outputs": [],
   "source": [
    "# Get and reshape confusion matrix data\n",
    "matrix = confusion_matrix(y_val, y_pred_val)\n",
    "matrix = matrix.astype('float') / matrix.sum(axis=1)[:, np.newaxis]\n",
    "\n",
    "# Build the plot\n",
    "plt.figure(figsize=(16,7))\n",
    "sns.set(font_scale=1.4)\n",
    "sns.heatmap(matrix, annot=True, annot_kws={'size':10},\n",
    "            cmap=plt.cm.Greens, linewidths=0.2)\n",
    "\n",
    "# Add labels to the plot\n",
    "class_names = ['Mixed', 'Negative', 'No_interest', 'Positive']\n",
    "tick_marks = np.arange(len(class_names))\n",
    "tick_marks2 = tick_marks + 0.5\n",
    "plt.xticks(tick_marks, class_names, rotation=25)\n",
    "plt.yticks(tick_marks2, class_names, rotation=0)\n",
    "plt.xlabel('Predicted label')\n",
    "plt.ylabel('True label')\n",
    "plt.title('Confusion Matrix for Random Forest Model')\n",
    "plt.show()"
   ]
  },
  {
   "cell_type": "code",
   "execution_count": null,
   "metadata": {},
   "outputs": [],
   "source": [
    "le.classes_"
   ]
  },
  {
   "cell_type": "code",
   "execution_count": null,
   "metadata": {},
   "outputs": [],
   "source": [
    "from imblearn.over_sampling import SMOTE\n",
    "from collections import Counter"
   ]
  },
  {
   "cell_type": "code",
   "execution_count": null,
   "metadata": {},
   "outputs": [],
   "source": [
    "smote = SMOTE()\n",
    "\n",
    "# fit predictor and target variable\n",
    "x_smote, y_smote = smote.fit_resample(x_train, y_train)\n",
    "\n",
    "print('Original dataset shape', Counter(y_train))\n",
    "print('Resample dataset shape', Counter(y_smote))"
   ]
  },
  {
   "cell_type": "code",
   "execution_count": null,
   "metadata": {},
   "outputs": [],
   "source": [
    "x_smote"
   ]
  },
  {
   "cell_type": "code",
   "execution_count": null,
   "metadata": {},
   "outputs": [],
   "source": [
    "kfold = KFold( n_splits=5, random_state=1234, shuffle=True)\n",
    "# cv = 5 ---> 내가 run할 때 마다 셋들이 5개이기는 하지만 구성이 제각가..\n",
    "# cv = kold ---> 언제, 어디서 하더라도 5개 셋이, 다 고정으로 동일하게 적용!!!\n",
    "# 1) 모델\n",
    "rf = RandomForestClassifier(n_jobs=-1, random_state=1234,verbose=2)\n",
    "# 2) 파라미터의 조합 RGS --> 여러개가 있지만,,대표적인 것만 세팅..\n",
    "parameters = {\n",
    "    # 몇 개의 모델을 활용할지 \n",
    "    \"n_estimators\" : [10, 100, 500, 1000], # 7\n",
    "    # 세로에 대해서 어떻게 샘플링을 할지.\n",
    "    \"max_features\" : [\"sqrt\",\"log2\", None], # 3\n",
    "    \"min_samples_split\" : [2, 5, 10],\n",
    "    # 각 모델이 dt의 overfit을 조절하기\n",
    "    \"max_depth\" : [2,5,10,20,100], # 10\n",
    "    # min sample leaf\n",
    "    \"min_samples_leaf\" : [1, 2, 4],\n",
    "    \"criterion\" : [\"gini\", \"entropy\", \"log_loss\"],\n",
    "    # 기타 여러 parameters 세팅 가능함....\n",
    "}\n",
    "# 3) RGS --> 몇 번 반복할지 \n",
    "n_iter = 100\n",
    "# 4) RGSCV 세팅.\n",
    "rf_smote_base = RandomizedSearchCV( rf, \n",
    "                                  param_distributions= parameters,\n",
    "                                  cv = kfold,\n",
    "                                  scoring = \"accuracy\",\n",
    "                                  n_jobs= -1,\n",
    "                                  random_state=1234,\n",
    "                                  n_iter = n_iter,verbose=3\n",
    "                                  )\n",
    "# 5) 학습\n",
    "rf_smote_base.fit(x_smote, y_smote)"
   ]
  },
  {
   "cell_type": "code",
   "execution_count": null,
   "metadata": {},
   "outputs": [],
   "source": [
    "y_pred_val = rf_smote_base.best_estimator_.predict(x_val)"
   ]
  },
  {
   "cell_type": "code",
   "execution_count": null,
   "metadata": {},
   "outputs": [],
   "source": [
    "rf_parameter=[]\n",
    "a_tmp=list(x_train.columns)\n",
    "b_tmp=list(rf_smote_base.best_estimator_.feature_importances_)\n",
    "for i in range(len(a_tmp)):\n",
    "    rf_parameter.append([a_tmp[i],b_tmp[i]])\n",
    "rf_parameter=pd.DataFrame(rf_parameter)\n",
    "rf_parameter=rf_parameter.sort_values(by=[1],ascending=False)"
   ]
  },
  {
   "cell_type": "code",
   "execution_count": null,
   "metadata": {},
   "outputs": [],
   "source": [
    "rf_parameter"
   ]
  },
  {
   "cell_type": "code",
   "execution_count": null,
   "metadata": {},
   "outputs": [],
   "source": [
    "print(classification_report(y_val, y_pred_val))"
   ]
  },
  {
   "cell_type": "code",
   "execution_count": null,
   "metadata": {},
   "outputs": [],
   "source": [
    "# Get and reshape confusion matrix data\n",
    "matrix = confusion_matrix(y_val, y_pred_val)\n",
    "matrix = matrix.astype('float') / matrix.sum(axis=1)[:, np.newaxis]\n",
    "\n",
    "# Build the plot\n",
    "plt.figure(figsize=(16,7))\n",
    "sns.set(font_scale=1.4)\n",
    "sns.heatmap(matrix, annot=True, annot_kws={'size':10},\n",
    "            cmap=plt.cm.Greens, linewidths=0.2)\n",
    "\n",
    "# Add labels to the plot\n",
    "class_names = ['Mixed', 'Negative', 'No_interest', 'Positive']\n",
    "tick_marks = np.arange(len(class_names))\n",
    "tick_marks2 = tick_marks + 0.5\n",
    "plt.xticks(tick_marks, class_names, rotation=25)\n",
    "plt.yticks(tick_marks2, class_names, rotation=0)\n",
    "plt.xlabel('Predicted label')\n",
    "plt.ylabel('True label')\n",
    "plt.title('Confusion Matrix for Random Forest Model')\n",
    "plt.show()"
   ]
  },
  {
   "cell_type": "code",
   "execution_count": null,
   "metadata": {},
   "outputs": [],
   "source": [
    "df_genre=pd.DataFrame(tmp.genre)\n",
    "##########Genre Category#########\n",
    "genre_total_lst=dict()\n",
    "for i in range(len(df_genre)):\n",
    "    a=df_genre.iloc[i,0].replace(\" \",\"\").split(\",\")\n",
    "    for j in range(len(a)):\n",
    "        genre_total_lst[a[j]]=0\n",
    "genre_total_lst=list(genre_total_lst.keys())\n",
    "\n",
    "###########Genre Onehot##################################\n",
    "df_genre=pd.DataFrame(tmp.genre)\n",
    "genre_pre=[]\n",
    "for i in range(len(df_genre)):\n",
    "    a=df_genre.iloc[i,0].replace(\" \",\"\").split(\",\")\n",
    "    category=[0 for j in range(len(genre_total_lst))]\n",
    "    for j in range(len(a)):\n",
    "        for k in range(len(genre_total_lst)):\n",
    "            if a[j]==genre_total_lst[k]:\n",
    "                category[k]+=1\n",
    "    genre_pre.append(category)\n",
    "genre_pre=pd.DataFrame(genre_pre)\n",
    "genre_pre.columns=genre_total_lst\n",
    "\n",
    "x_no_genre=tmp.drop(columns=[\"appid\",\"positive\",\"negative\",\"genre\",\"new_date\",\"Review\",\"recommendations\"])\n",
    "x_no_genre.reset_index(inplace=True)\n",
    "\n",
    "onehot_x=pd.concat([x_no_genre,genre_pre],axis=1)\n",
    "onehot_x=onehot_x.drop(columns=[\"index\"])\n"
   ]
  },
  {
   "cell_type": "code",
   "execution_count": null,
   "metadata": {},
   "outputs": [],
   "source": [
    "onehot_x"
   ]
  },
  {
   "cell_type": "code",
   "execution_count": null,
   "metadata": {},
   "outputs": [],
   "source": [
    "x_train, x_val, y_train, y_val = train_test_split(\n",
    "    onehot_x,    # 문제 --> train/val\n",
    "    y_true,    # 정답지\n",
    "    test_size= 0.2, # train 데이터 중에서 20프로만 중간 검사용으로 빼두자..\n",
    "    random_state= 1234, # 옵션 : 나중에 재현성을 위해서 seed값.\n",
    "    stratify = y_true # 옵션 : 나눌 때 비율을 유지할지 말지....\n",
    ")"
   ]
  },
  {
   "cell_type": "code",
   "execution_count": null,
   "metadata": {},
   "outputs": [],
   "source": [
    "smote = SMOTE()\n",
    "\n",
    "# fit predictor and target variable\n",
    "x_smote, y_smote = smote.fit_resample(x_train, y_train)\n",
    "\n",
    "print('Original dataset shape', Counter(y_train))\n",
    "print('Resample dataset shape', Counter(y_smote))"
   ]
  },
  {
   "cell_type": "code",
   "execution_count": null,
   "metadata": {},
   "outputs": [],
   "source": [
    "kfold = KFold( n_splits=5, random_state=1234, shuffle=True)\n",
    "# cv = 5 ---> 내가 run할 때 마다 셋들이 5개이기는 하지만 구성이 제각가..\n",
    "# cv = kold ---> 언제, 어디서 하더라도 5개 셋이, 다 고정으로 동일하게 적용!!!\n",
    "# 1) 모델\n",
    "rf = RandomForestClassifier(n_jobs=-1, random_state=1234,verbose=2)\n",
    "# 2) 파라미터의 조합 RGS --> 여러개가 있지만,,대표적인 것만 세팅..\n",
    "parameters = {\n",
    "    # 몇 개의 모델을 활용할지 \n",
    "    \"n_estimators\" : [10, 100, 500, 1000], # 7\n",
    "    # 세로에 대해서 어떻게 샘플링을 할지.\n",
    "    \"max_features\" : [\"sqrt\",\"log2\", None], # 3\n",
    "    \"min_samples_split\" : [2, 5, 10],\n",
    "    # 각 모델이 dt의 overfit을 조절하기\n",
    "    \"max_depth\" : [2,5,10,20,100], # 10\n",
    "    # min sample leaf\n",
    "    \"min_samples_leaf\" : [1, 2, 4],\n",
    "    \"criterion\" : [\"gini\", \"entropy\", \"log_loss\"],\n",
    "    # 기타 여러 parameters 세팅 가능함....\n",
    "}\n",
    "# 3) RGS --> 몇 번 반복할지 \n",
    "n_iter = 100\n",
    "# 4) RGSCV 세팅.\n",
    "rf_smote_onehot = RandomizedSearchCV( rf, \n",
    "                                  param_distributions= parameters,\n",
    "                                  cv = kfold,\n",
    "                                  scoring = \"accuracy\",\n",
    "                                  n_jobs= -1,\n",
    "                                  random_state=1234,\n",
    "                                  n_iter = n_iter,verbose=3\n",
    "                                  )\n",
    "# 5) 학습\n",
    "rf_smote_onehot.fit(x_smote, y_smote)"
   ]
  },
  {
   "cell_type": "code",
   "execution_count": null,
   "metadata": {},
   "outputs": [],
   "source": [
    "rf_smote_onehot.best_score_"
   ]
  },
  {
   "cell_type": "code",
   "execution_count": null,
   "metadata": {},
   "outputs": [],
   "source": [
    "y_pred_val = rf_smote_onehot.best_estimator_.predict(x_val)"
   ]
  },
  {
   "cell_type": "code",
   "execution_count": null,
   "metadata": {},
   "outputs": [],
   "source": [
    "rf_smote_onehot.best_estimator_\n",
    "# RandomForestClassifier(criterion='log_loss', max_depth=100, max_features=None,\n",
    "#                        min_samples_split=10, n_estimators=1000, n_jobs=-1,\n",
    "#                        random_state=1234, verbose=2)"
   ]
  },
  {
   "cell_type": "code",
   "execution_count": null,
   "metadata": {},
   "outputs": [],
   "source": [
    "rf_parameter=[]\n",
    "a_tmp=list(x_train.columns)\n",
    "b_tmp=list(rf_smote_onehot.best_estimator_.feature_importances_)\n",
    "for i in range(len(a_tmp)):\n",
    "    rf_parameter.append([a_tmp[i],b_tmp[i]])\n",
    "rf_parameter=pd.DataFrame(rf_parameter)\n",
    "rf_parameter=rf_parameter.sort_values(by=[1],ascending=False)"
   ]
  },
  {
   "cell_type": "code",
   "execution_count": null,
   "metadata": {},
   "outputs": [],
   "source": [
    "rf_parameter"
   ]
  },
  {
   "cell_type": "code",
   "execution_count": null,
   "metadata": {},
   "outputs": [],
   "source": [
    "print(classification_report(y_val, y_pred_val))\n",
    "#               precision    recall  f1-score   support\n",
    "\n",
    "#            0       0.30      0.21      0.25      1315\n",
    "#            1       0.12      0.14      0.13       232\n",
    "#            2       0.66      0.78      0.71      3820\n",
    "#            3       0.67      0.62      0.65      3884\n",
    "\n",
    "#     accuracy                           0.62      9251\n",
    "#    macro avg       0.44      0.44      0.43      9251\n",
    "# weighted avg       0.60      0.62      0.60      9251"
   ]
  },
  {
   "cell_type": "code",
   "execution_count": null,
   "metadata": {},
   "outputs": [],
   "source": [
    "# Get and reshape confusion matrix data\n",
    "matrix = confusion_matrix(y_val, y_pred_val)\n",
    "matrix = matrix.astype('float') / matrix.sum(axis=1)[:, np.newaxis]\n",
    "\n",
    "# Build the plot\n",
    "plt.figure(figsize=(16,7))\n",
    "sns.set(font_scale=1.4)\n",
    "sns.heatmap(matrix, annot=True, annot_kws={'size':10},\n",
    "            cmap=plt.cm.Greens, linewidths=0.2)\n",
    "\n",
    "# Add labels to the plot\n",
    "class_names = ['Mixed', 'Negative', 'No_interest', 'Positive']\n",
    "tick_marks = np.arange(len(class_names))\n",
    "tick_marks2 = tick_marks + 0.5\n",
    "plt.xticks(tick_marks, class_names, rotation=25)\n",
    "plt.yticks(tick_marks2, class_names, rotation=0)\n",
    "plt.xlabel('Predicted label')\n",
    "plt.ylabel('True label')\n",
    "plt.title('Confusion Matrix for Random Forest Model')\n",
    "plt.show()"
   ]
  },
  {
   "cell_type": "code",
   "execution_count": null,
   "metadata": {},
   "outputs": [],
   "source": [
    "smote = SMOTE()\n",
    "\n",
    "# fit predictor and target variable\n",
    "x_smote, y_smote = smote.fit_resample(x_train, y_train)\n",
    "\n",
    "print('Original dataset shape', Counter(y_train))\n",
    "print('Resample dataset shape', Counter(y_smote))"
   ]
  },
  {
   "cell_type": "code",
   "execution_count": null,
   "metadata": {},
   "outputs": [],
   "source": [
    "from imblearn.under_sampling import TomekLinks\n",
    "\n",
    "tl = TomekLinks(sampling_strategy='majority')\n",
    "\n",
    "# fit predictor and target variable\n",
    "x_tl, y_tl = tl.fit_resample(x_train, y_train)\n",
    "print('Original dataset shape', Counter(y_train))\n",
    "print('Resample dataset shape', Counter(y_tl))"
   ]
  },
  {
   "cell_type": "code",
   "execution_count": null,
   "metadata": {},
   "outputs": [],
   "source": [
    "print('Original dataset shape', Counter(y_val))"
   ]
  },
  {
   "cell_type": "code",
   "execution_count": null,
   "metadata": {},
   "outputs": [],
   "source": [
    "kfold = KFold( n_splits=5, random_state=1234, shuffle=True)\n",
    "# cv = 5 ---> 내가 run할 때 마다 셋들이 5개이기는 하지만 구성이 제각가..\n",
    "# cv = kold ---> 언제, 어디서 하더라도 5개 셋이, 다 고정으로 동일하게 적용!!!\n",
    "# 1) 모델\n",
    "rf = RandomForestClassifier(n_jobs=-1, random_state=1234,verbose=2)\n",
    "# 2) 파라미터의 조합 RGS --> 여러개가 있지만,,대표적인 것만 세팅..\n",
    "parameters = {\n",
    "    # 몇 개의 모델을 활용할지 \n",
    "    \"n_estimators\" : [10, 100, 500, 1000], # 7\n",
    "    # 세로에 대해서 어떻게 샘플링을 할지.\n",
    "    \"max_features\" : [\"sqrt\",\"log2\", None], # 3\n",
    "    \"min_samples_split\" : [2, 5, 10],\n",
    "    # 각 모델이 dt의 overfit을 조절하기\n",
    "    \"max_depth\" : [2,5,10,20,100], # 10\n",
    "    # min sample leaf\n",
    "    \"min_samples_leaf\" : [1, 2, 4],\n",
    "    \"criterion\" : [\"gini\", \"entropy\", \"log_loss\"],\n",
    "    # 기타 여러 parameters 세팅 가능함....\n",
    "}\n",
    "# 3) RGS --> 몇 번 반복할지 \n",
    "n_iter = 100\n",
    "# 4) RGSCV 세팅.\n",
    "rf_tl_onehot = RandomizedSearchCV( rf, \n",
    "                                  param_distributions= parameters,\n",
    "                                  cv = kfold,\n",
    "                                  scoring = \"accuracy\",\n",
    "                                  n_jobs= -1,\n",
    "                                  random_state=1234,\n",
    "                                  n_iter = n_iter,verbose=3\n",
    "                                  )\n",
    "# 5) 학습\n",
    "rf_tl_onehot.fit(x_tl, y_tl)"
   ]
  },
  {
   "cell_type": "code",
   "execution_count": null,
   "metadata": {},
   "outputs": [],
   "source": [
    "y_pred_val = rf_tl_onehot.best_estimator_.predict(x_val)"
   ]
  },
  {
   "cell_type": "code",
   "execution_count": null,
   "metadata": {},
   "outputs": [],
   "source": [
    "rf_tl_onehot.best_score_\n",
    "#66.6"
   ]
  },
  {
   "cell_type": "code",
   "execution_count": null,
   "metadata": {},
   "outputs": [],
   "source": [
    "rf_parameter=[]\n",
    "a_tmp=list(x_train.columns)\n",
    "b_tmp=list(rf_tl_onehot.best_estimator_.feature_importances_)\n",
    "for i in range(len(a_tmp)):\n",
    "    rf_parameter.append([a_tmp[i],b_tmp[i]])\n",
    "rf_parameter=pd.DataFrame(rf_parameter)\n",
    "rf_parameter=rf_parameter.sort_values(by=[1],ascending=False)"
   ]
  },
  {
   "cell_type": "code",
   "execution_count": null,
   "metadata": {},
   "outputs": [],
   "source": [
    "rf_parameter"
   ]
  },
  {
   "cell_type": "code",
   "execution_count": null,
   "metadata": {},
   "outputs": [],
   "source": [
    "print(classification_report(y_val, y_pred_val))\n",
    "#               precision    recall  f1-score   support\n",
    "\n",
    "#            0       0.51      0.11      0.18      1315\n",
    "#            1       0.57      0.03      0.07       232\n",
    "#            2       0.61      0.92      0.74      3820\n",
    "#            3       0.71      0.59      0.64      3884\n",
    "\n",
    "#     accuracy                           0.64      9251\n",
    "#    macro avg       0.60      0.41      0.40      9251\n",
    "# weighted avg       0.64      0.64      0.60      9251"
   ]
  },
  {
   "cell_type": "code",
   "execution_count": null,
   "metadata": {},
   "outputs": [],
   "source": [
    "# Get and reshape confusion matrix data\n",
    "matrix = confusion_matrix(y_val, y_pred_val)\n",
    "matrix = matrix.astype('float') / matrix.sum(axis=1)[:, np.newaxis]\n",
    "\n",
    "# Build the plot\n",
    "plt.figure(figsize=(16,7))\n",
    "sns.set(font_scale=1.4)\n",
    "sns.heatmap(matrix, annot=True, annot_kws={'size':10},\n",
    "            cmap=plt.cm.Greens, linewidths=0.2)\n",
    "\n",
    "# Add labels to the plot\n",
    "class_names = ['Mixed', 'Negative', 'No_interest', 'Positive']\n",
    "tick_marks = np.arange(len(class_names))\n",
    "tick_marks2 = tick_marks + 0.5\n",
    "plt.xticks(tick_marks, class_names, rotation=25)\n",
    "plt.yticks(tick_marks2, class_names, rotation=0)\n",
    "plt.xlabel('Predicted label')\n",
    "plt.ylabel('True label')\n",
    "plt.title('Confusion Matrix for Random Forest Model')\n",
    "plt.show()"
   ]
  },
  {
   "cell_type": "code",
   "execution_count": null,
   "metadata": {},
   "outputs": [],
   "source": [
    "from imblearn.under_sampling import RandomUnderSampler\n",
    "\n",
    "rus = RandomUnderSampler(random_state=42, replacement=True)# fit predictor and target variable\n",
    "x_rus, y_rus = rus.fit_resample(x_train, y_train)\n",
    "print('Original dataset shape', Counter(y_train))\n",
    "print('Resample dataset shape', Counter(y_rus))"
   ]
  },
  {
   "cell_type": "code",
   "execution_count": null,
   "metadata": {},
   "outputs": [],
   "source": [
    "kfold = KFold( n_splits=5, random_state=1234, shuffle=True)\n",
    "# cv = 5 ---> 내가 run할 때 마다 셋들이 5개이기는 하지만 구성이 제각가..\n",
    "# cv = kold ---> 언제, 어디서 하더라도 5개 셋이, 다 고정으로 동일하게 적용!!!\n",
    "# 1) 모델\n",
    "rf = RandomForestClassifier(n_jobs=-1, random_state=1234,verbose=2)\n",
    "# 2) 파라미터의 조합 RGS --> 여러개가 있지만,,대표적인 것만 세팅..\n",
    "parameters = {\n",
    "    # 몇 개의 모델을 활용할지 \n",
    "    \"n_estimators\" : [10, 100, 500, 1000], # 7\n",
    "    # 세로에 대해서 어떻게 샘플링을 할지.\n",
    "    \"max_features\" : [\"sqrt\",\"log2\", None], # 3\n",
    "    \"min_samples_split\" : [2, 5, 10],\n",
    "    # 각 모델이 dt의 overfit을 조절하기\n",
    "    \"max_depth\" : [2,5,10,20,100], # 10\n",
    "    # min sample leaf\n",
    "    \"min_samples_leaf\" : [1, 2, 4],\n",
    "    \"criterion\" : [\"gini\", \"entropy\", \"log_loss\"],\n",
    "    # 기타 여러 parameters 세팅 가능함....\n",
    "}\n",
    "# 3) RGS --> 몇 번 반복할지 \n",
    "n_iter = 1000\n",
    "# 4) RGSCV 세팅.\n",
    "rf_rus_onehot = RandomizedSearchCV( rf, \n",
    "                                  param_distributions= parameters,\n",
    "                                  cv = kfold,\n",
    "                                  scoring = \"accuracy\",\n",
    "                                  n_jobs= -1,\n",
    "                                  random_state=1234,\n",
    "                                  n_iter = n_iter,verbose=3\n",
    "                                  )\n",
    "# 5) 학습\n",
    "rf_rus_onehot.fit(x_rus, y_rus)"
   ]
  },
  {
   "cell_type": "code",
   "execution_count": null,
   "metadata": {},
   "outputs": [],
   "source": [
    "y_pred_val = rf_rus_onehot.best_estimator_.predict(x_val)"
   ]
  },
  {
   "cell_type": "code",
   "execution_count": null,
   "metadata": {},
   "outputs": [],
   "source": [
    "rf_rus_onehot.best_score_\n",
    "#0.4860215053763442"
   ]
  },
  {
   "cell_type": "code",
   "execution_count": null,
   "metadata": {},
   "outputs": [],
   "source": [
    "rf_parameter=[]\n",
    "a_tmp=list(x_train.columns)\n",
    "b_tmp=list(rf_rus_onehot.best_estimator_.feature_importances_)\n",
    "for i in range(len(a_tmp)):\n",
    "    rf_parameter.append([a_tmp[i],b_tmp[i]])\n",
    "rf_parameter=pd.DataFrame(rf_parameter)\n",
    "rf_parameter=rf_parameter.sort_values(by=[1],ascending=False)"
   ]
  },
  {
   "cell_type": "code",
   "execution_count": null,
   "metadata": {},
   "outputs": [],
   "source": [
    "rf_parameter"
   ]
  },
  {
   "cell_type": "code",
   "execution_count": null,
   "metadata": {},
   "outputs": [],
   "source": [
    "print(classification_report(y_val, y_pred_val))\n",
    "#               precision    recall  f1-score   support\n",
    "\n",
    "#            0       0.26      0.26      0.26      1315\n",
    "#            1       0.07      0.42      0.12       232\n",
    "#            2       0.66      0.71      0.69      3820\n",
    "#            3       0.72      0.46      0.56      3884\n",
    "\n",
    "#     accuracy                           0.53      9251\n",
    "#    macro avg       0.43      0.46      0.41      9251\n",
    "# weighted avg       0.62      0.53      0.56      9251"
   ]
  },
  {
   "cell_type": "code",
   "execution_count": null,
   "metadata": {},
   "outputs": [],
   "source": [
    "# Get and reshape confusion matrix data\n",
    "matrix = confusion_matrix(y_val, y_pred_val)\n",
    "matrix = matrix.astype('float') / matrix.sum(axis=1)[:, np.newaxis]\n",
    "\n",
    "# Build the plot\n",
    "plt.figure(figsize=(16,7))\n",
    "sns.set(font_scale=1.4)\n",
    "sns.heatmap(matrix, annot=True, annot_kws={'size':10},\n",
    "            cmap=plt.cm.Greens, linewidths=0.2)\n",
    "\n",
    "# Add labels to the plot\n",
    "class_names = ['Mixed', 'Negative', 'No_interest', 'Positive']\n",
    "tick_marks = np.arange(len(class_names))\n",
    "tick_marks2 = tick_marks + 0.5\n",
    "plt.xticks(tick_marks, class_names, rotation=25)\n",
    "plt.yticks(tick_marks2, class_names, rotation=0)\n",
    "plt.xlabel('Predicted label')\n",
    "plt.ylabel('True label')\n",
    "plt.title('Confusion Matrix for Random Forest Model')\n",
    "plt.show()"
   ]
  },
  {
   "cell_type": "code",
   "execution_count": null,
   "metadata": {},
   "outputs": [],
   "source": [
    "x_train.columns"
   ]
  },
  {
   "cell_type": "code",
   "execution_count": null,
   "metadata": {},
   "outputs": [],
   "source": [
    "\n",
    "plt.rcParams['figure.figsize'] = (7, 7)\n",
    "plt.scatter(x_train.dlc,x_train.num_lang,c=y_train)\n",
    "plt.xlabel(\"dlc\", fontsize=12)\n",
    "plt.xlim(0,100)\n",
    "plt.ylabel(\"achievements\", fontsize=12)\n",
    "plt.show()"
   ]
  },
  {
   "cell_type": "code",
   "execution_count": null,
   "metadata": {},
   "outputs": [],
   "source": [
    "from costcla.models import CostSensitiveDecisionTreeClassifier,CostSensitiveRandomForestClassifier\n",
    "from costcla.metrics import cost_loss, savings_score"
   ]
  },
  {
   "cell_type": "code",
   "execution_count": null,
   "metadata": {},
   "outputs": [],
   "source": [
    "x_train"
   ]
  },
  {
   "cell_type": "code",
   "execution_count": null,
   "metadata": {},
   "outputs": [],
   "source": [
    "cost_mat_train = np.zeros((len(y_train),4))\n",
    "cost_mat_train[:,0]=5\n",
    "#false negatives cost the transaction amount\n",
    "cost_mat_train[:,1]=x_train[\"days_after_release\"]\n",
    "#true positives also cost 5\n",
    "cost_mat_train[:,2]=5\n",
    "\n",
    "cost_mat_test = np.zeros((len(y_val),4))\n",
    "cost_mat_test[:,0]=5\n",
    "cost_mat_test[:,1]=x_val[\"days_after_release\"]\n",
    "cost_mat_test[:,2]=5"
   ]
  },
  {
   "cell_type": "code",
   "execution_count": null,
   "metadata": {},
   "outputs": [],
   "source": [
    "cost_mat_train"
   ]
  },
  {
   "cell_type": "code",
   "execution_count": null,
   "metadata": {},
   "outputs": [],
   "source": [
    "g = CostSensitiveRandomForestClassifier()\n",
    "g.fit(np.array(x_train), np.array(y_train), cost_mat_train)\n",
    "y_pred_rf_cslr=g.predict(np.array(x_val))"
   ]
  },
  {
   "cell_type": "code",
   "execution_count": null,
   "metadata": {},
   "outputs": [],
   "source": [
    "print('random forest: cost sensitve learning')\n",
    "print(cost_loss(y_val,y_pred_rf_cslr,cost_mat_test))\n"
   ]
  },
  {
   "cell_type": "code",
   "execution_count": null,
   "metadata": {},
   "outputs": [],
   "source": [
    "# Get and reshape confusion matrix data\n",
    "matrix = confusion_matrix(y_val,y_pred_rf_cslr)\n",
    "matrix = matrix.astype('float') / matrix.sum(axis=1)[:, np.newaxis]\n",
    "\n",
    "# Build the plot\n",
    "plt.figure(figsize=(16,7))\n",
    "sns.set(font_scale=1.4)\n",
    "sns.heatmap(matrix, annot=True, annot_kws={'size':10},\n",
    "            cmap=plt.cm.Greens, linewidths=0.2)\n",
    "\n",
    "# Add labels to the plot\n",
    "class_names = ['Mixed', 'Negative', 'No_interest', 'Positive']\n",
    "tick_marks = np.arange(len(class_names))\n",
    "tick_marks2 = tick_marks + 0.5\n",
    "plt.xticks(tick_marks, class_names, rotation=25)\n",
    "plt.yticks(tick_marks2, class_names, rotation=0)\n",
    "plt.xlabel('Predicted label')\n",
    "plt.ylabel('True label')\n",
    "plt.title('Confusion Matrix for Random Forest Model')\n",
    "plt.show()"
   ]
  },
  {
   "cell_type": "code",
   "execution_count": null,
   "metadata": {},
   "outputs": [],
   "source": [
    "additional=x_train[\"24_Hour_Peak\"]/x_train[\"All_time_peak\"]"
   ]
  },
  {
   "cell_type": "code",
   "execution_count": null,
   "metadata": {},
   "outputs": [],
   "source": [
    "additional.fillna(0)"
   ]
  },
  {
   "cell_type": "code",
   "execution_count": null,
   "metadata": {},
   "outputs": [],
   "source": [
    "x_train.info()"
   ]
  },
  {
   "cell_type": "code",
   "execution_count": null,
   "metadata": {},
   "outputs": [],
   "source": [
    "\n",
    "plt.rcParams['figure.figsize'] = (7, 7)\n",
    "\n",
    "plt.hist(x_train.dlc,bins=[i for i in range(10)],color=y_train)\n",
    "plt.show()"
   ]
  },
  {
   "cell_type": "code",
   "execution_count": null,
   "metadata": {},
   "outputs": [],
   "source": []
  }
 ],
 "metadata": {
  "kernelspec": {
   "display_name": "Python 3",
   "language": "python",
   "name": "python3"
  },
  "language_info": {
   "codemirror_mode": {
    "name": "ipython",
    "version": 3
   },
   "file_extension": ".py",
   "mimetype": "text/x-python",
   "name": "python",
   "nbconvert_exporter": "python",
   "pygments_lexer": "ipython3",
   "version": "3.8.6"
  },
  "orig_nbformat": 4
 },
 "nbformat": 4,
 "nbformat_minor": 2
}
