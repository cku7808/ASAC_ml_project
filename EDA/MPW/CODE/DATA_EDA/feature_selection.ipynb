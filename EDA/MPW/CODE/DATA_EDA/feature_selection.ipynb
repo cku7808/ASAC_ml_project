{
 "cells": [
  {
   "cell_type": "code",
   "execution_count": 2,
   "metadata": {},
   "outputs": [],
   "source": [
    "import pandas as pd"
   ]
  },
  {
   "cell_type": "code",
   "execution_count": 3,
   "metadata": {},
   "outputs": [],
   "source": [
    "a=pd.read_csv(r\"C:\\Users\\moonp\\ASAC과정\\ASAC_ml_project\\web_crawling\\merge_dataset\\raw_merge.csv\",sep=\"\\t\")"
   ]
  },
  {
   "cell_type": "code",
   "execution_count": 4,
   "metadata": {},
   "outputs": [
    {
     "data": {
      "text/plain": [
       "0        Overwhelmingly Positive\n",
       "1        Overwhelmingly Positive\n",
       "2        Overwhelmingly Positive\n",
       "3        Overwhelmingly Positive\n",
       "4        Overwhelmingly Positive\n",
       "                  ...           \n",
       "46247                   Negative\n",
       "46248                   Negative\n",
       "46249              Very Negative\n",
       "46250                   Negative\n",
       "46251    Overwhelmingly Negative\n",
       "Name: Review, Length: 46252, dtype: object"
      ]
     },
     "execution_count": 4,
     "metadata": {},
     "output_type": "execute_result"
    }
   ],
   "source": [
    "a.Review"
   ]
  },
  {
   "cell_type": "code",
   "execution_count": 5,
   "metadata": {},
   "outputs": [],
   "source": [
    "No_interest_lst=['No user reviews','8 user reviews','7 user reviews','4 user reviews','9 user reviews','5 user reviews','6 user reviews','2 user reviews','3 user reviews','1 user reviews','None']\n",
    "Positive_lst=['Overwhelmingly Positive','Very Positive','Positive','Mostly Positive']\n",
    "Negative_lst=['Negative','Very Negative','Overwhelmingly Negative','Mostly Negative']\n",
    "a.Review.replace(No_interest_lst,\"No_interest\",inplace=True)\n",
    "a.Review.replace(Positive_lst,\"Positive\",inplace=True)\n",
    "a.Review.replace(Negative_lst,\"Negative\",inplace=True)"
   ]
  },
  {
   "cell_type": "code",
   "execution_count": 7,
   "metadata": {},
   "outputs": [
    {
     "data": {
      "text/plain": [
       "0        Positive\n",
       "1        Positive\n",
       "2        Positive\n",
       "3        Positive\n",
       "4        Positive\n",
       "           ...   \n",
       "46247    Negative\n",
       "46248    Negative\n",
       "46249    Negative\n",
       "46250    Negative\n",
       "46251    Negative\n",
       "Name: Review, Length: 46252, dtype: object"
      ]
     },
     "execution_count": 7,
     "metadata": {},
     "output_type": "execute_result"
    }
   ],
   "source": [
    "a.Review"
   ]
  },
  {
   "cell_type": "code",
   "execution_count": null,
   "metadata": {},
   "outputs": [],
   "source": []
  }
 ],
 "metadata": {
  "kernelspec": {
   "display_name": "Python 3",
   "language": "python",
   "name": "python3"
  },
  "language_info": {
   "codemirror_mode": {
    "name": "ipython",
    "version": 3
   },
   "file_extension": ".py",
   "mimetype": "text/x-python",
   "name": "python",
   "nbconvert_exporter": "python",
   "pygments_lexer": "ipython3",
   "version": "3.8.6"
  },
  "orig_nbformat": 4
 },
 "nbformat": 4,
 "nbformat_minor": 2
}
