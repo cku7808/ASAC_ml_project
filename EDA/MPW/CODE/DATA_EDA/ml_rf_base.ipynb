{
 "cells": [
  {
   "cell_type": "code",
   "execution_count": 1,
   "metadata": {},
   "outputs": [],
   "source": [
    "### 필요한 모듈 IMPORT\n",
    "import pandas as pd\n",
    "from sklearn import preprocessing\n",
    "import numpy as np\n",
    "from sklearn.model_selection import KFold\n",
    "from sklearn.model_selection import train_test_split\n",
    "from sklearn.ensemble import RandomForestClassifier\n",
    "from sklearn.metrics import accuracy_score\n",
    "from sklearn.model_selection import cross_val_score\n",
    "from sklearn.model_selection import GridSearchCV\n",
    "from sklearn.model_selection import RandomizedSearchCV"
   ]
  },
  {
   "cell_type": "code",
   "execution_count": 3,
   "metadata": {},
   "outputs": [
    {
     "name": "stdout",
     "output_type": "stream",
     "text": [
      "['Mixed' 'Negative' 'No_interest' 'Positive']\n"
     ]
    },
    {
     "name": "stderr",
     "output_type": "stream",
     "text": [
      "c:\\Users\\moonp\\AppData\\Local\\Programs\\Python\\Python38\\lib\\site-packages\\pandas\\core\\series.py:4563: SettingWithCopyWarning: \n",
      "A value is trying to be set on a copy of a slice from a DataFrame\n",
      "\n",
      "See the caveats in the documentation: https://pandas.pydata.org/pandas-docs/stable/user_guide/indexing.html#returning-a-view-versus-a-copy\n",
      "  return super().replace(\n",
      "<ipython-input-3-805a1b8fccdd>:9: SettingWithCopyWarning: \n",
      "A value is trying to be set on a copy of a slice from a DataFrame.\n",
      "Try using .loc[row_indexer,col_indexer] = value instead\n",
      "\n",
      "See the caveats in the documentation: https://pandas.pydata.org/pandas-docs/stable/user_guide/indexing.html#returning-a-view-versus-a-copy\n",
      "  tmp[\"24_Hour_Peak\"]=tmp[\"24_Hour_Peak\"].astype(int)\n",
      "<ipython-input-3-805a1b8fccdd>:10: SettingWithCopyWarning: \n",
      "A value is trying to be set on a copy of a slice from a DataFrame.\n",
      "Try using .loc[row_indexer,col_indexer] = value instead\n",
      "\n",
      "See the caveats in the documentation: https://pandas.pydata.org/pandas-docs/stable/user_guide/indexing.html#returning-a-view-versus-a-copy\n",
      "  tmp[\"All_time_peak\"]=tmp[\"All_time_peak\"].astype(int)\n",
      "c:\\Users\\moonp\\AppData\\Local\\Programs\\Python\\Python38\\lib\\site-packages\\pandas\\core\\generic.py:5168: SettingWithCopyWarning: \n",
      "A value is trying to be set on a copy of a slice from a DataFrame.\n",
      "Try using .loc[row_indexer,col_indexer] = value instead\n",
      "\n",
      "See the caveats in the documentation: https://pandas.pydata.org/pandas-docs/stable/user_guide/indexing.html#returning-a-view-versus-a-copy\n",
      "  self[name] = value\n"
     ]
    }
   ],
   "source": [
    "# 파일 읽어오기\n",
    "a=pd.read_csv(r\"C:\\Users\\moonp\\ASAC과정\\ASAC_ml_project\\web_crawling\\merge_dataset\\raw_merge.csv\",sep=\"\\t\")\n",
    "### METACRITIC 점수 표기\n",
    "a.metacritic=a.metacritic.fillna(-1)\n",
    "tmp=a.dropna(axis=0)\n",
    "### 동접자수 전처리 과정 동접자수 없는 경우 0으로 표기\n",
    "tmp[\"24_Hour_Peak\"].replace(\"Invalid\",\"0\",inplace=True)\n",
    "tmp[\"All_time_peak\"].replace(\"Invalid\",\"0\",inplace=True)\n",
    "tmp[\"24_Hour_Peak\"]=tmp[\"24_Hour_Peak\"].astype(int)\n",
    "tmp[\"All_time_peak\"]=tmp[\"All_time_peak\"].astype(int)\n",
    "\n",
    "### is free 전처리\n",
    "tmp.is_free.replace(\"False\",\"0\",inplace=True)\n",
    "tmp.is_free.replace(\"0.0\",\"0\",inplace=True)\n",
    "tmp.is_free.replace(\"True\",\"1\",inplace=True)\n",
    "tmp.is_free.replace(\"1.0\",\"1\",inplace=True)\n",
    "tmp.is_free=tmp.is_free.astype(int)\n",
    "tmp.is_free=tmp.is_free.astype(int)\n",
    "\n",
    "\n",
    "### TARGET CLASS를 4개로 재분류\n",
    "No_interest_lst=['No user reviews','8 user reviews','7 user reviews','4 user reviews','9 user reviews','5 user reviews','6 user reviews','2 user reviews','3 user reviews','1 user reviews','None']\n",
    "Positive_lst=['Overwhelmingly Positive','Very Positive','Positive','Mostly Positive']\n",
    "Negative_lst=['Negative','Very Negative','Overwhelmingly Negative','Mostly Negative']\n",
    "tmp.Review.replace(No_interest_lst,\"No_interest\",inplace=True)\n",
    "tmp.Review.replace(Positive_lst,\"Positive\",inplace=True)\n",
    "tmp.Review.replace(Negative_lst,\"Negative\",inplace=True)\n",
    "\n",
    "### TARGET LABEL ENCODING\n",
    "le=preprocessing.LabelEncoder()\n",
    "le.fit(np.array(tmp.Review))\n",
    "y_true=le.fit_transform(tmp.Review)\n",
    "print(le.classes_)"
   ]
  },
  {
   "cell_type": "code",
   "execution_count": null,
   "metadata": {},
   "outputs": [],
   "source": []
  }
 ],
 "metadata": {
  "kernelspec": {
   "display_name": "Python 3",
   "language": "python",
   "name": "python3"
  },
  "language_info": {
   "codemirror_mode": {
    "name": "ipython",
    "version": 3
   },
   "file_extension": ".py",
   "mimetype": "text/x-python",
   "name": "python",
   "nbconvert_exporter": "python",
   "pygments_lexer": "ipython3",
   "version": "3.8.6"
  },
  "orig_nbformat": 4
 },
 "nbformat": 4,
 "nbformat_minor": 2
}
