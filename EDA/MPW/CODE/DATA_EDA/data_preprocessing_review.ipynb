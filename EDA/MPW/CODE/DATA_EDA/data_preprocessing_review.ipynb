{
 "cells": [
  {
   "cell_type": "code",
   "execution_count": 1,
   "metadata": {},
   "outputs": [],
   "source": [
    "import pandas as pd\n",
    "import os"
   ]
  },
  {
   "cell_type": "code",
   "execution_count": 2,
   "metadata": {},
   "outputs": [
    {
     "data": {
      "text/plain": [
       "'c:\\\\Users\\\\moonp\\\\ASAC과정\\\\ASAC_ml_project'"
      ]
     },
     "execution_count": 2,
     "metadata": {},
     "output_type": "execute_result"
    }
   ],
   "source": [
    "for i in range(3):\n",
    "    os.chdir(\"../\")\n",
    "os.getcwd()"
   ]
  },
  {
   "cell_type": "code",
   "execution_count": 3,
   "metadata": {},
   "outputs": [],
   "source": [
    "review_2018=pd.read_csv(r\"web_crawling\\MPW\\DATA\\REVIEW\\2018_review.csv\",sep=\";\",index_col=0)\n",
    "review_2019=pd.read_csv(r\"web_crawling\\MPW\\DATA\\REVIEW\\2019_review.csv\",sep=\";\",index_col=0)\n",
    "review_2020=pd.read_csv(r\"web_crawling\\MPW\\DATA\\REVIEW\\2020_review.csv\",sep=\";\",index_col=0)\n",
    "review_2021=pd.read_csv(r\"web_crawling\\MPW\\DATA\\REVIEW\\2021_review.csv\",sep=\";\",index_col=0)\n",
    "review_2022=pd.read_csv(r\"web_crawling\\MPW\\DATA\\REVIEW\\2022_review.csv\",sep=\";\",index_col=0)"
   ]
  },
  {
   "cell_type": "code",
   "execution_count": 4,
   "metadata": {},
   "outputs": [],
   "source": [
    "total_review=pd.concat([review_2018,review_2019,review_2020,review_2021,review_2022],ignore_index=True)"
   ]
  },
  {
   "cell_type": "code",
   "execution_count": 5,
   "metadata": {},
   "outputs": [],
   "source": [
    "total_review=total_review.drop(columns=[\"Tag\"])"
   ]
  },
  {
   "cell_type": "code",
   "execution_count": 6,
   "metadata": {},
   "outputs": [
    {
     "data": {
      "text/plain": [
       "array(['Overwhelmingly Positive', 'Very Positive', 'Positive',\n",
       "       'Mostly Positive', 'None', 'Mixed', 'No user reviews',\n",
       "       '8 user reviews', '7 user reviews', '4 user reviews',\n",
       "       '9 user reviews', '5 user reviews', '6 user reviews',\n",
       "       '2 user reviews', '1 user reviews', '3 user reviews',\n",
       "       'Mostly Negative', 'Negative', 'Very Negative',\n",
       "       'Overwhelmingly Negative'], dtype=object)"
      ]
     },
     "execution_count": 6,
     "metadata": {},
     "output_type": "execute_result"
    }
   ],
   "source": [
    "total_review.Review.unique()"
   ]
  },
  {
   "cell_type": "code",
   "execution_count": 7,
   "metadata": {},
   "outputs": [
    {
     "data": {
      "text/plain": [
       "Very Positive              7514\n",
       "Positive                   6971\n",
       "Mixed                      6601\n",
       "Mostly Positive            4722\n",
       "1 user reviews             3720\n",
       "2 user reviews             2922\n",
       "3 user reviews             2351\n",
       "4 user reviews             1947\n",
       "No user reviews            1815\n",
       "5 user reviews             1675\n",
       "6 user reviews             1425\n",
       "7 user reviews             1246\n",
       "8 user reviews             1104\n",
       "Mostly Negative             958\n",
       "9 user reviews              950\n",
       "None                        326\n",
       "Overwhelmingly Positive     271\n",
       "Negative                    185\n",
       "Very Negative                17\n",
       "Overwhelmingly Negative       3\n",
       "Name: Review, dtype: int64"
      ]
     },
     "execution_count": 7,
     "metadata": {},
     "output_type": "execute_result"
    }
   ],
   "source": [
    "total_review.Review.value_counts()"
   ]
  },
  {
   "cell_type": "code",
   "execution_count": 8,
   "metadata": {},
   "outputs": [],
   "source": [
    "invalid_list=['None','No user reviews','8 user reviews', '7 user reviews', '4 user reviews','9 user reviews', '5 user reviews', '6 user reviews','2 user reviews', '1 user reviews', '3 user reviews']"
   ]
  },
  {
   "cell_type": "code",
   "execution_count": 10,
   "metadata": {},
   "outputs": [],
   "source": [
    "total_review[\"Review\"].replace(invalid_list,\"Invalid\",inplace=True)"
   ]
  },
  {
   "cell_type": "code",
   "execution_count": 11,
   "metadata": {},
   "outputs": [
    {
     "data": {
      "text/plain": [
       "Invalid                    19481\n",
       "Very Positive               7514\n",
       "Positive                    6971\n",
       "Mixed                       6601\n",
       "Mostly Positive             4722\n",
       "Mostly Negative              958\n",
       "Overwhelmingly Positive      271\n",
       "Negative                     185\n",
       "Very Negative                 17\n",
       "Overwhelmingly Negative        3\n",
       "Name: Review, dtype: int64"
      ]
     },
     "execution_count": 11,
     "metadata": {},
     "output_type": "execute_result"
    }
   ],
   "source": [
    "total_review.Review.value_counts()"
   ]
  },
  {
   "cell_type": "code",
   "execution_count": null,
   "metadata": {},
   "outputs": [],
   "source": [
    "total_review.App_id.value_counts()"
   ]
  },
  {
   "cell_type": "code",
   "execution_count": null,
   "metadata": {},
   "outputs": [],
   "source": [
    "total_review.to_csv(\"total_review.csv\")"
   ]
  },
  {
   "cell_type": "code",
   "execution_count": null,
   "metadata": {},
   "outputs": [],
   "source": [
    "user_2018=pd.read_csv(r\"web_crawling\\MPW\\DATA\\USER_PEAK\\2018_user.csv\",sep=\";\",index_col=0)\n",
    "user_2019=pd.read_csv(r\"web_crawling\\MPW\\DATA\\USER_PEAK\\2019_user.csv\",sep=\";\",index_col=0)\n",
    "user_2020=pd.read_csv(r\"web_crawling\\MPW\\DATA\\USER_PEAK\\2020_user.csv\",sep=\";\",index_col=0)\n",
    "user_2021=pd.read_csv(r\"web_crawling\\MPW\\DATA\\USER_PEAK\\2021_user.csv\",sep=\";\",index_col=0)\n",
    "user_2022=pd.read_csv(r\"web_crawling\\MPW\\DATA\\USER_PEAK\\2022_user.csv\",sep=\";\",index_col=0)"
   ]
  },
  {
   "cell_type": "code",
   "execution_count": null,
   "metadata": {},
   "outputs": [],
   "source": [
    "total_user=pd.concat([user_2018,user_2019,user_2020,user_2021,user_2022],ignore_index=True)"
   ]
  },
  {
   "cell_type": "code",
   "execution_count": null,
   "metadata": {},
   "outputs": [],
   "source": [
    "total_user.to_csv(\"total_user.csv\")"
   ]
  },
  {
   "cell_type": "code",
   "execution_count": null,
   "metadata": {},
   "outputs": [],
   "source": [
    "total_review=pd.read_csv(r\"web_crawling\\MPW\\DATA\\REVIEW\\total_review.csv\",index_col=0)"
   ]
  },
  {
   "cell_type": "code",
   "execution_count": null,
   "metadata": {},
   "outputs": [],
   "source": [
    "total=pd.merge(total_review,total_user,how=\"inner\",on=\"App_id\",)"
   ]
  },
  {
   "cell_type": "code",
   "execution_count": null,
   "metadata": {},
   "outputs": [],
   "source": [
    "total.Review.value_counts()"
   ]
  },
  {
   "cell_type": "code",
   "execution_count": null,
   "metadata": {},
   "outputs": [],
   "source": []
  },
  {
   "cell_type": "code",
   "execution_count": null,
   "metadata": {},
   "outputs": [],
   "source": [
    "total.to_csv(\"total.csv\")"
   ]
  },
  {
   "cell_type": "code",
   "execution_count": null,
   "metadata": {},
   "outputs": [],
   "source": []
  }
 ],
 "metadata": {
  "kernelspec": {
   "display_name": "Python 3",
   "language": "python",
   "name": "python3"
  },
  "language_info": {
   "codemirror_mode": {
    "name": "ipython",
    "version": 3
   },
   "file_extension": ".py",
   "mimetype": "text/x-python",
   "name": "python",
   "nbconvert_exporter": "python",
   "pygments_lexer": "ipython3",
   "version": "3.8.6"
  },
  "orig_nbformat": 4
 },
 "nbformat": 4,
 "nbformat_minor": 2
}
