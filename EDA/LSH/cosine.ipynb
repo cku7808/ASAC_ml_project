{
 "cells": [
  {
   "cell_type": "code",
   "execution_count": 1,
   "metadata": {},
   "outputs": [],
   "source": [
    "import pandas as pd\n",
    "import numpy as np\n",
    "import os\n",
    "\n",
    "from glob import glob\n",
    "\n",
    "from warnings import filterwarnings\n",
    "filterwarnings('ignore')"
   ]
  },
  {
   "attachments": {},
   "cell_type": "markdown",
   "metadata": {},
   "source": [
    "# 데이터 합쳐서 일단 가져오기"
   ]
  },
  {
   "cell_type": "code",
   "execution_count": 2,
   "metadata": {},
   "outputs": [
    {
     "name": "stdout",
     "output_type": "stream",
     "text": [
      "c:\\Users\\NT550-045\\Desktop\\ml2\\EDA\\LSH\\model\\pre_data.csv\n",
      "\n",
      "c:\\Users\\NT550-045\\Desktop\\ml2\\EDA\\LSH\\model\\tag_merge.csv\n",
      "\n",
      "c:\\Users\\NT550-045\\Desktop\\ml2\\EDA\\LSH\\model\\one_hot_genre.csv\n"
     ]
    }
   ],
   "source": [
    "data_path = glob(f'{os.getcwd()}\\\\**\\\\*data.csv', recursive=True)[0]\n",
    "tag_path = glob(f'{os.getcwd()}\\\\**\\\\tag*.csv', recursive=True)[0]\n",
    "genre_path = glob(f'{os.getcwd()}\\\\**\\\\*genre.csv', recursive=True)[0]\n",
    "\n",
    "print(data_path, tag_path, genre_path, sep='\\n\\n')"
   ]
  },
  {
   "cell_type": "code",
   "execution_count": 3,
   "metadata": {},
   "outputs": [],
   "source": [
    "r_df = pd.read_csv(data_path)\n",
    "\n",
    "t_df = pd.read_csv(tag_path)\n",
    "t_df = t_df.rename(columns={f'{i}' : f'tag_{i}' for i in t_df.columns[1:]})\n",
    "\n",
    "g_df = pd.read_csv(genre_path)"
   ]
  },
  {
   "cell_type": "code",
   "execution_count": 4,
   "metadata": {},
   "outputs": [
    {
     "name": "stdout",
     "output_type": "stream",
     "text": [
      "29 38 447\n",
      "514\n"
     ]
    }
   ],
   "source": [
    "print(len(r_df.columns), len(g_df.columns), len(t_df.columns))\n",
    "print(len(r_df.columns) + len(g_df.columns) + len(t_df.columns))"
   ]
  },
  {
   "cell_type": "code",
   "execution_count": 5,
   "metadata": {},
   "outputs": [
    {
     "name": "stdout",
     "output_type": "stream",
     "text": [
      "512\n"
     ]
    }
   ],
   "source": [
    "m_df = r_df.merge(g_df, on = 'appid').merge(t_df, on ='appid')\n",
    "print(len(m_df.columns))"
   ]
  },
  {
   "cell_type": "code",
   "execution_count": 6,
   "metadata": {},
   "outputs": [],
   "source": [
    "m_df.loc[:,t_df.columns[1:]] = m_df.loc[:,t_df.columns[1:]].astype('bool').astype('int')"
   ]
  },
  {
   "cell_type": "code",
   "execution_count": 8,
   "metadata": {},
   "outputs": [],
   "source": [
    "from sklearn.metrics.pairwise import cosine_similarity"
   ]
  },
  {
   "cell_type": "code",
   "execution_count": 11,
   "metadata": {},
   "outputs": [],
   "source": [
    "from numpy import dot\n",
    "from numpy.linalg import norm\n",
    "\n",
    "def cos_sim(A, B):\n",
    "    return dot(A, B)/(norm(A)*norm(B))"
   ]
  },
  {
   "cell_type": "code",
   "execution_count": 22,
   "metadata": {},
   "outputs": [
    {
     "name": "stdout",
     "output_type": "stream",
     "text": [
      "0.9999999999999998\n"
     ]
    }
   ],
   "source": [
    "print(cos_sim(m_df.loc[0,t_df.columns[1:]], m_df.loc[0,t_df.columns[1:]]))"
   ]
  },
  {
   "cell_type": "code",
   "execution_count": 24,
   "metadata": {},
   "outputs": [
    {
     "data": {
      "text/plain": [
       "Index(['appid', '24_Hour_Peak', 'All_time_peak', 'positive', 'negative',\n",
       "       'average_forever', 'average_2weeks', 'median_forever', 'median_2weeks',\n",
       "       'price', 'initialprice', 'num_lang', 'required_age', 'is_free',\n",
       "       'controller_support', 'dlc', 'metacritic', 'metacritic_tf', 'windows',\n",
       "       'mac', 'linux', 'platforms_num', 'recommendations', 'achievements',\n",
       "       'days_after_release', 'Review', 'year', 'month', 'Target_'],\n",
       "      dtype='object')"
      ]
     },
     "execution_count": 24,
     "metadata": {},
     "output_type": "execute_result"
    }
   ],
   "source": [
    "r_df.columns"
   ]
  },
  {
   "cell_type": "code",
   "execution_count": 25,
   "metadata": {},
   "outputs": [],
   "source": [
    "raw = pd.read_csv(r'C:\\Users\\NT550-045\\Desktop\\ml2\\web_crawling\\merge_dataset\\raw_merge.csv', sep='\\t')"
   ]
  },
  {
   "cell_type": "code",
   "execution_count": 40,
   "metadata": {},
   "outputs": [],
   "source": [
    "m_df['genre_set'] = raw['genre'].apply(lambda x : set(x.split(', ')))"
   ]
  },
  {
   "cell_type": "code",
   "execution_count": 45,
   "metadata": {},
   "outputs": [
    {
     "name": "stdout",
     "output_type": "stream",
     "text": [
      "729\n",
      "7635\n",
      "661\n",
      "7306\n",
      "714\n",
      "8979\n",
      "673\n",
      "10600\n",
      "599\n",
      "11732\n"
     ]
    }
   ],
   "source": [
    "for year in m_df['year'].unique():\n",
    "    print(len(m_df[m_df['year'] == year]['genre_set'].astype('str').unique()))\n",
    "    print(len(m_df[m_df['year'] == year]))"
   ]
  },
  {
   "cell_type": "code",
   "execution_count": null,
   "metadata": {},
   "outputs": [],
   "source": []
  }
 ],
 "metadata": {
  "kernelspec": {
   "display_name": "pycaret",
   "language": "python",
   "name": "python3"
  },
  "language_info": {
   "codemirror_mode": {
    "name": "ipython",
    "version": 3
   },
   "file_extension": ".py",
   "mimetype": "text/x-python",
   "name": "python",
   "nbconvert_exporter": "python",
   "pygments_lexer": "ipython3",
   "version": "3.8.16"
  },
  "orig_nbformat": 4
 },
 "nbformat": 4,
 "nbformat_minor": 2
}
