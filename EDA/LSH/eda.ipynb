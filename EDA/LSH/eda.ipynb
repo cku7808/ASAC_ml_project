{
 "cells": [
  {
   "cell_type": "code",
   "execution_count": 1,
   "metadata": {},
   "outputs": [],
   "source": [
    "from warnings import filterwarnings\n",
    "filterwarnings('ignore')\n",
    "\n",
    "from glob import glob\n",
    "from tqdm import tqdm\n",
    "from collections import deque\n",
    "\n",
    "import requests\n",
    "import pandas as pd\n",
    "import numpy as np\n",
    "import os"
   ]
  },
  {
   "cell_type": "code",
   "execution_count": 2,
   "metadata": {},
   "outputs": [
    {
     "name": "stdout",
     "output_type": "stream",
     "text": [
      "c:\\Users\\reot1\\OneDrive\\바탕 화면\\ml2\\\\EDA\n",
      "c:\\Users\\reot1\\OneDrive\\바탕 화면\\ml2\\\\web_crawling\n"
     ]
    }
   ],
   "source": [
    "gp_path = f\"{os.getcwd().split('EDA')[0]}\\\\EDA\"\n",
    "csv_path = f\"{os.getcwd().split('EDA')[0]}\\\\web_crawling\"\n",
    "print(gp_path, csv_path, sep='\\n')"
   ]
  },
  {
   "cell_type": "code",
   "execution_count": 3,
   "metadata": {},
   "outputs": [
    {
     "name": "stdout",
     "output_type": "stream",
     "text": [
      "c:\\Users\\reot1\\OneDrive\\바탕 화면\\ml2\\\\web_crawling\\merge_dataset\\raw_merge.csv\n",
      "c:\\Users\\reot1\\OneDrive\\바탕 화면\\ml2\\\\web_crawling\\merge_dataset\\tag_merge.csv\n"
     ]
    }
   ],
   "source": [
    "raw_path = glob(f'{csv_path}\\\\**\\\\raw_*.csv', recursive=True)[0]\n",
    "tag_path = glob(f'{csv_path}\\\\**\\\\tag_*.csv', recursive=True)[0]\n",
    "print(raw_path, tag_path, sep='\\n')"
   ]
  },
  {
   "cell_type": "code",
   "execution_count": 4,
   "metadata": {},
   "outputs": [],
   "source": [
    "raw = pd.read_csv(raw_path, sep='\\t')\n",
    "tag = pd.read_csv(tag_path)"
   ]
  },
  {
   "cell_type": "code",
   "execution_count": 5,
   "metadata": {},
   "outputs": [],
   "source": [
    "def check_info(df, type_=None):\n",
    "    column_list = []\n",
    "    if type_ == 'object':\n",
    "        for col in df.columns:\n",
    "            if df[col].dtype == type_:\n",
    "                print(f'col :{col}\\ttype :{df[col].dtype}\\tNa :{sum(df[col].isna())}')\n",
    "                column_list.append(col)\n",
    "        return column_list\n",
    "    \n",
    "    elif type_ == 'int':\n",
    "        for col in df.columns:\n",
    "            if df[col].dtype == 'int64' or df[col].dtype == 'int32':\n",
    "                print(f'col :{col}\\ttype :{df[col].dtype}\\tNa :{sum(df[col].isna())}')\n",
    "                column_list.append(col)\n",
    "        return column_list\n",
    "    \n",
    "    elif type_ == 'float':\n",
    "        for col in df.columns:\n",
    "            if df[col].dtype == 'float64' or df[col].dtype == 'float34':\n",
    "                print(f'col :{col}\\ttype :{df[col].dtype}\\tNa :{sum(df[col].isna())}')\n",
    "                column_list.append(col)\n",
    "        return column_list\n",
    "    \n",
    "    else:\n",
    "        for col in df.columns:\n",
    "            print(f'col :{col}\\ttype :{df[col].dtype}\\tNa :{sum(df[col].isna())}')\n",
    "    "
   ]
  },
  {
   "cell_type": "code",
   "execution_count": 7,
   "metadata": {},
   "outputs": [],
   "source": [
    "# 'genre', 'platforms_num' 컬럼이 Na면 삭제\n",
    "r_df = raw.copy()"
   ]
  },
  {
   "cell_type": "code",
   "execution_count": 10,
   "metadata": {},
   "outputs": [
    {
     "name": "stdout",
     "output_type": "stream",
     "text": [
      "col :appid\ttype :int64\tNa :0\n",
      "col :24_Hour_Peak\ttype :int64\tNa :0\n",
      "col :All_time_peak\ttype :int64\tNa :0\n",
      "col :positive\ttype :int64\tNa :0\n",
      "col :negative\ttype :int64\tNa :0\n",
      "col :average_forever\ttype :int64\tNa :0\n",
      "col :average_2weeks\ttype :int64\tNa :0\n",
      "col :median_forever\ttype :int64\tNa :0\n",
      "col :median_2weeks\ttype :int64\tNa :0\n",
      "col :price\ttype :float64\tNa :0\n",
      "col :initialprice\ttype :float64\tNa :0\n",
      "col :genre\ttype :object\tNa :0\n",
      "col :num_lang\ttype :int64\tNa :0\n",
      "col :required_age\ttype :float64\tNa :0\n",
      "col :is_free\ttype :int64\tNa :0\n",
      "col :controller_support\ttype :int64\tNa :0\n",
      "col :dlc\ttype :float64\tNa :0\n",
      "col :metacritic\ttype :float64\tNa :45005\n",
      "col :metacritic_tf\ttype :int64\tNa :0\n",
      "col :windows\ttype :float64\tNa :0\n",
      "col :mac\ttype :float64\tNa :0\n",
      "col :linux\ttype :float64\tNa :0\n",
      "col :platforms_num\ttype :float64\tNa :0\n",
      "col :recommendations\ttype :float64\tNa :0\n",
      "col :achievements\ttype :float64\tNa :0\n",
      "col :new_date\ttype :object\tNa :0\n",
      "col :days_after_release\ttype :int64\tNa :0\n",
      "col :Review\ttype :object\tNa :0\n"
     ]
    }
   ],
   "source": [
    "check_info(r_df)"
   ]
  },
  {
   "cell_type": "code",
   "execution_count": null,
   "metadata": {},
   "outputs": [],
   "source": []
  }
 ],
 "metadata": {
  "kernelspec": {
   "display_name": "Python 3",
   "language": "python",
   "name": "python3"
  },
  "language_info": {
   "codemirror_mode": {
    "name": "ipython",
    "version": 3
   },
   "file_extension": ".py",
   "mimetype": "text/x-python",
   "name": "python",
   "nbconvert_exporter": "python",
   "pygments_lexer": "ipython3",
   "version": "3.8.10"
  },
  "orig_nbformat": 4
 },
 "nbformat": 4,
 "nbformat_minor": 2
}
