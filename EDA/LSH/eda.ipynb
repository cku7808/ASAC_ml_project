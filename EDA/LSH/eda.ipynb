{
 "cells": [
  {
   "cell_type": "code",
   "execution_count": 1,
   "metadata": {},
   "outputs": [],
   "source": [
    "from warnings import filterwarnings\n",
    "filterwarnings('ignore')\n",
    "\n",
    "from glob import glob\n",
    "from tqdm import tqdm\n",
    "from collections import deque\n",
    "\n",
    "import requests\n",
    "import pandas as pd\n",
    "import numpy as np\n",
    "import os"
   ]
  },
  {
   "cell_type": "code",
   "execution_count": 14,
   "metadata": {},
   "outputs": [
    {
     "name": "stdout",
     "output_type": "stream",
     "text": [
      "c:\\Users\\reot1\\OneDrive\\바탕 화면\\ml2\\\\EDA\n",
      "c:\\Users\\reot1\\OneDrive\\바탕 화면\\ml2\\\\web_crawling\n"
     ]
    }
   ],
   "source": [
    "gp_path = f\"{os.getcwd().split('EDA')[0]}\\\\EDA\"\n",
    "csv_path = f\"{os.getcwd().split('EDA')[0]}\\\\web_crawling\"\n",
    "print(gp_path, csv_path, sep='\\n')"
   ]
  },
  {
   "cell_type": "code",
   "execution_count": 12,
   "metadata": {},
   "outputs": [
    {
     "name": "stdout",
     "output_type": "stream",
     "text": [
      "c:\\Users\\reot1\\OneDrive\\바탕 화면\\ml2\\\\web_crawling\\merge_dataset\\raw_merge.csv\n",
      "c:\\Users\\reot1\\OneDrive\\바탕 화면\\ml2\\\\web_crawling\\merge_dataset\\tag_merge.csv\n"
     ]
    }
   ],
   "source": [
    "raw_path = glob(f'{csv_path}\\\\**\\\\raw_*.csv', recursive=True)[0]\n",
    "tag_path = glob(f'{csv_path}\\\\**\\\\tag_*.csv', recursive=True)[0]\n",
    "print(raw_path, tag_path, sep='\\n')"
   ]
  },
  {
   "cell_type": "code",
   "execution_count": 16,
   "metadata": {},
   "outputs": [],
   "source": [
    "raw = pd.read_csv(raw_path, sep='\\t')\n",
    "tag = pd.read_csv(tag_path)"
   ]
  },
  {
   "cell_type": "code",
   "execution_count": 71,
   "metadata": {},
   "outputs": [],
   "source": [
    "def check_info(df, type_=None):\n",
    "    column_list = []\n",
    "    if type_ == 'object':\n",
    "        for col in df.columns:\n",
    "            if df[col].dtype == type_:\n",
    "                print(f'col :{col}\\ttype :{df[col].dtype}\\tNa :{sum(df[col].isna())}')\n",
    "                column_list.append(col)\n",
    "        return column_list\n",
    "    \n",
    "    elif type_ == 'int':\n",
    "        for col in df.columns:\n",
    "            if df[col].dtype == 'int64' or df[col].dtype == 'int32':\n",
    "                print(f'col :{col}\\ttype :{df[col].dtype}\\tNa :{sum(df[col].isna())}')\n",
    "                column_list.append(col)\n",
    "        return column_list\n",
    "    \n",
    "    elif type_ == 'float':\n",
    "        for col in df.columns:\n",
    "            if df[col].dtype == 'float64' or df[col].dtype == 'float34':\n",
    "                print(f'col :{col}\\ttype :{df[col].dtype}\\tNa :{sum(df[col].isna())}')\n",
    "                column_list.append(col)\n",
    "        return column_list\n",
    "    \n",
    "    else:\n",
    "        for col in df.columns:\n",
    "            print(f'col :{col}\\ttype :{df[col].dtype}\\tNa :{sum(df[col].isna())}')\n",
    "    "
   ]
  },
  {
   "cell_type": "code",
   "execution_count": 60,
   "metadata": {},
   "outputs": [
    {
     "data": {
      "text/html": [
       "<div>\n",
       "<style scoped>\n",
       "    .dataframe tbody tr th:only-of-type {\n",
       "        vertical-align: middle;\n",
       "    }\n",
       "\n",
       "    .dataframe tbody tr th {\n",
       "        vertical-align: top;\n",
       "    }\n",
       "\n",
       "    .dataframe thead th {\n",
       "        text-align: right;\n",
       "    }\n",
       "</style>\n",
       "<table border=\"1\" class=\"dataframe\">\n",
       "  <thead>\n",
       "    <tr style=\"text-align: right;\">\n",
       "      <th></th>\n",
       "      <th>appid</th>\n",
       "      <th>24_Hour_Peak</th>\n",
       "      <th>All_time_peak</th>\n",
       "      <th>positive</th>\n",
       "      <th>negative</th>\n",
       "      <th>average_forever</th>\n",
       "      <th>average_2weeks</th>\n",
       "      <th>median_forever</th>\n",
       "      <th>median_2weeks</th>\n",
       "      <th>price</th>\n",
       "      <th>...</th>\n",
       "      <th>metacritic</th>\n",
       "      <th>metacritic_tf</th>\n",
       "      <th>windows</th>\n",
       "      <th>mac</th>\n",
       "      <th>linux</th>\n",
       "      <th>platforms_num</th>\n",
       "      <th>recommendations</th>\n",
       "      <th>achievements</th>\n",
       "      <th>new_date</th>\n",
       "      <th>Review</th>\n",
       "    </tr>\n",
       "  </thead>\n",
       "  <tbody>\n",
       "    <tr>\n",
       "      <th>0</th>\n",
       "      <td>294100</td>\n",
       "      <td>20930</td>\n",
       "      <td>60742</td>\n",
       "      <td>157344</td>\n",
       "      <td>3038</td>\n",
       "      <td>12492</td>\n",
       "      <td>1401</td>\n",
       "      <td>5368</td>\n",
       "      <td>921</td>\n",
       "      <td>34.99</td>\n",
       "      <td>...</td>\n",
       "      <td>87.0</td>\n",
       "      <td>1</td>\n",
       "      <td>1.0</td>\n",
       "      <td>1.0</td>\n",
       "      <td>1.0</td>\n",
       "      <td>3.0</td>\n",
       "      <td>134967.0</td>\n",
       "      <td>0.0</td>\n",
       "      <td>2018-10-17</td>\n",
       "      <td>Overwhelmingly Positive</td>\n",
       "    </tr>\n",
       "  </tbody>\n",
       "</table>\n",
       "<p>1 rows × 27 columns</p>\n",
       "</div>"
      ],
      "text/plain": [
       "    appid 24_Hour_Peak All_time_peak  positive  negative  average_forever  \\\n",
       "0  294100        20930         60742    157344      3038            12492   \n",
       "\n",
       "   average_2weeks  median_forever  median_2weeks  price  ...  metacritic  \\\n",
       "0            1401            5368            921  34.99  ...        87.0   \n",
       "\n",
       "  metacritic_tf  windows  mac linux  platforms_num  recommendations  \\\n",
       "0             1      1.0  1.0   1.0            3.0         134967.0   \n",
       "\n",
       "   achievements    new_date                   Review  \n",
       "0           0.0  2018-10-17  Overwhelmingly Positive  \n",
       "\n",
       "[1 rows x 27 columns]"
      ]
     },
     "execution_count": 60,
     "metadata": {},
     "output_type": "execute_result"
    }
   ],
   "source": [
    "# 'genre', 'platforms_num' 컬럼이 Na면 삭제\n",
    "r_df = raw.copy()\n",
    "r_df.dropna(subset=['genre', 'platforms_num'], inplace=True)\n",
    "r_df.reset_index(drop=True,inplace=True)\n",
    "r_df.head(1)"
   ]
  },
  {
   "cell_type": "code",
   "execution_count": 75,
   "metadata": {},
   "outputs": [
    {
     "name": "stdout",
     "output_type": "stream",
     "text": [
      "col :24_Hour_Peak\ttype :object\tNa :0\n",
      "col :All_time_peak\ttype :object\tNa :0\n",
      "col :genre\ttype :object\tNa :0\n",
      "col :is_free\ttype :object\tNa :0\n",
      "col :new_date\ttype :object\tNa :0\n",
      "col :Review\ttype :object\tNa :0\n"
     ]
    },
    {
     "data": {
      "text/plain": [
       "['24_Hour_Peak', 'All_time_peak', 'genre', 'is_free', 'new_date', 'Review']"
      ]
     },
     "execution_count": 75,
     "metadata": {},
     "output_type": "execute_result"
    }
   ],
   "source": [
    "check_info(r_df, 'object')"
   ]
  },
  {
   "cell_type": "code",
   "execution_count": 78,
   "metadata": {},
   "outputs": [
    {
     "name": "stdout",
     "output_type": "stream",
     "text": [
      "24_Hour_Peak\n",
      "Invalid    29187\n",
      "0           7556\n",
      "1            867\n",
      "2            518\n",
      "3            362\n",
      "Name: 24_Hour_Peak, dtype: int64\n",
      "\n",
      "All_time_peak\n",
      "Invalid    29187\n",
      "1           2024\n",
      "2           1288\n",
      "3            797\n",
      "0            609\n",
      "Name: All_time_peak, dtype: int64\n",
      "\n",
      "is_free\n",
      "False    38720\n",
      "True      3921\n",
      "0.0        303\n",
      "1.0         48\n",
      "Name: is_free, dtype: int64\n",
      "\n"
     ]
    }
   ],
   "source": [
    "for col in ['24_Hour_Peak', 'All_time_peak', 'is_free']:\n",
    "    print(col)\n",
    "    print(r_df[col].value_counts()[:5])\n",
    "    print()"
   ]
  },
  {
   "cell_type": "code",
   "execution_count": null,
   "metadata": {},
   "outputs": [],
   "source": []
  }
 ],
 "metadata": {
  "kernelspec": {
   "display_name": "Python 3",
   "language": "python",
   "name": "python3"
  },
  "language_info": {
   "codemirror_mode": {
    "name": "ipython",
    "version": 3
   },
   "file_extension": ".py",
   "mimetype": "text/x-python",
   "name": "python",
   "nbconvert_exporter": "python",
   "pygments_lexer": "ipython3",
   "version": "3.8.10"
  },
  "orig_nbformat": 4
 },
 "nbformat": 4,
 "nbformat_minor": 2
}
