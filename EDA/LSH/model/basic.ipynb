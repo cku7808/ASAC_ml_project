{
 "cells": [
  {
   "cell_type": "code",
   "execution_count": 1,
   "metadata": {},
   "outputs": [],
   "source": [
    "from warnings import filterwarnings\n",
    "filterwarnings('ignore')\n",
    "\n",
    "from sklearn.ensemble import RandomForestClassifier\n",
    "from sklearn.model_selection import train_test_split\n",
    "from sklearn.metrics import classification_report\n",
    "from xgboost.sklearn import XGBClassifier\n",
    "from lightgbm import LGBMClassifier\n",
    "from imblearn.over_sampling import SMOTE\n",
    "\n",
    "from pycaret.classification import *\n",
    "\n",
    "from glob import glob\n",
    "\n",
    "import os\n",
    "import pandas as pd\n",
    "import numpy as np"
   ]
  },
  {
   "cell_type": "code",
   "execution_count": 2,
   "metadata": {},
   "outputs": [
    {
     "name": "stdout",
     "output_type": "stream",
     "text": [
      "c:\\Users\\NT550-045\\Desktop\\ml2\\EDA\\LSH\\model\\one_hot_genre.csv\n",
      "\n",
      "c:\\Users\\NT550-045\\Desktop\\ml2\\EDA\\LSH\\model\\pre_data.csv\n",
      "\n",
      "c:\\Users\\NT550-045\\Desktop\\ml2\\EDA\\LSH\\model\\tag_merge.csv\n"
     ]
    }
   ],
   "source": [
    "pwd = os.getcwd()\n",
    "\n",
    "genre_path = glob(f'{pwd}\\\\*genre.csv', recursive=True)[0]\n",
    "data_path = glob(f'{pwd}\\\\*data.csv', recursive=True)[0]\n",
    "tag_path = glob(f'{pwd}\\\\tag*.csv', recursive=True)[0]\n",
    "\n",
    "print(genre_path, data_path, tag_path, sep='\\n\\n')"
   ]
  },
  {
   "cell_type": "code",
   "execution_count": 3,
   "metadata": {},
   "outputs": [],
   "source": [
    "g_df = pd.read_csv(genre_path)\n",
    "r_df = pd.read_csv(data_path)\n",
    "t_df = pd.read_csv(tag_path)"
   ]
  },
  {
   "attachments": {},
   "cell_type": "markdown",
   "metadata": {},
   "source": [
    "# Tag X"
   ]
  },
  {
   "cell_type": "code",
   "execution_count": 23,
   "metadata": {},
   "outputs": [],
   "source": [
    "merge_df = pd.merge(r_df, g_df)\n",
    "merge_df['genre_num'] = merge_df['genre_set'].apply(lambda x:len(set(eval(x))))\n",
    "merge_copy = merge_df.copy()\n",
    "\n",
    "X = merge_copy.drop(['appid','Review', 'Target_', 'positive', 'genre_set' ,'negative',\n",
    "                    'recommendations', 'genre_set'], axis=1)\n",
    "y = merge_copy['Target_']"
   ]
  },
  {
   "attachments": {},
   "cell_type": "markdown",
   "metadata": {},
   "source": [
    "# Tag O"
   ]
  },
  {
   "cell_type": "code",
   "execution_count": 13,
   "metadata": {},
   "outputs": [],
   "source": [
    "merge_df = pd.merge(r_df, g_df).merge(t_df, on='appid')\n",
    "merge_df['genre_num'] = merge_df['genre_set'].apply(lambda x:len(set(eval(x))))\n",
    "merge_copy = merge_df.copy()\n",
    "\n",
    "X = merge_copy.drop(['appid','Review', 'Target_', 'positive', 'genre_set' ,'negative',\n",
    "                    'recommendations', 'genre_set'], axis=1)\n",
    "y = merge_copy['Target_']"
   ]
  },
  {
   "cell_type": "code",
   "execution_count": null,
   "metadata": {},
   "outputs": [],
   "source": [
    "print(X.shape, y.shape)"
   ]
  },
  {
   "attachments": {},
   "cell_type": "markdown",
   "metadata": {},
   "source": [
    "# Basic Dataset"
   ]
  },
  {
   "cell_type": "code",
   "execution_count": 24,
   "metadata": {},
   "outputs": [
    {
     "name": "stdout",
     "output_type": "stream",
     "text": [
      "train_x : (32376, 60), train_y : (32376,)\n",
      "test_x : (13876, 60), test_y : (13876,)\n"
     ]
    }
   ],
   "source": [
    "x_train, x_test, y_train, y_test = train_test_split(X, y, \n",
    "                                                    test_size=0.3,\n",
    "                                                    random_state=1234,\n",
    "                                                    stratify=y)\n",
    "\n",
    "print(f'train_x : {x_train.shape}, train_y : {y_train.shape}')\n",
    "print(f'test_x : {x_test.shape}, test_y : {y_test.shape}')"
   ]
  },
  {
   "attachments": {},
   "cell_type": "markdown",
   "metadata": {},
   "source": [
    "# Pycaret DataSet"
   ]
  },
  {
   "attachments": {},
   "cell_type": "markdown",
   "metadata": {},
   "source": [
    "## SMOTE O"
   ]
  },
  {
   "cell_type": "code",
   "execution_count": 25,
   "metadata": {},
   "outputs": [
    {
     "name": "stdout",
     "output_type": "stream",
     "text": [
      "(54372, 60) (54372,)\n"
     ]
    }
   ],
   "source": [
    "X_resampled, y_resampled = SMOTE(random_state=1234,\n",
    "                                sampling_strategy='all', n_jobs=-1).fit_resample(x_train, y_train)\n",
    "\n",
    "print(X_resampled.shape, y_resampled.shape)\n",
    "\n",
    "# pycaret\n",
    "Train = X_resampled\n",
    "Train['Target'] = y_resampled\n",
    "\n",
    "Test = x_test\n",
    "Test['Target'] = y_test"
   ]
  },
  {
   "attachments": {},
   "cell_type": "markdown",
   "metadata": {},
   "source": [
    "## SMOTE X"
   ]
  },
  {
   "cell_type": "code",
   "execution_count": 19,
   "metadata": {},
   "outputs": [],
   "source": [
    "Train = x_train\n",
    "Train['Target'] = y_train\n",
    "\n",
    "Test = x_test\n",
    "Test['Target'] = y_test"
   ]
  },
  {
   "attachments": {},
   "cell_type": "markdown",
   "metadata": {},
   "source": [
    "# Pycaret"
   ]
  },
  {
   "cell_type": "code",
   "execution_count": 26,
   "metadata": {},
   "outputs": [],
   "source": [
    "exp_clf = setup(data = Train, target = 'Target', session_id=1234)"
   ]
  },
  {
   "cell_type": "code",
   "execution_count": 28,
   "metadata": {},
   "outputs": [
    {
     "data": {
      "text/html": [
       "<div>\n",
       "<style scoped>\n",
       "    .dataframe tbody tr th:only-of-type {\n",
       "        vertical-align: middle;\n",
       "    }\n",
       "\n",
       "    .dataframe tbody tr th {\n",
       "        vertical-align: top;\n",
       "    }\n",
       "\n",
       "    .dataframe thead th {\n",
       "        text-align: right;\n",
       "    }\n",
       "</style>\n",
       "<table border=\"1\" class=\"dataframe\">\n",
       "  <thead>\n",
       "    <tr style=\"text-align: right;\">\n",
       "      <th></th>\n",
       "      <th></th>\n",
       "      <th></th>\n",
       "    </tr>\n",
       "    <tr>\n",
       "      <th></th>\n",
       "      <th></th>\n",
       "      <th></th>\n",
       "    </tr>\n",
       "  </thead>\n",
       "  <tbody>\n",
       "    <tr>\n",
       "      <th>Initiated</th>\n",
       "      <td>. . . . . . . . . . . . . . . . . .</td>\n",
       "      <td>18:16:55</td>\n",
       "    </tr>\n",
       "    <tr>\n",
       "      <th>Status</th>\n",
       "      <td>. . . . . . . . . . . . . . . . . .</td>\n",
       "      <td>Loading Estimator</td>\n",
       "    </tr>\n",
       "    <tr>\n",
       "      <th>Estimator</th>\n",
       "      <td>. . . . . . . . . . . . . . . . . .</td>\n",
       "      <td>Compiling Library</td>\n",
       "    </tr>\n",
       "  </tbody>\n",
       "</table>\n",
       "</div>"
      ],
      "text/plain": [
       "                                                                 \n",
       "                                                                 \n",
       "Initiated  . . . . . . . . . . . . . . . . . .           18:16:55\n",
       "Status     . . . . . . . . . . . . . . . . . .  Loading Estimator\n",
       "Estimator  . . . . . . . . . . . . . . . . . .  Compiling Library"
      ]
     },
     "metadata": {},
     "output_type": "display_data"
    },
    {
     "data": {
      "text/html": [],
      "text/plain": [
       "<IPython.core.display.HTML object>"
      ]
     },
     "metadata": {},
     "output_type": "display_data"
    },
    {
     "data": {
      "text/html": [
       "<div>\n",
       "<style scoped>\n",
       "    .dataframe tbody tr th:only-of-type {\n",
       "        vertical-align: middle;\n",
       "    }\n",
       "\n",
       "    .dataframe tbody tr th {\n",
       "        vertical-align: top;\n",
       "    }\n",
       "\n",
       "    .dataframe thead th {\n",
       "        text-align: right;\n",
       "    }\n",
       "</style>\n",
       "<table border=\"1\" class=\"dataframe\">\n",
       "  <thead>\n",
       "    <tr style=\"text-align: right;\">\n",
       "      <th></th>\n",
       "      <th>Model</th>\n",
       "      <th>Accuracy</th>\n",
       "      <th>AUC</th>\n",
       "      <th>Recall</th>\n",
       "      <th>Prec.</th>\n",
       "      <th>F1</th>\n",
       "      <th>Kappa</th>\n",
       "      <th>MCC</th>\n",
       "      <th>TT (Sec)</th>\n",
       "    </tr>\n",
       "  </thead>\n",
       "  <tbody>\n",
       "    <tr>\n",
       "      <th>rf</th>\n",
       "      <td>Random Forest Classifier</td>\n",
       "      <td>0.7403</td>\n",
       "      <td>0.9143</td>\n",
       "      <td>0.7403</td>\n",
       "      <td>0.7450</td>\n",
       "      <td>0.7385</td>\n",
       "      <td>0.6537</td>\n",
       "      <td>0.6563</td>\n",
       "      <td>2.342</td>\n",
       "    </tr>\n",
       "    <tr>\n",
       "      <th>et</th>\n",
       "      <td>Extra Trees Classifier</td>\n",
       "      <td>0.7148</td>\n",
       "      <td>0.9003</td>\n",
       "      <td>0.7148</td>\n",
       "      <td>0.7180</td>\n",
       "      <td>0.7140</td>\n",
       "      <td>0.6198</td>\n",
       "      <td>0.6212</td>\n",
       "      <td>2.845</td>\n",
       "    </tr>\n",
       "    <tr>\n",
       "      <th>xgboost</th>\n",
       "      <td>Extreme Gradient Boosting</td>\n",
       "      <td>0.7096</td>\n",
       "      <td>0.9039</td>\n",
       "      <td>0.7096</td>\n",
       "      <td>0.7130</td>\n",
       "      <td>0.7046</td>\n",
       "      <td>0.6128</td>\n",
       "      <td>0.6165</td>\n",
       "      <td>12.091</td>\n",
       "    </tr>\n",
       "    <tr>\n",
       "      <th>lightgbm</th>\n",
       "      <td>Light Gradient Boosting Machine</td>\n",
       "      <td>0.6926</td>\n",
       "      <td>0.8960</td>\n",
       "      <td>0.6926</td>\n",
       "      <td>0.6961</td>\n",
       "      <td>0.6861</td>\n",
       "      <td>0.5901</td>\n",
       "      <td>0.5946</td>\n",
       "      <td>1.468</td>\n",
       "    </tr>\n",
       "  </tbody>\n",
       "</table>\n",
       "</div>"
      ],
      "text/plain": [
       "                                    Model  Accuracy     AUC  Recall   Prec.  \\\n",
       "rf               Random Forest Classifier    0.7403  0.9143  0.7403  0.7450   \n",
       "et                 Extra Trees Classifier    0.7148  0.9003  0.7148  0.7180   \n",
       "xgboost         Extreme Gradient Boosting    0.7096  0.9039  0.7096  0.7130   \n",
       "lightgbm  Light Gradient Boosting Machine    0.6926  0.8960  0.6926  0.6961   \n",
       "\n",
       "              F1   Kappa     MCC  TT (Sec)  \n",
       "rf        0.7385  0.6537  0.6563     2.342  \n",
       "et        0.7140  0.6198  0.6212     2.845  \n",
       "xgboost   0.7046  0.6128  0.6165    12.091  \n",
       "lightgbm  0.6861  0.5901  0.5946     1.468  "
      ]
     },
     "execution_count": 28,
     "metadata": {},
     "output_type": "execute_result"
    }
   ],
   "source": [
    "# 태그 x, SMOTE O\n",
    "\n",
    "comp = compare_models(include=['lightgbm', 'xgboost', 'rf', 'et'], n_select=4)\n",
    "model_result = pull()\n",
    "model_result"
   ]
  },
  {
   "cell_type": "code",
   "execution_count": 11,
   "metadata": {},
   "outputs": [],
   "source": [
    "model_result.to_csv('./no_tag-yes_smote.csv')"
   ]
  },
  {
   "cell_type": "code",
   "execution_count": 49,
   "metadata": {},
   "outputs": [
    {
     "data": {
      "text/html": [
       "<style type=\"text/css\">\n",
       "</style>\n",
       "<table id=\"T_3d24a\">\n",
       "  <thead>\n",
       "    <tr>\n",
       "      <th class=\"blank level0\" >&nbsp;</th>\n",
       "      <th id=\"T_3d24a_level0_col0\" class=\"col_heading level0 col0\" >Model</th>\n",
       "      <th id=\"T_3d24a_level0_col1\" class=\"col_heading level0 col1\" >Accuracy</th>\n",
       "      <th id=\"T_3d24a_level0_col2\" class=\"col_heading level0 col2\" >AUC</th>\n",
       "      <th id=\"T_3d24a_level0_col3\" class=\"col_heading level0 col3\" >Recall</th>\n",
       "      <th id=\"T_3d24a_level0_col4\" class=\"col_heading level0 col4\" >Prec.</th>\n",
       "      <th id=\"T_3d24a_level0_col5\" class=\"col_heading level0 col5\" >F1</th>\n",
       "      <th id=\"T_3d24a_level0_col6\" class=\"col_heading level0 col6\" >Kappa</th>\n",
       "      <th id=\"T_3d24a_level0_col7\" class=\"col_heading level0 col7\" >MCC</th>\n",
       "    </tr>\n",
       "  </thead>\n",
       "  <tbody>\n",
       "    <tr>\n",
       "      <th id=\"T_3d24a_level0_row0\" class=\"row_heading level0 row0\" >0</th>\n",
       "      <td id=\"T_3d24a_row0_col0\" class=\"data row0 col0\" >Extreme Gradient Boosting</td>\n",
       "      <td id=\"T_3d24a_row0_col1\" class=\"data row0 col1\" >0.6358</td>\n",
       "      <td id=\"T_3d24a_row0_col2\" class=\"data row0 col2\" >0.7946</td>\n",
       "      <td id=\"T_3d24a_row0_col3\" class=\"data row0 col3\" >0.6358</td>\n",
       "      <td id=\"T_3d24a_row0_col4\" class=\"data row0 col4\" >0.6126</td>\n",
       "      <td id=\"T_3d24a_row0_col5\" class=\"data row0 col5\" >0.6178</td>\n",
       "      <td id=\"T_3d24a_row0_col6\" class=\"data row0 col6\" >0.4037</td>\n",
       "      <td id=\"T_3d24a_row0_col7\" class=\"data row0 col7\" >0.4078</td>\n",
       "    </tr>\n",
       "  </tbody>\n",
       "</table>\n"
      ],
      "text/plain": [
       "<pandas.io.formats.style.Styler at 0x2715673b460>"
      ]
     },
     "metadata": {},
     "output_type": "display_data"
    }
   ],
   "source": [
    "pred = predict_model(comp[2], data=Test)['prediction_label']"
   ]
  },
  {
   "cell_type": "code",
   "execution_count": 45,
   "metadata": {},
   "outputs": [
    {
     "name": "stdout",
     "output_type": "stream",
     "text": [
      "              precision    recall  f1-score   support\n",
      "\n",
      "           0       0.81      0.66      0.73      7018\n",
      "           1       0.20      0.37      0.26      1060\n",
      "           2       0.09      0.18      0.12       178\n",
      "           3       0.65      0.68      0.67      5620\n",
      "\n",
      "    accuracy                           0.64     13876\n",
      "   macro avg       0.44      0.47      0.44     13876\n",
      "weighted avg       0.69      0.64      0.66     13876\n",
      "\n"
     ]
    }
   ],
   "source": [
    "print(classification_report(pred, Test['Target']))"
   ]
  },
  {
   "cell_type": "code",
   "execution_count": 50,
   "metadata": {},
   "outputs": [],
   "source": [
    "final_model = finalize_model(comp[2])"
   ]
  },
  {
   "cell_type": "code",
   "execution_count": 51,
   "metadata": {},
   "outputs": [
    {
     "data": {
      "text/html": [
       "<style type=\"text/css\">\n",
       "</style>\n",
       "<table id=\"T_ea791\">\n",
       "  <thead>\n",
       "    <tr>\n",
       "      <th class=\"blank level0\" >&nbsp;</th>\n",
       "      <th id=\"T_ea791_level0_col0\" class=\"col_heading level0 col0\" >Model</th>\n",
       "      <th id=\"T_ea791_level0_col1\" class=\"col_heading level0 col1\" >Accuracy</th>\n",
       "      <th id=\"T_ea791_level0_col2\" class=\"col_heading level0 col2\" >AUC</th>\n",
       "      <th id=\"T_ea791_level0_col3\" class=\"col_heading level0 col3\" >Recall</th>\n",
       "      <th id=\"T_ea791_level0_col4\" class=\"col_heading level0 col4\" >Prec.</th>\n",
       "      <th id=\"T_ea791_level0_col5\" class=\"col_heading level0 col5\" >F1</th>\n",
       "      <th id=\"T_ea791_level0_col6\" class=\"col_heading level0 col6\" >Kappa</th>\n",
       "      <th id=\"T_ea791_level0_col7\" class=\"col_heading level0 col7\" >MCC</th>\n",
       "    </tr>\n",
       "  </thead>\n",
       "  <tbody>\n",
       "    <tr>\n",
       "      <th id=\"T_ea791_level0_row0\" class=\"row_heading level0 row0\" >0</th>\n",
       "      <td id=\"T_ea791_row0_col0\" class=\"data row0 col0\" >Extreme Gradient Boosting</td>\n",
       "      <td id=\"T_ea791_row0_col1\" class=\"data row0 col1\" >0.6397</td>\n",
       "      <td id=\"T_ea791_row0_col2\" class=\"data row0 col2\" >0.7998</td>\n",
       "      <td id=\"T_ea791_row0_col3\" class=\"data row0 col3\" >0.6397</td>\n",
       "      <td id=\"T_ea791_row0_col4\" class=\"data row0 col4\" >0.6145</td>\n",
       "      <td id=\"T_ea791_row0_col5\" class=\"data row0 col5\" >0.6191</td>\n",
       "      <td id=\"T_ea791_row0_col6\" class=\"data row0 col6\" >0.4079</td>\n",
       "      <td id=\"T_ea791_row0_col7\" class=\"data row0 col7\" >0.4133</td>\n",
       "    </tr>\n",
       "  </tbody>\n",
       "</table>\n"
      ],
      "text/plain": [
       "<pandas.io.formats.style.Styler at 0x2713b1c60a0>"
      ]
     },
     "metadata": {},
     "output_type": "display_data"
    },
    {
     "name": "stdout",
     "output_type": "stream",
     "text": [
      "              precision    recall  f1-score   support\n",
      "\n",
      "           0       0.81      0.66      0.73      7069\n",
      "           1       0.20      0.38      0.27      1042\n",
      "           2       0.08      0.20      0.11       138\n",
      "           3       0.65      0.67      0.66      5627\n",
      "\n",
      "    accuracy                           0.64     13876\n",
      "   macro avg       0.44      0.48      0.44     13876\n",
      "weighted avg       0.69      0.64      0.66     13876\n",
      "\n"
     ]
    }
   ],
   "source": [
    "pred = predict_model(final_model, data=Test)['prediction_label']\n",
    "print(classification_report(pred, Test['Target']))"
   ]
  },
  {
   "cell_type": "code",
   "execution_count": 52,
   "metadata": {},
   "outputs": [
    {
     "data": {
      "text/plain": [
       "<bound method Pipeline.get_params of Pipeline(memory=FastMemory(location=C:\\Users\\NT550-~1\\AppData\\Local\\Temp\\joblib),\n",
       "         steps=[('numerical_imputer',\n",
       "                 TransformerWrapper(exclude=None,\n",
       "                                    include=['24_Hour_Peak', 'All_time_peak',\n",
       "                                             'average_forever',\n",
       "                                             'average_2weeks', 'median_forever',\n",
       "                                             'median_2weeks', 'price',\n",
       "                                             'initialprice', 'num_lang',\n",
       "                                             'required_age', 'is_free',\n",
       "                                             'controller_support', 'dlc',\n",
       "                                             'metacritic', 'm...\n",
       "                               grow_policy=None, importance_type=None,\n",
       "                               interaction_constraints=None, learning_rate=None,\n",
       "                               max_bin=None, max_cat_threshold=None,\n",
       "                               max_cat_to_onehot=None, max_delta_step=None,\n",
       "                               max_depth=None, max_leaves=None,\n",
       "                               min_child_weight=None, missing=nan,\n",
       "                               monotone_constraints=None, n_estimators=100,\n",
       "                               n_jobs=-1, num_parallel_tree=None,\n",
       "                               objective='multi:softprob', predictor=None, ...))],\n",
       "         verbose=False)>"
      ]
     },
     "execution_count": 52,
     "metadata": {},
     "output_type": "execute_result"
    }
   ],
   "source": [
    "final_model.get_params"
   ]
  },
  {
   "cell_type": "code",
   "execution_count": 53,
   "metadata": {},
   "outputs": [
    {
     "data": {
      "text/html": [
       "<div>\n",
       "<style scoped>\n",
       "    .dataframe tbody tr th:only-of-type {\n",
       "        vertical-align: middle;\n",
       "    }\n",
       "\n",
       "    .dataframe tbody tr th {\n",
       "        vertical-align: top;\n",
       "    }\n",
       "\n",
       "    .dataframe thead th {\n",
       "        text-align: right;\n",
       "    }\n",
       "</style>\n",
       "<table border=\"1\" class=\"dataframe\">\n",
       "  <thead>\n",
       "    <tr style=\"text-align: right;\">\n",
       "      <th></th>\n",
       "      <th></th>\n",
       "      <th></th>\n",
       "    </tr>\n",
       "    <tr>\n",
       "      <th></th>\n",
       "      <th></th>\n",
       "      <th></th>\n",
       "    </tr>\n",
       "  </thead>\n",
       "  <tbody>\n",
       "    <tr>\n",
       "      <th>Initiated</th>\n",
       "      <td>. . . . . . . . . . . . . . . . . .</td>\n",
       "      <td>18:41:15</td>\n",
       "    </tr>\n",
       "    <tr>\n",
       "      <th>Status</th>\n",
       "      <td>. . . . . . . . . . . . . . . . . .</td>\n",
       "      <td>Loading Dependencies</td>\n",
       "    </tr>\n",
       "    <tr>\n",
       "      <th>Estimator</th>\n",
       "      <td>. . . . . . . . . . . . . . . . . .</td>\n",
       "      <td>Compiling Library</td>\n",
       "    </tr>\n",
       "  </tbody>\n",
       "</table>\n",
       "</div>"
      ],
      "text/plain": [
       "                                                                    \n",
       "                                                                    \n",
       "Initiated  . . . . . . . . . . . . . . . . . .              18:41:15\n",
       "Status     . . . . . . . . . . . . . . . . . .  Loading Dependencies\n",
       "Estimator  . . . . . . . . . . . . . . . . . .     Compiling Library"
      ]
     },
     "metadata": {},
     "output_type": "display_data"
    },
    {
     "data": {
      "text/html": [
       "<style type=\"text/css\">\n",
       "#T_f16e1_row10_col0, #T_f16e1_row10_col1, #T_f16e1_row10_col2, #T_f16e1_row10_col3, #T_f16e1_row10_col4, #T_f16e1_row10_col5, #T_f16e1_row10_col6 {\n",
       "  background: yellow;\n",
       "}\n",
       "</style>\n",
       "<table id=\"T_f16e1\">\n",
       "  <thead>\n",
       "    <tr>\n",
       "      <th class=\"blank level0\" >&nbsp;</th>\n",
       "      <th id=\"T_f16e1_level0_col0\" class=\"col_heading level0 col0\" >Accuracy</th>\n",
       "      <th id=\"T_f16e1_level0_col1\" class=\"col_heading level0 col1\" >AUC</th>\n",
       "      <th id=\"T_f16e1_level0_col2\" class=\"col_heading level0 col2\" >Recall</th>\n",
       "      <th id=\"T_f16e1_level0_col3\" class=\"col_heading level0 col3\" >Prec.</th>\n",
       "      <th id=\"T_f16e1_level0_col4\" class=\"col_heading level0 col4\" >F1</th>\n",
       "      <th id=\"T_f16e1_level0_col5\" class=\"col_heading level0 col5\" >Kappa</th>\n",
       "      <th id=\"T_f16e1_level0_col6\" class=\"col_heading level0 col6\" >MCC</th>\n",
       "    </tr>\n",
       "    <tr>\n",
       "      <th class=\"index_name level0\" >Fold</th>\n",
       "      <th class=\"blank col0\" >&nbsp;</th>\n",
       "      <th class=\"blank col1\" >&nbsp;</th>\n",
       "      <th class=\"blank col2\" >&nbsp;</th>\n",
       "      <th class=\"blank col3\" >&nbsp;</th>\n",
       "      <th class=\"blank col4\" >&nbsp;</th>\n",
       "      <th class=\"blank col5\" >&nbsp;</th>\n",
       "      <th class=\"blank col6\" >&nbsp;</th>\n",
       "    </tr>\n",
       "  </thead>\n",
       "  <tbody>\n",
       "    <tr>\n",
       "      <th id=\"T_f16e1_level0_row0\" class=\"row_heading level0 row0\" >0</th>\n",
       "      <td id=\"T_f16e1_row0_col0\" class=\"data row0 col0\" >0.6624</td>\n",
       "      <td id=\"T_f16e1_row0_col1\" class=\"data row0 col1\" >0.8824</td>\n",
       "      <td id=\"T_f16e1_row0_col2\" class=\"data row0 col2\" >0.6624</td>\n",
       "      <td id=\"T_f16e1_row0_col3\" class=\"data row0 col3\" >0.6640</td>\n",
       "      <td id=\"T_f16e1_row0_col4\" class=\"data row0 col4\" >0.6538</td>\n",
       "      <td id=\"T_f16e1_row0_col5\" class=\"data row0 col5\" >0.5498</td>\n",
       "      <td id=\"T_f16e1_row0_col6\" class=\"data row0 col6\" >0.5551</td>\n",
       "    </tr>\n",
       "    <tr>\n",
       "      <th id=\"T_f16e1_level0_row1\" class=\"row_heading level0 row1\" >1</th>\n",
       "      <td id=\"T_f16e1_row1_col0\" class=\"data row1 col0\" >0.6616</td>\n",
       "      <td id=\"T_f16e1_row1_col1\" class=\"data row1 col1\" >0.8804</td>\n",
       "      <td id=\"T_f16e1_row1_col2\" class=\"data row1 col2\" >0.6616</td>\n",
       "      <td id=\"T_f16e1_row1_col3\" class=\"data row1 col3\" >0.6633</td>\n",
       "      <td id=\"T_f16e1_row1_col4\" class=\"data row1 col4\" >0.6529</td>\n",
       "      <td id=\"T_f16e1_row1_col5\" class=\"data row1 col5\" >0.5488</td>\n",
       "      <td id=\"T_f16e1_row1_col6\" class=\"data row1 col6\" >0.5541</td>\n",
       "    </tr>\n",
       "    <tr>\n",
       "      <th id=\"T_f16e1_level0_row2\" class=\"row_heading level0 row2\" >2</th>\n",
       "      <td id=\"T_f16e1_row2_col0\" class=\"data row2 col0\" >0.6653</td>\n",
       "      <td id=\"T_f16e1_row2_col1\" class=\"data row2 col1\" >0.8815</td>\n",
       "      <td id=\"T_f16e1_row2_col2\" class=\"data row2 col2\" >0.6653</td>\n",
       "      <td id=\"T_f16e1_row2_col3\" class=\"data row2 col3\" >0.6683</td>\n",
       "      <td id=\"T_f16e1_row2_col4\" class=\"data row2 col4\" >0.6558</td>\n",
       "      <td id=\"T_f16e1_row2_col5\" class=\"data row2 col5\" >0.5537</td>\n",
       "      <td id=\"T_f16e1_row2_col6\" class=\"data row2 col6\" >0.5594</td>\n",
       "    </tr>\n",
       "    <tr>\n",
       "      <th id=\"T_f16e1_level0_row3\" class=\"row_heading level0 row3\" >3</th>\n",
       "      <td id=\"T_f16e1_row3_col0\" class=\"data row3 col0\" >0.6703</td>\n",
       "      <td id=\"T_f16e1_row3_col1\" class=\"data row3 col1\" >0.8854</td>\n",
       "      <td id=\"T_f16e1_row3_col2\" class=\"data row3 col2\" >0.6703</td>\n",
       "      <td id=\"T_f16e1_row3_col3\" class=\"data row3 col3\" >0.6719</td>\n",
       "      <td id=\"T_f16e1_row3_col4\" class=\"data row3 col4\" >0.6630</td>\n",
       "      <td id=\"T_f16e1_row3_col5\" class=\"data row3 col5\" >0.5604</td>\n",
       "      <td id=\"T_f16e1_row3_col6\" class=\"data row3 col6\" >0.5649</td>\n",
       "    </tr>\n",
       "    <tr>\n",
       "      <th id=\"T_f16e1_level0_row4\" class=\"row_heading level0 row4\" >4</th>\n",
       "      <td id=\"T_f16e1_row4_col0\" class=\"data row4 col0\" >0.6682</td>\n",
       "      <td id=\"T_f16e1_row4_col1\" class=\"data row4 col1\" >0.8825</td>\n",
       "      <td id=\"T_f16e1_row4_col2\" class=\"data row4 col2\" >0.6682</td>\n",
       "      <td id=\"T_f16e1_row4_col3\" class=\"data row4 col3\" >0.6686</td>\n",
       "      <td id=\"T_f16e1_row4_col4\" class=\"data row4 col4\" >0.6611</td>\n",
       "      <td id=\"T_f16e1_row4_col5\" class=\"data row4 col5\" >0.5576</td>\n",
       "      <td id=\"T_f16e1_row4_col6\" class=\"data row4 col6\" >0.5613</td>\n",
       "    </tr>\n",
       "    <tr>\n",
       "      <th id=\"T_f16e1_level0_row5\" class=\"row_heading level0 row5\" >5</th>\n",
       "      <td id=\"T_f16e1_row5_col0\" class=\"data row5 col0\" >0.6684</td>\n",
       "      <td id=\"T_f16e1_row5_col1\" class=\"data row5 col1\" >0.8797</td>\n",
       "      <td id=\"T_f16e1_row5_col2\" class=\"data row5 col2\" >0.6684</td>\n",
       "      <td id=\"T_f16e1_row5_col3\" class=\"data row5 col3\" >0.6689</td>\n",
       "      <td id=\"T_f16e1_row5_col4\" class=\"data row5 col4\" >0.6593</td>\n",
       "      <td id=\"T_f16e1_row5_col5\" class=\"data row5 col5\" >0.5579</td>\n",
       "      <td id=\"T_f16e1_row5_col6\" class=\"data row5 col6\" >0.5628</td>\n",
       "    </tr>\n",
       "    <tr>\n",
       "      <th id=\"T_f16e1_level0_row6\" class=\"row_heading level0 row6\" >6</th>\n",
       "      <td id=\"T_f16e1_row6_col0\" class=\"data row6 col0\" >0.6755</td>\n",
       "      <td id=\"T_f16e1_row6_col1\" class=\"data row6 col1\" >0.8823</td>\n",
       "      <td id=\"T_f16e1_row6_col2\" class=\"data row6 col2\" >0.6755</td>\n",
       "      <td id=\"T_f16e1_row6_col3\" class=\"data row6 col3\" >0.6812</td>\n",
       "      <td id=\"T_f16e1_row6_col4\" class=\"data row6 col4\" >0.6687</td>\n",
       "      <td id=\"T_f16e1_row6_col5\" class=\"data row6 col5\" >0.5673</td>\n",
       "      <td id=\"T_f16e1_row6_col6\" class=\"data row6 col6\" >0.5727</td>\n",
       "    </tr>\n",
       "    <tr>\n",
       "      <th id=\"T_f16e1_level0_row7\" class=\"row_heading level0 row7\" >7</th>\n",
       "      <td id=\"T_f16e1_row7_col0\" class=\"data row7 col0\" >0.6687</td>\n",
       "      <td id=\"T_f16e1_row7_col1\" class=\"data row7 col1\" >0.8822</td>\n",
       "      <td id=\"T_f16e1_row7_col2\" class=\"data row7 col2\" >0.6687</td>\n",
       "      <td id=\"T_f16e1_row7_col3\" class=\"data row7 col3\" >0.6706</td>\n",
       "      <td id=\"T_f16e1_row7_col4\" class=\"data row7 col4\" >0.6609</td>\n",
       "      <td id=\"T_f16e1_row7_col5\" class=\"data row7 col5\" >0.5582</td>\n",
       "      <td id=\"T_f16e1_row7_col6\" class=\"data row7 col6\" >0.5628</td>\n",
       "    </tr>\n",
       "    <tr>\n",
       "      <th id=\"T_f16e1_level0_row8\" class=\"row_heading level0 row8\" >8</th>\n",
       "      <td id=\"T_f16e1_row8_col0\" class=\"data row8 col0\" >0.6689</td>\n",
       "      <td id=\"T_f16e1_row8_col1\" class=\"data row8 col1\" >0.8821</td>\n",
       "      <td id=\"T_f16e1_row8_col2\" class=\"data row8 col2\" >0.6689</td>\n",
       "      <td id=\"T_f16e1_row8_col3\" class=\"data row8 col3\" >0.6698</td>\n",
       "      <td id=\"T_f16e1_row8_col4\" class=\"data row8 col4\" >0.6600</td>\n",
       "      <td id=\"T_f16e1_row8_col5\" class=\"data row8 col5\" >0.5586</td>\n",
       "      <td id=\"T_f16e1_row8_col6\" class=\"data row8 col6\" >0.5638</td>\n",
       "    </tr>\n",
       "    <tr>\n",
       "      <th id=\"T_f16e1_level0_row9\" class=\"row_heading level0 row9\" >9</th>\n",
       "      <td id=\"T_f16e1_row9_col0\" class=\"data row9 col0\" >0.6708</td>\n",
       "      <td id=\"T_f16e1_row9_col1\" class=\"data row9 col1\" >0.8814</td>\n",
       "      <td id=\"T_f16e1_row9_col2\" class=\"data row9 col2\" >0.6708</td>\n",
       "      <td id=\"T_f16e1_row9_col3\" class=\"data row9 col3\" >0.6692</td>\n",
       "      <td id=\"T_f16e1_row9_col4\" class=\"data row9 col4\" >0.6597</td>\n",
       "      <td id=\"T_f16e1_row9_col5\" class=\"data row9 col5\" >0.5610</td>\n",
       "      <td id=\"T_f16e1_row9_col6\" class=\"data row9 col6\" >0.5667</td>\n",
       "    </tr>\n",
       "    <tr>\n",
       "      <th id=\"T_f16e1_level0_row10\" class=\"row_heading level0 row10\" >Mean</th>\n",
       "      <td id=\"T_f16e1_row10_col0\" class=\"data row10 col0\" >0.6680</td>\n",
       "      <td id=\"T_f16e1_row10_col1\" class=\"data row10 col1\" >0.8820</td>\n",
       "      <td id=\"T_f16e1_row10_col2\" class=\"data row10 col2\" >0.6680</td>\n",
       "      <td id=\"T_f16e1_row10_col3\" class=\"data row10 col3\" >0.6696</td>\n",
       "      <td id=\"T_f16e1_row10_col4\" class=\"data row10 col4\" >0.6595</td>\n",
       "      <td id=\"T_f16e1_row10_col5\" class=\"data row10 col5\" >0.5573</td>\n",
       "      <td id=\"T_f16e1_row10_col6\" class=\"data row10 col6\" >0.5624</td>\n",
       "    </tr>\n",
       "    <tr>\n",
       "      <th id=\"T_f16e1_level0_row11\" class=\"row_heading level0 row11\" >Std</th>\n",
       "      <td id=\"T_f16e1_row11_col0\" class=\"data row11 col0\" >0.0039</td>\n",
       "      <td id=\"T_f16e1_row11_col1\" class=\"data row11 col1\" >0.0014</td>\n",
       "      <td id=\"T_f16e1_row11_col2\" class=\"data row11 col2\" >0.0039</td>\n",
       "      <td id=\"T_f16e1_row11_col3\" class=\"data row11 col3\" >0.0046</td>\n",
       "      <td id=\"T_f16e1_row11_col4\" class=\"data row11 col4\" >0.0044</td>\n",
       "      <td id=\"T_f16e1_row11_col5\" class=\"data row11 col5\" >0.0052</td>\n",
       "      <td id=\"T_f16e1_row11_col6\" class=\"data row11 col6\" >0.0052</td>\n",
       "    </tr>\n",
       "  </tbody>\n",
       "</table>\n"
      ],
      "text/plain": [
       "<pandas.io.formats.style.Styler at 0x2713b5b71c0>"
      ]
     },
     "metadata": {},
     "output_type": "display_data"
    },
    {
     "data": {
      "application/vnd.jupyter.widget-view+json": {
       "model_id": "99dcf73ffe1c4cd19cd41f1629134f7e",
       "version_major": 2,
       "version_minor": 0
      },
      "text/plain": [
       "Processing:   0%|          | 0/7 [00:00<?, ?it/s]"
      ]
     },
     "metadata": {},
     "output_type": "display_data"
    },
    {
     "name": "stderr",
     "output_type": "stream",
     "text": [
      "\u001b[32m[I 2023-05-24 18:41:15,597]\u001b[0m Searching the best hyperparameters using 38060 samples...\u001b[0m\n",
      "\u001b[32m[I 2023-05-24 19:03:46,877]\u001b[0m Finished hyperparemeter search!\u001b[0m\n"
     ]
    }
   ],
   "source": [
    "tune_xgb = tune_model(comp[2],\n",
    "                    search_library='optuna',\n",
    "                    optimize='Recall')"
   ]
  },
  {
   "cell_type": "code",
   "execution_count": 54,
   "metadata": {},
   "outputs": [
    {
     "data": {
      "text/html": [
       "<style type=\"text/css\">\n",
       "</style>\n",
       "<table id=\"T_083d8\">\n",
       "  <thead>\n",
       "    <tr>\n",
       "      <th class=\"blank level0\" >&nbsp;</th>\n",
       "      <th id=\"T_083d8_level0_col0\" class=\"col_heading level0 col0\" >Model</th>\n",
       "      <th id=\"T_083d8_level0_col1\" class=\"col_heading level0 col1\" >Accuracy</th>\n",
       "      <th id=\"T_083d8_level0_col2\" class=\"col_heading level0 col2\" >AUC</th>\n",
       "      <th id=\"T_083d8_level0_col3\" class=\"col_heading level0 col3\" >Recall</th>\n",
       "      <th id=\"T_083d8_level0_col4\" class=\"col_heading level0 col4\" >Prec.</th>\n",
       "      <th id=\"T_083d8_level0_col5\" class=\"col_heading level0 col5\" >F1</th>\n",
       "      <th id=\"T_083d8_level0_col6\" class=\"col_heading level0 col6\" >Kappa</th>\n",
       "      <th id=\"T_083d8_level0_col7\" class=\"col_heading level0 col7\" >MCC</th>\n",
       "    </tr>\n",
       "  </thead>\n",
       "  <tbody>\n",
       "    <tr>\n",
       "      <th id=\"T_083d8_level0_row0\" class=\"row_heading level0 row0\" >0</th>\n",
       "      <td id=\"T_083d8_row0_col0\" class=\"data row0 col0\" >Extreme Gradient Boosting</td>\n",
       "      <td id=\"T_083d8_row0_col1\" class=\"data row0 col1\" >0.6358</td>\n",
       "      <td id=\"T_083d8_row0_col2\" class=\"data row0 col2\" >0.7946</td>\n",
       "      <td id=\"T_083d8_row0_col3\" class=\"data row0 col3\" >0.6358</td>\n",
       "      <td id=\"T_083d8_row0_col4\" class=\"data row0 col4\" >0.6126</td>\n",
       "      <td id=\"T_083d8_row0_col5\" class=\"data row0 col5\" >0.6178</td>\n",
       "      <td id=\"T_083d8_row0_col6\" class=\"data row0 col6\" >0.4037</td>\n",
       "      <td id=\"T_083d8_row0_col7\" class=\"data row0 col7\" >0.4078</td>\n",
       "    </tr>\n",
       "  </tbody>\n",
       "</table>\n"
      ],
      "text/plain": [
       "<pandas.io.formats.style.Styler at 0x2710445cd00>"
      ]
     },
     "metadata": {},
     "output_type": "display_data"
    },
    {
     "name": "stdout",
     "output_type": "stream",
     "text": [
      "              precision    recall  f1-score   support\n",
      "\n",
      "           0       0.80      0.66      0.72      6915\n",
      "           1       0.21      0.37      0.27      1136\n",
      "           2       0.11      0.25      0.15       151\n",
      "           3       0.65      0.67      0.66      5674\n",
      "\n",
      "    accuracy                           0.64     13876\n",
      "   macro avg       0.44      0.49      0.45     13876\n",
      "weighted avg       0.68      0.64      0.65     13876\n",
      "\n"
     ]
    }
   ],
   "source": [
    "pred = predict_model(tune_xgb, data=Test)['prediction_label']\n",
    "print(classification_report(pred, Test['Target']))"
   ]
  },
  {
   "cell_type": "code",
   "execution_count": 10,
   "metadata": {},
   "outputs": [
    {
     "data": {
      "text/html": [
       "<div>\n",
       "<style scoped>\n",
       "    .dataframe tbody tr th:only-of-type {\n",
       "        vertical-align: middle;\n",
       "    }\n",
       "\n",
       "    .dataframe tbody tr th {\n",
       "        vertical-align: top;\n",
       "    }\n",
       "\n",
       "    .dataframe thead th {\n",
       "        text-align: right;\n",
       "    }\n",
       "</style>\n",
       "<table border=\"1\" class=\"dataframe\">\n",
       "  <thead>\n",
       "    <tr style=\"text-align: right;\">\n",
       "      <th></th>\n",
       "      <th></th>\n",
       "      <th></th>\n",
       "    </tr>\n",
       "    <tr>\n",
       "      <th></th>\n",
       "      <th></th>\n",
       "      <th></th>\n",
       "    </tr>\n",
       "  </thead>\n",
       "  <tbody>\n",
       "    <tr>\n",
       "      <th>Initiated</th>\n",
       "      <td>. . . . . . . . . . . . . . . . . .</td>\n",
       "      <td>17:27:52</td>\n",
       "    </tr>\n",
       "    <tr>\n",
       "      <th>Status</th>\n",
       "      <td>. . . . . . . . . . . . . . . . . .</td>\n",
       "      <td>Loading Dependencies</td>\n",
       "    </tr>\n",
       "    <tr>\n",
       "      <th>Estimator</th>\n",
       "      <td>. . . . . . . . . . . . . . . . . .</td>\n",
       "      <td>Compiling Library</td>\n",
       "    </tr>\n",
       "  </tbody>\n",
       "</table>\n",
       "</div>"
      ],
      "text/plain": [
       "                                                                    \n",
       "                                                                    \n",
       "Initiated  . . . . . . . . . . . . . . . . . .              17:27:52\n",
       "Status     . . . . . . . . . . . . . . . . . .  Loading Dependencies\n",
       "Estimator  . . . . . . . . . . . . . . . . . .     Compiling Library"
      ]
     },
     "metadata": {},
     "output_type": "display_data"
    },
    {
     "data": {
      "text/html": [
       "<div>\n",
       "<style scoped>\n",
       "    .dataframe tbody tr th:only-of-type {\n",
       "        vertical-align: middle;\n",
       "    }\n",
       "\n",
       "    .dataframe tbody tr th {\n",
       "        vertical-align: top;\n",
       "    }\n",
       "\n",
       "    .dataframe thead th {\n",
       "        text-align: right;\n",
       "    }\n",
       "</style>\n",
       "<table border=\"1\" class=\"dataframe\">\n",
       "  <thead>\n",
       "    <tr style=\"text-align: right;\">\n",
       "      <th></th>\n",
       "      <th>Model</th>\n",
       "      <th>Accuracy</th>\n",
       "      <th>AUC</th>\n",
       "      <th>Recall</th>\n",
       "      <th>Prec.</th>\n",
       "      <th>F1</th>\n",
       "      <th>Kappa</th>\n",
       "      <th>MCC</th>\n",
       "      <th>TT (Sec)</th>\n",
       "    </tr>\n",
       "  </thead>\n",
       "  <tbody>\n",
       "    <tr>\n",
       "      <th>rf</th>\n",
       "      <td>Random Forest Classifier</td>\n",
       "      <td>0.7403</td>\n",
       "      <td>0.9143</td>\n",
       "      <td>0.7403</td>\n",
       "      <td>0.7450</td>\n",
       "      <td>0.7385</td>\n",
       "      <td>0.6537</td>\n",
       "      <td>0.6563</td>\n",
       "      <td>0.456</td>\n",
       "    </tr>\n",
       "    <tr>\n",
       "      <th>et</th>\n",
       "      <td>Extra Trees Classifier</td>\n",
       "      <td>0.7148</td>\n",
       "      <td>0.9003</td>\n",
       "      <td>0.7148</td>\n",
       "      <td>0.7180</td>\n",
       "      <td>0.7140</td>\n",
       "      <td>0.6198</td>\n",
       "      <td>0.6212</td>\n",
       "      <td>0.728</td>\n",
       "    </tr>\n",
       "    <tr>\n",
       "      <th>xgboost</th>\n",
       "      <td>Extreme Gradient Boosting</td>\n",
       "      <td>0.7096</td>\n",
       "      <td>0.9039</td>\n",
       "      <td>0.7096</td>\n",
       "      <td>0.7130</td>\n",
       "      <td>0.7046</td>\n",
       "      <td>0.6128</td>\n",
       "      <td>0.6165</td>\n",
       "      <td>0.229</td>\n",
       "    </tr>\n",
       "    <tr>\n",
       "      <th>lightgbm</th>\n",
       "      <td>Light Gradient Boosting Machine</td>\n",
       "      <td>0.6926</td>\n",
       "      <td>0.8960</td>\n",
       "      <td>0.6926</td>\n",
       "      <td>0.6961</td>\n",
       "      <td>0.6861</td>\n",
       "      <td>0.5901</td>\n",
       "      <td>0.5946</td>\n",
       "      <td>0.332</td>\n",
       "    </tr>\n",
       "  </tbody>\n",
       "</table>\n",
       "</div>"
      ],
      "text/plain": [
       "                                    Model  Accuracy     AUC  Recall   Prec.  \\\n",
       "rf               Random Forest Classifier    0.7403  0.9143  0.7403  0.7450   \n",
       "et                 Extra Trees Classifier    0.7148  0.9003  0.7148  0.7180   \n",
       "xgboost         Extreme Gradient Boosting    0.7096  0.9039  0.7096  0.7130   \n",
       "lightgbm  Light Gradient Boosting Machine    0.6926  0.8960  0.6926  0.6961   \n",
       "\n",
       "              F1   Kappa     MCC  TT (Sec)  \n",
       "rf        0.7385  0.6537  0.6563     0.456  \n",
       "et        0.7140  0.6198  0.6212     0.728  \n",
       "xgboost   0.7046  0.6128  0.6165     0.229  \n",
       "lightgbm  0.6861  0.5901  0.5946     0.332  "
      ]
     },
     "execution_count": 10,
     "metadata": {},
     "output_type": "execute_result"
    }
   ],
   "source": [
    "# 태그 x, SMOTE X\n",
    "\n",
    "comp = compare_models(include=['lightgbm', 'xgboost', 'rf', 'et'], n_select=4)\n",
    "model_result2 = pull()\n",
    "model_result2"
   ]
  },
  {
   "cell_type": "code",
   "execution_count": 12,
   "metadata": {},
   "outputs": [],
   "source": [
    "model_result2.to_csv('./no_tag-no_smote.csv')"
   ]
  },
  {
   "cell_type": "code",
   "execution_count": 17,
   "metadata": {},
   "outputs": [
    {
     "data": {
      "text/html": [
       "<div>\n",
       "<style scoped>\n",
       "    .dataframe tbody tr th:only-of-type {\n",
       "        vertical-align: middle;\n",
       "    }\n",
       "\n",
       "    .dataframe tbody tr th {\n",
       "        vertical-align: top;\n",
       "    }\n",
       "\n",
       "    .dataframe thead th {\n",
       "        text-align: right;\n",
       "    }\n",
       "</style>\n",
       "<table border=\"1\" class=\"dataframe\">\n",
       "  <thead>\n",
       "    <tr style=\"text-align: right;\">\n",
       "      <th></th>\n",
       "      <th></th>\n",
       "      <th></th>\n",
       "    </tr>\n",
       "    <tr>\n",
       "      <th></th>\n",
       "      <th></th>\n",
       "      <th></th>\n",
       "    </tr>\n",
       "  </thead>\n",
       "  <tbody>\n",
       "    <tr>\n",
       "      <th>Initiated</th>\n",
       "      <td>. . . . . . . . . . . . . . . . . .</td>\n",
       "      <td>17:34:55</td>\n",
       "    </tr>\n",
       "    <tr>\n",
       "      <th>Status</th>\n",
       "      <td>. . . . . . . . . . . . . . . . . .</td>\n",
       "      <td>Loading Dependencies</td>\n",
       "    </tr>\n",
       "    <tr>\n",
       "      <th>Estimator</th>\n",
       "      <td>. . . . . . . . . . . . . . . . . .</td>\n",
       "      <td>Compiling Library</td>\n",
       "    </tr>\n",
       "  </tbody>\n",
       "</table>\n",
       "</div>"
      ],
      "text/plain": [
       "                                                                    \n",
       "                                                                    \n",
       "Initiated  . . . . . . . . . . . . . . . . . .              17:34:55\n",
       "Status     . . . . . . . . . . . . . . . . . .  Loading Dependencies\n",
       "Estimator  . . . . . . . . . . . . . . . . . .     Compiling Library"
      ]
     },
     "metadata": {},
     "output_type": "display_data"
    },
    {
     "data": {
      "text/html": [],
      "text/plain": [
       "<IPython.core.display.HTML object>"
      ]
     },
     "metadata": {},
     "output_type": "display_data"
    },
    {
     "data": {
      "text/html": [
       "<div>\n",
       "<style scoped>\n",
       "    .dataframe tbody tr th:only-of-type {\n",
       "        vertical-align: middle;\n",
       "    }\n",
       "\n",
       "    .dataframe tbody tr th {\n",
       "        vertical-align: top;\n",
       "    }\n",
       "\n",
       "    .dataframe thead th {\n",
       "        text-align: right;\n",
       "    }\n",
       "</style>\n",
       "<table border=\"1\" class=\"dataframe\">\n",
       "  <thead>\n",
       "    <tr style=\"text-align: right;\">\n",
       "      <th></th>\n",
       "      <th>Model</th>\n",
       "      <th>Accuracy</th>\n",
       "      <th>AUC</th>\n",
       "      <th>Recall</th>\n",
       "      <th>Prec.</th>\n",
       "      <th>F1</th>\n",
       "      <th>Kappa</th>\n",
       "      <th>MCC</th>\n",
       "      <th>TT (Sec)</th>\n",
       "    </tr>\n",
       "  </thead>\n",
       "  <tbody>\n",
       "    <tr>\n",
       "      <th>rf</th>\n",
       "      <td>Random Forest Classifier</td>\n",
       "      <td>0.7872</td>\n",
       "      <td>0.9359</td>\n",
       "      <td>0.7872</td>\n",
       "      <td>0.7925</td>\n",
       "      <td>0.7856</td>\n",
       "      <td>0.7163</td>\n",
       "      <td>0.7191</td>\n",
       "      <td>5.979</td>\n",
       "    </tr>\n",
       "    <tr>\n",
       "      <th>et</th>\n",
       "      <td>Extra Trees Classifier</td>\n",
       "      <td>0.7756</td>\n",
       "      <td>0.9268</td>\n",
       "      <td>0.7756</td>\n",
       "      <td>0.7795</td>\n",
       "      <td>0.7746</td>\n",
       "      <td>0.7009</td>\n",
       "      <td>0.7028</td>\n",
       "      <td>9.847</td>\n",
       "    </tr>\n",
       "    <tr>\n",
       "      <th>xgboost</th>\n",
       "      <td>Extreme Gradient Boosting</td>\n",
       "      <td>0.7467</td>\n",
       "      <td>0.9250</td>\n",
       "      <td>0.7467</td>\n",
       "      <td>0.7487</td>\n",
       "      <td>0.7439</td>\n",
       "      <td>0.6623</td>\n",
       "      <td>0.6646</td>\n",
       "      <td>80.736</td>\n",
       "    </tr>\n",
       "    <tr>\n",
       "      <th>lightgbm</th>\n",
       "      <td>Light Gradient Boosting Machine</td>\n",
       "      <td>0.7387</td>\n",
       "      <td>0.9219</td>\n",
       "      <td>0.7387</td>\n",
       "      <td>0.7403</td>\n",
       "      <td>0.7355</td>\n",
       "      <td>0.6516</td>\n",
       "      <td>0.6539</td>\n",
       "      <td>6.215</td>\n",
       "    </tr>\n",
       "  </tbody>\n",
       "</table>\n",
       "</div>"
      ],
      "text/plain": [
       "                                    Model  Accuracy     AUC  Recall   Prec.  \\\n",
       "rf               Random Forest Classifier    0.7872  0.9359  0.7872  0.7925   \n",
       "et                 Extra Trees Classifier    0.7756  0.9268  0.7756  0.7795   \n",
       "xgboost         Extreme Gradient Boosting    0.7467  0.9250  0.7467  0.7487   \n",
       "lightgbm  Light Gradient Boosting Machine    0.7387  0.9219  0.7387  0.7403   \n",
       "\n",
       "              F1   Kappa     MCC  TT (Sec)  \n",
       "rf        0.7856  0.7163  0.7191     5.979  \n",
       "et        0.7746  0.7009  0.7028     9.847  \n",
       "xgboost   0.7439  0.6623  0.6646    80.736  \n",
       "lightgbm  0.7355  0.6516  0.6539     6.215  "
      ]
     },
     "execution_count": 17,
     "metadata": {},
     "output_type": "execute_result"
    }
   ],
   "source": [
    "comp = compare_models(include=['lightgbm', 'xgboost', 'rf', 'et'], n_select=4)\n",
    "model_result3 = pull()\n",
    "model_result3"
   ]
  },
  {
   "cell_type": "code",
   "execution_count": 18,
   "metadata": {},
   "outputs": [],
   "source": [
    "model_result3.to_csv('./yes_tag-yes_smote.csv')"
   ]
  },
  {
   "cell_type": "code",
   "execution_count": 20,
   "metadata": {},
   "outputs": [
    {
     "data": {
      "text/html": [
       "<div>\n",
       "<style scoped>\n",
       "    .dataframe tbody tr th:only-of-type {\n",
       "        vertical-align: middle;\n",
       "    }\n",
       "\n",
       "    .dataframe tbody tr th {\n",
       "        vertical-align: top;\n",
       "    }\n",
       "\n",
       "    .dataframe thead th {\n",
       "        text-align: right;\n",
       "    }\n",
       "</style>\n",
       "<table border=\"1\" class=\"dataframe\">\n",
       "  <thead>\n",
       "    <tr style=\"text-align: right;\">\n",
       "      <th></th>\n",
       "      <th></th>\n",
       "      <th></th>\n",
       "    </tr>\n",
       "    <tr>\n",
       "      <th></th>\n",
       "      <th></th>\n",
       "      <th></th>\n",
       "    </tr>\n",
       "  </thead>\n",
       "  <tbody>\n",
       "    <tr>\n",
       "      <th>Initiated</th>\n",
       "      <td>. . . . . . . . . . . . . . . . . .</td>\n",
       "      <td>17:54:00</td>\n",
       "    </tr>\n",
       "    <tr>\n",
       "      <th>Status</th>\n",
       "      <td>. . . . . . . . . . . . . . . . . .</td>\n",
       "      <td>Loading Dependencies</td>\n",
       "    </tr>\n",
       "    <tr>\n",
       "      <th>Estimator</th>\n",
       "      <td>. . . . . . . . . . . . . . . . . .</td>\n",
       "      <td>Compiling Library</td>\n",
       "    </tr>\n",
       "  </tbody>\n",
       "</table>\n",
       "</div>"
      ],
      "text/plain": [
       "                                                                    \n",
       "                                                                    \n",
       "Initiated  . . . . . . . . . . . . . . . . . .              17:54:00\n",
       "Status     . . . . . . . . . . . . . . . . . .  Loading Dependencies\n",
       "Estimator  . . . . . . . . . . . . . . . . . .     Compiling Library"
      ]
     },
     "metadata": {},
     "output_type": "display_data"
    },
    {
     "data": {
      "text/html": [],
      "text/plain": [
       "<IPython.core.display.HTML object>"
      ]
     },
     "metadata": {},
     "output_type": "display_data"
    },
    {
     "data": {
      "text/html": [
       "<div>\n",
       "<style scoped>\n",
       "    .dataframe tbody tr th:only-of-type {\n",
       "        vertical-align: middle;\n",
       "    }\n",
       "\n",
       "    .dataframe tbody tr th {\n",
       "        vertical-align: top;\n",
       "    }\n",
       "\n",
       "    .dataframe thead th {\n",
       "        text-align: right;\n",
       "    }\n",
       "</style>\n",
       "<table border=\"1\" class=\"dataframe\">\n",
       "  <thead>\n",
       "    <tr style=\"text-align: right;\">\n",
       "      <th></th>\n",
       "      <th>Model</th>\n",
       "      <th>Accuracy</th>\n",
       "      <th>AUC</th>\n",
       "      <th>Recall</th>\n",
       "      <th>Prec.</th>\n",
       "      <th>F1</th>\n",
       "      <th>Kappa</th>\n",
       "      <th>MCC</th>\n",
       "      <th>TT (Sec)</th>\n",
       "    </tr>\n",
       "  </thead>\n",
       "  <tbody>\n",
       "    <tr>\n",
       "      <th>rf</th>\n",
       "      <td>Random Forest Classifier</td>\n",
       "      <td>0.7872</td>\n",
       "      <td>0.9359</td>\n",
       "      <td>0.7872</td>\n",
       "      <td>0.7925</td>\n",
       "      <td>0.7856</td>\n",
       "      <td>0.7163</td>\n",
       "      <td>0.7191</td>\n",
       "      <td>2.149</td>\n",
       "    </tr>\n",
       "    <tr>\n",
       "      <th>et</th>\n",
       "      <td>Extra Trees Classifier</td>\n",
       "      <td>0.7756</td>\n",
       "      <td>0.9268</td>\n",
       "      <td>0.7756</td>\n",
       "      <td>0.7795</td>\n",
       "      <td>0.7746</td>\n",
       "      <td>0.7009</td>\n",
       "      <td>0.7028</td>\n",
       "      <td>2.653</td>\n",
       "    </tr>\n",
       "    <tr>\n",
       "      <th>xgboost</th>\n",
       "      <td>Extreme Gradient Boosting</td>\n",
       "      <td>0.7467</td>\n",
       "      <td>0.9250</td>\n",
       "      <td>0.7467</td>\n",
       "      <td>0.7487</td>\n",
       "      <td>0.7439</td>\n",
       "      <td>0.6623</td>\n",
       "      <td>0.6646</td>\n",
       "      <td>40.860</td>\n",
       "    </tr>\n",
       "    <tr>\n",
       "      <th>lightgbm</th>\n",
       "      <td>Light Gradient Boosting Machine</td>\n",
       "      <td>0.7387</td>\n",
       "      <td>0.9219</td>\n",
       "      <td>0.7387</td>\n",
       "      <td>0.7403</td>\n",
       "      <td>0.7355</td>\n",
       "      <td>0.6516</td>\n",
       "      <td>0.6539</td>\n",
       "      <td>1.865</td>\n",
       "    </tr>\n",
       "  </tbody>\n",
       "</table>\n",
       "</div>"
      ],
      "text/plain": [
       "                                    Model  Accuracy     AUC  Recall   Prec.  \\\n",
       "rf               Random Forest Classifier    0.7872  0.9359  0.7872  0.7925   \n",
       "et                 Extra Trees Classifier    0.7756  0.9268  0.7756  0.7795   \n",
       "xgboost         Extreme Gradient Boosting    0.7467  0.9250  0.7467  0.7487   \n",
       "lightgbm  Light Gradient Boosting Machine    0.7387  0.9219  0.7387  0.7403   \n",
       "\n",
       "              F1   Kappa     MCC  TT (Sec)  \n",
       "rf        0.7856  0.7163  0.7191     2.149  \n",
       "et        0.7746  0.7009  0.7028     2.653  \n",
       "xgboost   0.7439  0.6623  0.6646    40.860  \n",
       "lightgbm  0.7355  0.6516  0.6539     1.865  "
      ]
     },
     "execution_count": 20,
     "metadata": {},
     "output_type": "execute_result"
    }
   ],
   "source": [
    "comp = compare_models(include=['lightgbm', 'xgboost', 'rf', 'et'], n_select=4)\n",
    "model_result4 = pull()\n",
    "model_result4"
   ]
  },
  {
   "cell_type": "code",
   "execution_count": 21,
   "metadata": {},
   "outputs": [],
   "source": [
    "model_result4.to_csv('./yes_tag-no_smote.csv')"
   ]
  },
  {
   "cell_type": "code",
   "execution_count": 22,
   "metadata": {},
   "outputs": [
    {
     "name": "stdout",
     "output_type": "stream",
     "text": [
      "                                    Model  Accuracy     AUC  Recall   Prec.  \\\n",
      "rf               Random Forest Classifier    0.7403  0.9143  0.7403  0.7450   \n",
      "et                 Extra Trees Classifier    0.7148  0.9003  0.7148  0.7180   \n",
      "xgboost         Extreme Gradient Boosting    0.7096  0.9039  0.7096  0.7130   \n",
      "lightgbm  Light Gradient Boosting Machine    0.6926  0.8960  0.6926  0.6961   \n",
      "\n",
      "              F1   Kappa     MCC  TT (Sec)  \n",
      "rf        0.7385  0.6537  0.6563     2.233  \n",
      "et        0.7140  0.6198  0.6212     2.727  \n",
      "xgboost   0.7046  0.6128  0.6165    13.300  \n",
      "lightgbm  0.6861  0.5901  0.5946     1.341  \n",
      "\n",
      "                                    Model  Accuracy     AUC  Recall   Prec.  \\\n",
      "rf               Random Forest Classifier    0.7403  0.9143  0.7403  0.7450   \n",
      "et                 Extra Trees Classifier    0.7148  0.9003  0.7148  0.7180   \n",
      "xgboost         Extreme Gradient Boosting    0.7096  0.9039  0.7096  0.7130   \n",
      "lightgbm  Light Gradient Boosting Machine    0.6926  0.8960  0.6926  0.6961   \n",
      "\n",
      "              F1   Kappa     MCC  TT (Sec)  \n",
      "rf        0.7385  0.6537  0.6563     0.456  \n",
      "et        0.7140  0.6198  0.6212     0.728  \n",
      "xgboost   0.7046  0.6128  0.6165     0.229  \n",
      "lightgbm  0.6861  0.5901  0.5946     0.332  \n",
      "\n",
      "                                    Model  Accuracy     AUC  Recall   Prec.  \\\n",
      "rf               Random Forest Classifier    0.7872  0.9359  0.7872  0.7925   \n",
      "et                 Extra Trees Classifier    0.7756  0.9268  0.7756  0.7795   \n",
      "xgboost         Extreme Gradient Boosting    0.7467  0.9250  0.7467  0.7487   \n",
      "lightgbm  Light Gradient Boosting Machine    0.7387  0.9219  0.7387  0.7403   \n",
      "\n",
      "              F1   Kappa     MCC  TT (Sec)  \n",
      "rf        0.7856  0.7163  0.7191     5.979  \n",
      "et        0.7746  0.7009  0.7028     9.847  \n",
      "xgboost   0.7439  0.6623  0.6646    80.736  \n",
      "lightgbm  0.7355  0.6516  0.6539     6.215  \n",
      "\n",
      "                                    Model  Accuracy     AUC  Recall   Prec.  \\\n",
      "rf               Random Forest Classifier    0.7872  0.9359  0.7872  0.7925   \n",
      "et                 Extra Trees Classifier    0.7756  0.9268  0.7756  0.7795   \n",
      "xgboost         Extreme Gradient Boosting    0.7467  0.9250  0.7467  0.7487   \n",
      "lightgbm  Light Gradient Boosting Machine    0.7387  0.9219  0.7387  0.7403   \n",
      "\n",
      "              F1   Kappa     MCC  TT (Sec)  \n",
      "rf        0.7856  0.7163  0.7191     2.149  \n",
      "et        0.7746  0.7009  0.7028     2.653  \n",
      "xgboost   0.7439  0.6623  0.6646    40.860  \n",
      "lightgbm  0.7355  0.6516  0.6539     1.865  \n"
     ]
    }
   ],
   "source": [
    "print(model_result, model_result2, model_result3, model_result4, sep='\\n\\n')"
   ]
  },
  {
   "cell_type": "code",
   "execution_count": null,
   "metadata": {},
   "outputs": [],
   "source": []
  }
 ],
 "metadata": {
  "kernelspec": {
   "display_name": "base",
   "language": "python",
   "name": "python3"
  },
  "language_info": {
   "codemirror_mode": {
    "name": "ipython",
    "version": 3
   },
   "file_extension": ".py",
   "mimetype": "text/x-python",
   "name": "python",
   "nbconvert_exporter": "python",
   "pygments_lexer": "ipython3",
   "version": "3.8.16"
  },
  "orig_nbformat": 4
 },
 "nbformat": 4,
 "nbformat_minor": 2
}
