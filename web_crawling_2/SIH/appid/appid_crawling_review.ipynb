{
 "cells": [
  {
   "cell_type": "code",
   "execution_count": 9,
   "metadata": {},
   "outputs": [],
   "source": [
    "import requests\n",
    "from bs4 import BeautifulSoup as bs\n"
   ]
  },
  {
   "cell_type": "code",
   "execution_count": 10,
   "metadata": {},
   "outputs": [],
   "source": [
    "\n",
    "cookies = {\n",
    "    'cf_clearance': '8JDxgr2lOVsapK5ivAyPe0JHcrizIpJitQJkxdAi3cM-1684434030-0-160',\n",
    "    '__cf_bm': 'n0k6mtvDMF8s5Gs1ZbflcLrThIDz4sMtFsgf_Swg8wQ-1684434034-0-AYxkxuvMjhTHXZCDQaQED8WpfaD2z8SDjJE6q/oY1JiMFikB6KF7o2qsupGnfx6b5FDXezLuM0Ex6A9tDW3Sv7Tim6ktYi3hsE+h/5yGBzamfJCru7zawy2gUWtLMhGqvvcvvfhN5SG59CijnUbAxIw=',\n",
    "    '__Host-steamdb': '0%3B4995399%3B13e52143eb0e6542839e4793671bf0430e65edb1',\n",
    "}\n",
    "\n",
    "headers = {\n",
    "    'authority': 'steamdb.info',\n",
    "    'accept': 'text/html,application/xhtml+xml,application/xml;q=0.9,image/avif,image/webp,image/apng,*/*;q=0.8,application/signed-exchange;v=b3;q=0.7',\n",
    "    'accept-language': 'ko-KR,ko;q=0.9,en-US;q=0.8,en;q=0.7',\n",
    "    'cache-control': 'max-age=0',\n",
    "    # 'cookie': 'cf_clearance=8JDxgr2lOVsapK5ivAyPe0JHcrizIpJitQJkxdAi3cM-1684434030-0-160; __cf_bm=n0k6mtvDMF8s5Gs1ZbflcLrThIDz4sMtFsgf_Swg8wQ-1684434034-0-AYxkxuvMjhTHXZCDQaQED8WpfaD2z8SDjJE6q/oY1JiMFikB6KF7o2qsupGnfx6b5FDXezLuM0Ex6A9tDW3Sv7Tim6ktYi3hsE+h/5yGBzamfJCru7zawy2gUWtLMhGqvvcvvfhN5SG59CijnUbAxIw=; __Host-steamdb=0%3B4995399%3B13e52143eb0e6542839e4793671bf0430e65edb1',\n",
    "    'referer': 'https://steamdb.info/stats/gameratings/',\n",
    "    'sec-ch-ua': '\"Google Chrome\";v=\"113\", \"Chromium\";v=\"113\", \"Not-A.Brand\";v=\"24\"',\n",
    "    'sec-ch-ua-mobile': '?0',\n",
    "    'sec-ch-ua-platform': '\"Windows\"',\n",
    "    'sec-fetch-dest': 'document',\n",
    "    'sec-fetch-mode': 'navigate',\n",
    "    'sec-fetch-site': 'same-origin',\n",
    "    'sec-fetch-user': '?1',\n",
    "    'upgrade-insecure-requests': '1',\n",
    "    'user-agent': 'Mozilla/5.0 (Windows NT 10.0; Win64; x64) AppleWebKit/537.36 (KHTML, like Gecko) Chrome/113.0.0.0 Safari/537.36',\n",
    "}\n"
   ]
  },
  {
   "cell_type": "code",
   "execution_count": 11,
   "metadata": {},
   "outputs": [],
   "source": [
    "year_list = [2018, 2019, 2020, 2021, 2022]"
   ]
  },
  {
   "cell_type": "code",
   "execution_count": 12,
   "metadata": {},
   "outputs": [],
   "source": [
    "def crawl_data(year):\n",
    "    url = f'https://steamdb.info/stats/gameratings/{year}/?all'\n",
    "    response = requests.get(url, cookies=cookies, headers=headers)\n",
    "    soup = bs(response.text, 'html.parser')\n",
    "    tr_list = soup.select('tr[class=\"app\"]')\n",
    "    appid = [tr['data-appid'] for tr in tr_list]\n",
    "    \n",
    "    print(f'{year} - {len(appid)}')\n",
    "    \n",
    "    with open(f'C:\\\\Users\\\\82103\\\\sih\\\\web_crawling\\\\SIH\\\\appid\\\\appid_{year}.txt', 'w') as f:\n",
    "        for app in appid:\n",
    "            f.write(f'{app}\\n')"
   ]
  },
  {
   "cell_type": "code",
   "execution_count": 13,
   "metadata": {},
   "outputs": [
    {
     "name": "stdout",
     "output_type": "stream",
     "text": [
      "2018 - 7639\n",
      "2019 - 7312\n",
      "2020 - 8985\n",
      "2021 - 10606\n",
      "2022 - 11743\n"
     ]
    }
   ],
   "source": [
    "for year in year_list:\n",
    "    crawl_data(year)"
   ]
  },
  {
   "cell_type": "code",
   "execution_count": null,
   "metadata": {},
   "outputs": [],
   "source": []
  }
 ],
 "metadata": {
  "kernelspec": {
   "display_name": "base",
   "language": "python",
   "name": "python3"
  },
  "language_info": {
   "codemirror_mode": {
    "name": "ipython",
    "version": 3
   },
   "file_extension": ".py",
   "mimetype": "text/x-python",
   "name": "python",
   "nbconvert_exporter": "python",
   "pygments_lexer": "ipython3",
   "version": "3.8.5"
  },
  "orig_nbformat": 4
 },
 "nbformat": 4,
 "nbformat_minor": 2
}
