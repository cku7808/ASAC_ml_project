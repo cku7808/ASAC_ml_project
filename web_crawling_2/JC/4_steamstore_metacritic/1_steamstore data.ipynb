from bs4 import BeautifulSoup
import requests 
from collections import deque
import time 
import numpy as np
import json
import os
from glob import glob 

# appid filepth 새로 지정
file_path = r"C:\Users\alice\OneDrive\바탕화~1-DESKTOP-K2BRIJ8-1984\ASAC_ml_project\ASAC_ml_project\web_crawling\JC\1_appid\appid_2018.txt"
file = open(file_path, "r")

appids=[]
while True:
    line = file.readline()
    if not line:
        break
    appids.append(int(line.strip()))
appids

# api 에서 가져올 정보 목록
## dlc : Downloadable content
Z = ["required_age","is_free","controller_support","dlc","metacritic","platforms","recommendations","achievements","release_date"]

final_data = {}

# api 에서 정보 가져와서 담는 함수
def please(id, idx, res):
    g_info = {}
    try:
        data = res.json()
        if data[str(id)]["success"] == True: # success = True
            keys = data[str(id)]["data"].keys() # keys 값 모으기
            main = data[str(id)]["data"]
            
            for elmnt in Z:
                if elmnt in keys:
                    # recommendations, achievements 수를 딕셔너리 g_info에 넣기
                    if elmnt in ["recommendations", "achievements"]:
                        g_info[elmnt] = main[elmnt]["total"]
                    elif elmnt == "release_date":
                        g_info[elmnt] = main[elmnt]["date"]
                    elif elmnt == "metacritic":
                        g_info[elmnt] = main[elmnt]["score"]
                    elif elmnt == "dlc": # downloadable content
                        g_info[elmnt] = len(main[elmnt])
                    # "required_age","is_free","controller_support","platforms",
                    else: 
                        g_info[elmnt] = main[elmnt]
                # api 에 해당 정보가 없으면 nan 으로 저장
                else: 
                    g_info[elmnt] = np.nan
            # id 에 따른 g_info 확인
            print(idx, id, g_info)
            
        else: # succes != True (success == False)
            for elmnt in Z:
                g_info[elmnt] = np.nan
            print("error", idx, id, g_info)
    # 빈 페이지
    except:
        for elmnt in Z:
            g_info[elmnt] = np.nan
        print("error", idx, id, g_info)
    finally:
        final_data[str(id)] = g_info
    
    for idx, id in enumerate(appids[:2]):
    path = f"https://store.steampowered.com/api/appdetails?appids={id}"
    
    res = requests.get(path)
    if res.status_code == 200: # 정상
        please(id,idx, res)
    else:
        time.sleep(60)
        please(id,idx,res)
    time.sleep(1.5)
print(final_data)
               
save_path = r"C:\Users\alice\OneDrive\바탕화~1-DESKTOP-K2BRIJ8-1984\ASAC_ml_project\ASAC_ml_project\web_crawling\JC\4_steamstore_metacritic\steam_store_data.json"
with open(save_path,'w') as f:
  json.dump(final_data, f, ensure_ascii=False, indent=4)
