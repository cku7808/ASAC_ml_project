{
 "cells": [
  {
   "cell_type": "code",
   "execution_count": 38,
   "metadata": {},
   "outputs": [],
   "source": [
    "from bs4 import BeautifulSoup as bs\n",
    "import requests\n",
    "import os\n",
    "import pandas as pd"
   ]
  },
  {
   "cell_type": "code",
   "execution_count": 39,
   "metadata": {},
   "outputs": [],
   "source": [
    "# 현재 위치에서 상위 폴더로 이동 -> 상대경로 \n",
    "# work folder 기준으로 3개의 상위 폴더로 올라감\n",
    "for i in range(3):\n",
    "    os.chdir(\"../\")\n",
    "# os.getcwd()"
   ]
  },
  {
   "cell_type": "code",
   "execution_count": 40,
   "metadata": {},
   "outputs": [
    {
     "data": {
      "text/plain": [
       "'c:\\\\'"
      ]
     },
     "execution_count": 40,
     "metadata": {},
     "output_type": "execute_result"
    }
   ],
   "source": [
    "os.getcwd()"
   ]
  },
  {
   "cell_type": "code",
   "execution_count": 41,
   "metadata": {},
   "outputs": [
    {
     "name": "stdout",
     "output_type": "stream",
     "text": [
      "전체 데이터 개수 :  250\n"
     ]
    }
   ],
   "source": [
    "# appid.txt -> 리스트 정리\n",
    "f= open(r'C:\\Users\\alice\\OneDrive\\바탕화~1-DESKTOP-K2BRIJ8-1984\\ASAC_ml_project\\ASAC_ml_project\\web_crawling\\JC\\1_appid\\appid_2019.txt')\n",
    "app_id = []\n",
    "\n",
    "while True:\n",
    "    line = f.readline()\n",
    "    if not line:\n",
    "        break\n",
    "    app_id.append(line.strip())\n",
    "    \n",
    "reviews = []\n",
    "print(\"전체 데이터 개수 : \", len(app_id))"
   ]
  },
  {
   "cell_type": "code",
   "execution_count": 42,
   "metadata": {},
   "outputs": [
    {
     "name": "stdout",
     "output_type": "stream",
     "text": [
      "진행횟수 :  0\n",
      "진행횟수 :  100\n",
      "진행횟수 :  200\n"
     ]
    }
   ],
   "source": [
    "# steamstore 에 접속해서 Review 평점과 APP Tag 값을 가져오는 코드\n",
    "for i in range(len(app_id)):\n",
    "    idv_tag = []\n",
    "    path = f\"https://store.steampowered.com/app/{app_id[i]}\"\n",
    "    response = requests.get(path)\n",
    "    soup = bs(response.text, \"html.parser\")\n",
    "    review = \"None\"\n",
    "    if soup.find(\"span\", \"game_review_summary\") != None:\n",
    "        review = soup.find(\"span\", \"game_review_summary\").text\n",
    "    if soup.find_all(\"a\", \"app_tag\") != None:\n",
    "        tag= soup.find_all(\"a\", \"app_tag\")\n",
    "        for j in range(len(tag)):\n",
    "            a = tag[j].text.strip()\n",
    "            idv_tag.append(a)\n",
    "    reviews.append([app_id[i], review, idv_tag])\n",
    "    \n",
    "    if i % 100 == 0:\n",
    "        print(\"진행횟수 : \", i)\n",
    "    df = pd.DataFrame(reviews)\n",
    "    "
   ]
  },
  {
   "cell_type": "code",
   "execution_count": 43,
   "metadata": {},
   "outputs": [],
   "source": [
    "df.columns=[\"App_id\",\"Review\",\"Tag\"]\n",
    "df.to_csv(\"C:\\\\Users\\\\alice\\OneDrive\\\\바탕화~1-DESKTOP-K2BRIJ8-1984\\\\ASAC_ml_project\\\\ASAC_ml_project\\\\web_crawling\\\\JC\\\\3_steamstore\\\\2019_review.csv\",sep=';')"
   ]
  },
  {
   "cell_type": "code",
   "execution_count": 44,
   "metadata": {},
   "outputs": [],
   "source": [
    "# sample : https://store.steampowered.com/app/1794680\n",
    "path = 'https://store.steampowered.com/app/1794680/Vampire_Survivors/'\n",
    "response = requests.get(path)\n",
    "soup = bs(response.text, \"html.parser\")\n",
    "review = \"None\"\n",
    "\n",
    "# <span class=\"game_review_summary positive\">Overwhelmingly Positive</span>\n",
    "\n"
   ]
  }
 ],
 "metadata": {
  "kernelspec": {
   "display_name": "Python 3",
   "language": "python",
   "name": "python3"
  },
  "language_info": {
   "codemirror_mode": {
    "name": "ipython",
    "version": 3
   },
   "file_extension": ".py",
   "mimetype": "text/x-python",
   "name": "python",
   "nbconvert_exporter": "python",
   "pygments_lexer": "ipython3",
   "version": "3.11.2"
  },
  "orig_nbformat": 4
 },
 "nbformat": 4,
 "nbformat_minor": 2
}
