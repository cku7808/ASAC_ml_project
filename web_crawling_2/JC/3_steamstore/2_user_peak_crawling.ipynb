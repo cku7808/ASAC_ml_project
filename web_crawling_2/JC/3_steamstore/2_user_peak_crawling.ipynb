{
 "cells": [
  {
   "cell_type": "code",
   "execution_count": 1,
   "metadata": {},
   "outputs": [],
   "source": [
    "import urllib\n",
    "import json\n",
    "from bs4 import BeautifulSoup \n",
    "import requests\n",
    "import pandas as pd\n",
    "import os\n",
    "from glob import glob"
   ]
  },
  {
   "cell_type": "code",
   "execution_count": 2,
   "metadata": {},
   "outputs": [
    {
     "name": "stdout",
     "output_type": "stream",
     "text": [
      "현재 작업중인 디렉토리 c:\\Users\\NT550009\\Desktop\\ASAC_ml_project\\web_crawling\\JC\\3_steamstore\n"
     ]
    },
    {
     "ename": "FileNotFoundError",
     "evalue": "[WinError 3] 지정된 경로를 찾을 수 없습니다: 'C:\\\\Users\\\\alice\\\\OneDrive\\\\바탕화~1-DESKTOP-K2BRIJ8-1984\\\\ASAC_ml_project\\\\ASAC_ml_project\\\\web_crawling\\\\JC'",
     "output_type": "error",
     "traceback": [
      "\u001b[1;31m---------------------------------------------------------------------------\u001b[0m",
      "\u001b[1;31mFileNotFoundError\u001b[0m                         Traceback (most recent call last)",
      "Cell \u001b[1;32mIn[2], line 6\u001b[0m\n\u001b[0;32m      3\u001b[0m \u001b[39mprint\u001b[39m(\u001b[39m\"\u001b[39m\u001b[39m현재 작업중인 디렉토리\u001b[39m\u001b[39m\"\u001b[39m, cwd)\n\u001b[0;32m      5\u001b[0m \u001b[39m# 파일과 폴더 확인\u001b[39;00m\n\u001b[1;32m----> 6\u001b[0m folder_check \u001b[39m=\u001b[39m os\u001b[39m.\u001b[39;49mlistdir(\u001b[39mr\u001b[39;49m\u001b[39m\"\u001b[39;49m\u001b[39mC:\u001b[39;49m\u001b[39m\\\u001b[39;49m\u001b[39mUsers\u001b[39;49m\u001b[39m\\\u001b[39;49m\u001b[39malice\u001b[39;49m\u001b[39m\\\u001b[39;49m\u001b[39mOneDrive\u001b[39;49m\u001b[39m\\\u001b[39;49m\u001b[39m바탕화~1-DESKTOP-K2BRIJ8-1984\u001b[39;49m\u001b[39m\\\u001b[39;49m\u001b[39mASAC_ml_project\u001b[39;49m\u001b[39m\\\u001b[39;49m\u001b[39mASAC_ml_project\u001b[39;49m\u001b[39m\\\u001b[39;49m\u001b[39mweb_crawling\u001b[39;49m\u001b[39m\\\u001b[39;49m\u001b[39mJC\u001b[39;49m\u001b[39m\"\u001b[39;49m)\n\u001b[0;32m      7\u001b[0m \u001b[39mprint\u001b[39m(\u001b[39m\"\u001b[39m\u001b[39m파일과 폴더 확인:\u001b[39m\u001b[39m\"\u001b[39m, folder_check)\n\u001b[0;32m      9\u001b[0m \u001b[39m# cwd 상위 폴더 확인\u001b[39;00m\n",
      "\u001b[1;31mFileNotFoundError\u001b[0m: [WinError 3] 지정된 경로를 찾을 수 없습니다: 'C:\\\\Users\\\\alice\\\\OneDrive\\\\바탕화~1-DESKTOP-K2BRIJ8-1984\\\\ASAC_ml_project\\\\ASAC_ml_project\\\\web_crawling\\\\JC'"
     ]
    }
   ],
   "source": [
    "# 현재 작업중인 디렉토리 cwd\n",
    "cwd = os.getcwd()\n",
    "print(\"현재 작업중인 디렉토리\", cwd)\n",
    "\n",
    "# 파일과 폴더 확인\n",
    "folder_check = os.listdir(r\"C:\\Users\\alice\\OneDrive\\바탕화~1-DESKTOP-K2BRIJ8-1984\\ASAC_ml_project\\ASAC_ml_project\\web_crawling\\JC\")\n",
    "print(\"파일과 폴더 확인:\", folder_check)\n",
    "\n",
    "# cwd 상위 폴더 확인\n",
    "parent = os.path.dirname(cwd)\n",
    "print(\"상위 폴더 확인 : \", parent)\n"
   ]
  },
  {
   "attachments": {},
   "cell_type": "markdown",
   "metadata": {},
   "source": [
    "# 상대경로를 이용해서 순회하기\n",
    "glob\n",
    "for"
   ]
  },
  {
   "cell_type": "code",
   "execution_count": 12,
   "metadata": {},
   "outputs": [],
   "source": [
    "# 1) 필욱님 코드\n",
    "f = open(r\"C:\\Users\\alice\\OneDrive\\바탕화~1-DESKTOP-K2BRIJ8-1984\\ASAC_ml_project\\ASAC_ml_project\\web_crawling\\JC\\1_appid\\appid_2022.txt\")\n",
    "app_id = []\n",
    "User = []\n",
    "\n",
    "# app_id 모으기 \n",
    "while True:\n",
    "    line = f.readline()\n",
    "    if not line:\n",
    "        break\n",
    "    app_id.append(line.strip())\n"
   ]
  },
  {
   "cell_type": "code",
   "execution_count": 19,
   "metadata": {},
   "outputs": [
    {
     "name": "stdout",
     "output_type": "stream",
     "text": [
      "['1794680', '1332010', '1583720', '1290000', '1593500', '1533420', '1999360', '1687950', '1942280', '1684930', '1817070', '1424330', '1868140', '1985690', '1677770', '1059990', '1167630', '1455840', '1260520', '1586800', '1901370', '1948280', '1969080', '1061910', '2070550', '658920', '1665190', '1284190', '1718570', '799640', '1328840', '1927720', '1293180', '1275670', '2237980', '674140', '1829980', '1574270', '1262350', '1350650', '1171320', '2206340', '1776970', '1599600', '2088570', '2135690', '1740100', '1865780', '1115050', '1239690', '1451940', '1827680', '1732180', '1599020', '1935660', '1035990', '1657630', '1359980', '975370', '1336490', '1269640', '1902490', '1955330', '648800', '1148760', '1062520', '2106520', '615120', '2083040', '1313140', '1535560', '1848450', '799600', '1522870', '1997680', '1717770', '1215390', '2113430', '1574580', '2240530', '1986840', '1488200', '2058180', '1562700', '2085360', '949480', '1903370', '2207540', '2124380', '1888430', '1718870', '1939160', '1515210', '2057080', '1817940', '1629530', '1834870', '1706930', '1401590', '1725640', '1703340', '1205520', '1179080', '1063660', '1817000', '1768640', '1733060', '1730680', '1147550', '659540', '2058190', '1745510', '1888010', '1361510', '1155970', '1777430', '1135230', '1822910', '1942120', '1668510', '1817190', '1786790', '1237320', '2088270', '1487270', '1865060', '1701800', '1588530', '1585220', '1245620', '1328350', '1737100', '1850480', '1379870', '1865440', '1896700', '2171440', '1954750', '1684410', '964800', '1871310', '1949960', '1296540', '1694420', '1712830', '1296770', '1854430', '1910580', '595500', '1850570', '2088250', '1296830', '1874170', '1109570', '1287040', '2066550', '1578650', '1853200', '1881340', '1902710', '2119940', '1975120', '1970460', '2113540', '1923790', '2226870', '1878740', '898890', '1998530', '1545990', '1977530', '1966900', '1967510', '1740930', '1182110', '2056560', '1984350', '1980530', '1604380', '2112520', '1743850', '1785820', '1883260', '1962920', '1621310', '1895300', '1679210', '1834920', '553420', '1846170', '1425760', '1723260', '1919460', '2085800', '1755100', '1051690', '1932570', '1988540', '1210320', '1608290', '2059670', '920210', '980610', '552080', '1985260', '2067920', '1532710', '1249480', '1761390', '1615290', '1944250', '1511780', '1944240', '1150760', '1428100', '1791610', '1954200', '2060130', '1594320', '1684660', '1972710', '1070790', '1972440', '950620', '1621690', '1309000', '1975360', '2062930', '1457220', '1808400', '2165610', '1927740', '1572920', '1338580', '1921900', '2091250', '1720850', '1769170', '1600900', '1135810', '1689910', '1986880', '1850550', '1732750', '1592670', '1766740', '1182900', '2173570', '1570010', '1722520']\n"
     ]
    }
   ],
   "source": [
    "print(app_id)"
   ]
  },
  {
   "cell_type": "code",
   "execution_count": 22,
   "metadata": {},
   "outputs": [
    {
     "name": "stdout",
     "output_type": "stream",
     "text": [
      "몇회 돌았는지 확인:  0\n",
      "24-Hour Peak :  Invalid  / All-time_peak : Invalid\n",
      "몇회 돌았는지 확인:  100\n",
      "24-Hour Peak :  Invalid  / All-time_peak : Invalid\n",
      "몇회 돌았는지 확인:  200\n",
      "24-Hour Peak :  Invalid  / All-time_peak : Invalid\n"
     ]
    }
   ],
   "source": [
    "for i in range(len(app_id)):\n",
    "    \n",
    "    url = \"https://steamcharts.com/app/\"+str(app_id[i])\n",
    "    response = requests.get(url)\n",
    "    soup = BeautifulSoup(response.text, \"html.parser\")\n",
    "    \n",
    "    # 결측치 처리(?)\n",
    "    peak_24 = \"Invalid\"\n",
    "    peak_all = \"Invalid\"\n",
    "    \n",
    "    # peak_24 존재한다면 정보 가져오기\n",
    "    if len(soup.select(\"#app-heading > dif:nth-child(3) > span\")) !=0:\n",
    "        peak_24 = soup.select(\"#app-heading > dif:nth-child(3) > span\")[0].text\n",
    "    # peak_all 존재한다면 정보 가져오기\n",
    "    if len(soup.select(\"#app-heading > dif:nth-child(4) > span\")) != 0:\n",
    "        peak_all = soup.select(\"#app-heading > dif:nth-child(4) > span\")[0].text\n",
    "    User.append([app_id[i], peak_24, peak_all])\n",
    "    # selector : app-heading > div:nth-child(3) > span\n",
    "    if i % 100 == 0:\n",
    "        print(\"몇회 돌았는지 확인: \", i)\n",
    "        print(\"24-Hour Peak : \",peak_24,\" / All-time_peak :\",peak_all)\n",
    "        "
   ]
  },
  {
   "cell_type": "code",
   "execution_count": 23,
   "metadata": {},
   "outputs": [
    {
     "data": {
      "text/plain": [
       "[['1794680', 'Invalid', 'Invalid'],\n",
       " ['1332010', 'Invalid', 'Invalid'],\n",
       " ['1583720', 'Invalid', 'Invalid'],\n",
       " ['1290000', 'Invalid', 'Invalid'],\n",
       " ['1593500', 'Invalid', 'Invalid'],\n",
       " ['1533420', 'Invalid', 'Invalid'],\n",
       " ['1999360', 'Invalid', 'Invalid'],\n",
       " ['1687950', 'Invalid', 'Invalid'],\n",
       " ['1942280', 'Invalid', 'Invalid'],\n",
       " ['1684930', 'Invalid', 'Invalid'],\n",
       " ['1817070', 'Invalid', 'Invalid'],\n",
       " ['1424330', 'Invalid', 'Invalid'],\n",
       " ['1868140', 'Invalid', 'Invalid'],\n",
       " ['1985690', 'Invalid', 'Invalid'],\n",
       " ['1677770', 'Invalid', 'Invalid'],\n",
       " ['1059990', 'Invalid', 'Invalid'],\n",
       " ['1167630', 'Invalid', 'Invalid'],\n",
       " ['1455840', 'Invalid', 'Invalid'],\n",
       " ['1260520', 'Invalid', 'Invalid'],\n",
       " ['1586800', 'Invalid', 'Invalid'],\n",
       " ['1901370', 'Invalid', 'Invalid'],\n",
       " ['1948280', 'Invalid', 'Invalid'],\n",
       " ['1969080', 'Invalid', 'Invalid'],\n",
       " ['1061910', 'Invalid', 'Invalid'],\n",
       " ['2070550', 'Invalid', 'Invalid'],\n",
       " ['658920', 'Invalid', 'Invalid'],\n",
       " ['1665190', 'Invalid', 'Invalid'],\n",
       " ['1284190', 'Invalid', 'Invalid'],\n",
       " ['1718570', 'Invalid', 'Invalid'],\n",
       " ['799640', 'Invalid', 'Invalid'],\n",
       " ['1328840', 'Invalid', 'Invalid'],\n",
       " ['1927720', 'Invalid', 'Invalid'],\n",
       " ['1293180', 'Invalid', 'Invalid'],\n",
       " ['1275670', 'Invalid', 'Invalid'],\n",
       " ['2237980', 'Invalid', 'Invalid'],\n",
       " ['674140', 'Invalid', 'Invalid'],\n",
       " ['1829980', 'Invalid', 'Invalid'],\n",
       " ['1574270', 'Invalid', 'Invalid'],\n",
       " ['1262350', 'Invalid', 'Invalid'],\n",
       " ['1350650', 'Invalid', 'Invalid'],\n",
       " ['1171320', 'Invalid', 'Invalid'],\n",
       " ['2206340', 'Invalid', 'Invalid'],\n",
       " ['1776970', 'Invalid', 'Invalid'],\n",
       " ['1599600', 'Invalid', 'Invalid'],\n",
       " ['2088570', 'Invalid', 'Invalid'],\n",
       " ['2135690', 'Invalid', 'Invalid'],\n",
       " ['1740100', 'Invalid', 'Invalid'],\n",
       " ['1865780', 'Invalid', 'Invalid'],\n",
       " ['1115050', 'Invalid', 'Invalid'],\n",
       " ['1239690', 'Invalid', 'Invalid'],\n",
       " ['1451940', 'Invalid', 'Invalid'],\n",
       " ['1827680', 'Invalid', 'Invalid'],\n",
       " ['1732180', 'Invalid', 'Invalid'],\n",
       " ['1599020', 'Invalid', 'Invalid'],\n",
       " ['1935660', 'Invalid', 'Invalid'],\n",
       " ['1035990', 'Invalid', 'Invalid'],\n",
       " ['1657630', 'Invalid', 'Invalid'],\n",
       " ['1794680', 'Invalid', 'Invalid'],\n",
       " ['1332010', 'Invalid', 'Invalid'],\n",
       " ['1583720', 'Invalid', 'Invalid'],\n",
       " ['1290000', 'Invalid', 'Invalid'],\n",
       " ['1593500', 'Invalid', 'Invalid'],\n",
       " ['1533420', 'Invalid', 'Invalid'],\n",
       " ['1999360', 'Invalid', 'Invalid'],\n",
       " ['1687950', 'Invalid', 'Invalid'],\n",
       " ['1942280', 'Invalid', 'Invalid'],\n",
       " ['1684930', 'Invalid', 'Invalid'],\n",
       " ['1817070', 'Invalid', 'Invalid'],\n",
       " ['1424330', 'Invalid', 'Invalid'],\n",
       " ['1868140', 'Invalid', 'Invalid'],\n",
       " ['1985690', 'Invalid', 'Invalid'],\n",
       " ['1677770', 'Invalid', 'Invalid'],\n",
       " ['1059990', 'Invalid', 'Invalid'],\n",
       " ['1167630', 'Invalid', 'Invalid'],\n",
       " ['1455840', 'Invalid', 'Invalid'],\n",
       " ['1260520', 'Invalid', 'Invalid'],\n",
       " ['1586800', 'Invalid', 'Invalid'],\n",
       " ['1901370', 'Invalid', 'Invalid'],\n",
       " ['1948280', 'Invalid', 'Invalid'],\n",
       " ['1969080', 'Invalid', 'Invalid'],\n",
       " ['1061910', 'Invalid', 'Invalid'],\n",
       " ['2070550', 'Invalid', 'Invalid'],\n",
       " ['658920', 'Invalid', 'Invalid'],\n",
       " ['1665190', 'Invalid', 'Invalid'],\n",
       " ['1284190', 'Invalid', 'Invalid'],\n",
       " ['1718570', 'Invalid', 'Invalid'],\n",
       " ['799640', 'Invalid', 'Invalid'],\n",
       " ['1328840', 'Invalid', 'Invalid'],\n",
       " ['1927720', 'Invalid', 'Invalid'],\n",
       " ['1293180', 'Invalid', 'Invalid'],\n",
       " ['1275670', 'Invalid', 'Invalid'],\n",
       " ['2237980', 'Invalid', 'Invalid'],\n",
       " ['674140', 'Invalid', 'Invalid'],\n",
       " ['1829980', 'Invalid', 'Invalid'],\n",
       " ['1574270', 'Invalid', 'Invalid'],\n",
       " ['1262350', 'Invalid', 'Invalid'],\n",
       " ['1350650', 'Invalid', 'Invalid'],\n",
       " ['1171320', 'Invalid', 'Invalid'],\n",
       " ['2206340', 'Invalid', 'Invalid'],\n",
       " ['1776970', 'Invalid', 'Invalid'],\n",
       " ['1599600', 'Invalid', 'Invalid'],\n",
       " ['2088570', 'Invalid', 'Invalid'],\n",
       " ['2135690', 'Invalid', 'Invalid'],\n",
       " ['1740100', 'Invalid', 'Invalid'],\n",
       " ['1865780', 'Invalid', 'Invalid'],\n",
       " ['1115050', 'Invalid', 'Invalid'],\n",
       " ['1239690', 'Invalid', 'Invalid'],\n",
       " ['1451940', 'Invalid', 'Invalid'],\n",
       " ['1827680', 'Invalid', 'Invalid'],\n",
       " ['1732180', 'Invalid', 'Invalid'],\n",
       " ['1599020', 'Invalid', 'Invalid'],\n",
       " ['1935660', 'Invalid', 'Invalid'],\n",
       " ['1035990', 'Invalid', 'Invalid'],\n",
       " ['1657630', 'Invalid', 'Invalid'],\n",
       " ['1359980', 'Invalid', 'Invalid'],\n",
       " ['975370', 'Invalid', 'Invalid'],\n",
       " ['1336490', 'Invalid', 'Invalid'],\n",
       " ['1269640', 'Invalid', 'Invalid'],\n",
       " ['1902490', 'Invalid', 'Invalid'],\n",
       " ['1955330', 'Invalid', 'Invalid'],\n",
       " ['648800', 'Invalid', 'Invalid'],\n",
       " ['1148760', 'Invalid', 'Invalid'],\n",
       " ['1062520', 'Invalid', 'Invalid'],\n",
       " ['2106520', 'Invalid', 'Invalid'],\n",
       " ['615120', 'Invalid', 'Invalid'],\n",
       " ['2083040', 'Invalid', 'Invalid'],\n",
       " ['1313140', 'Invalid', 'Invalid'],\n",
       " ['1535560', 'Invalid', 'Invalid'],\n",
       " ['1848450', 'Invalid', 'Invalid'],\n",
       " ['799600', 'Invalid', 'Invalid'],\n",
       " ['1522870', 'Invalid', 'Invalid'],\n",
       " ['1997680', 'Invalid', 'Invalid'],\n",
       " ['1717770', 'Invalid', 'Invalid'],\n",
       " ['1215390', 'Invalid', 'Invalid'],\n",
       " ['2113430', 'Invalid', 'Invalid'],\n",
       " ['1574580', 'Invalid', 'Invalid'],\n",
       " ['2240530', 'Invalid', 'Invalid'],\n",
       " ['1986840', 'Invalid', 'Invalid'],\n",
       " ['1488200', 'Invalid', 'Invalid'],\n",
       " ['2058180', 'Invalid', 'Invalid'],\n",
       " ['1562700', 'Invalid', 'Invalid'],\n",
       " ['2085360', 'Invalid', 'Invalid'],\n",
       " ['949480', 'Invalid', 'Invalid'],\n",
       " ['1903370', 'Invalid', 'Invalid'],\n",
       " ['2207540', 'Invalid', 'Invalid'],\n",
       " ['2124380', 'Invalid', 'Invalid'],\n",
       " ['1888430', 'Invalid', 'Invalid'],\n",
       " ['1718870', 'Invalid', 'Invalid'],\n",
       " ['1939160', 'Invalid', 'Invalid'],\n",
       " ['1515210', 'Invalid', 'Invalid'],\n",
       " ['2057080', 'Invalid', 'Invalid'],\n",
       " ['1817940', 'Invalid', 'Invalid'],\n",
       " ['1629530', 'Invalid', 'Invalid'],\n",
       " ['1834870', 'Invalid', 'Invalid'],\n",
       " ['1706930', 'Invalid', 'Invalid'],\n",
       " ['1401590', 'Invalid', 'Invalid'],\n",
       " ['1725640', 'Invalid', 'Invalid'],\n",
       " ['1703340', 'Invalid', 'Invalid'],\n",
       " ['1205520', 'Invalid', 'Invalid'],\n",
       " ['1179080', 'Invalid', 'Invalid'],\n",
       " ['1063660', 'Invalid', 'Invalid'],\n",
       " ['1817000', 'Invalid', 'Invalid'],\n",
       " ['1768640', 'Invalid', 'Invalid'],\n",
       " ['1733060', 'Invalid', 'Invalid'],\n",
       " ['1730680', 'Invalid', 'Invalid'],\n",
       " ['1147550', 'Invalid', 'Invalid'],\n",
       " ['659540', 'Invalid', 'Invalid'],\n",
       " ['2058190', 'Invalid', 'Invalid'],\n",
       " ['1745510', 'Invalid', 'Invalid'],\n",
       " ['1888010', 'Invalid', 'Invalid'],\n",
       " ['1361510', 'Invalid', 'Invalid'],\n",
       " ['1155970', 'Invalid', 'Invalid'],\n",
       " ['1777430', 'Invalid', 'Invalid'],\n",
       " ['1135230', 'Invalid', 'Invalid'],\n",
       " ['1822910', 'Invalid', 'Invalid'],\n",
       " ['1942120', 'Invalid', 'Invalid'],\n",
       " ['1668510', 'Invalid', 'Invalid'],\n",
       " ['1817190', 'Invalid', 'Invalid'],\n",
       " ['1786790', 'Invalid', 'Invalid'],\n",
       " ['1237320', 'Invalid', 'Invalid'],\n",
       " ['2088270', 'Invalid', 'Invalid'],\n",
       " ['1487270', 'Invalid', 'Invalid'],\n",
       " ['1865060', 'Invalid', 'Invalid'],\n",
       " ['1701800', 'Invalid', 'Invalid'],\n",
       " ['1588530', 'Invalid', 'Invalid'],\n",
       " ['1585220', 'Invalid', 'Invalid'],\n",
       " ['1245620', 'Invalid', 'Invalid'],\n",
       " ['1328350', 'Invalid', 'Invalid'],\n",
       " ['1737100', 'Invalid', 'Invalid'],\n",
       " ['1850480', 'Invalid', 'Invalid'],\n",
       " ['1379870', 'Invalid', 'Invalid'],\n",
       " ['1865440', 'Invalid', 'Invalid'],\n",
       " ['1896700', 'Invalid', 'Invalid'],\n",
       " ['2171440', 'Invalid', 'Invalid'],\n",
       " ['1954750', 'Invalid', 'Invalid'],\n",
       " ['1684410', 'Invalid', 'Invalid'],\n",
       " ['964800', 'Invalid', 'Invalid'],\n",
       " ['1871310', 'Invalid', 'Invalid'],\n",
       " ['1949960', 'Invalid', 'Invalid'],\n",
       " ['1296540', 'Invalid', 'Invalid'],\n",
       " ['1694420', 'Invalid', 'Invalid'],\n",
       " ['1712830', 'Invalid', 'Invalid'],\n",
       " ['1296770', 'Invalid', 'Invalid'],\n",
       " ['1854430', 'Invalid', 'Invalid'],\n",
       " ['1910580', 'Invalid', 'Invalid'],\n",
       " ['595500', 'Invalid', 'Invalid'],\n",
       " ['1850570', 'Invalid', 'Invalid'],\n",
       " ['2088250', 'Invalid', 'Invalid'],\n",
       " ['1296830', 'Invalid', 'Invalid'],\n",
       " ['1874170', 'Invalid', 'Invalid'],\n",
       " ['1109570', 'Invalid', 'Invalid'],\n",
       " ['1287040', 'Invalid', 'Invalid'],\n",
       " ['2066550', 'Invalid', 'Invalid'],\n",
       " ['1578650', 'Invalid', 'Invalid'],\n",
       " ['1853200', 'Invalid', 'Invalid'],\n",
       " ['1881340', 'Invalid', 'Invalid'],\n",
       " ['1902710', 'Invalid', 'Invalid'],\n",
       " ['2119940', 'Invalid', 'Invalid'],\n",
       " ['1975120', 'Invalid', 'Invalid'],\n",
       " ['1970460', 'Invalid', 'Invalid'],\n",
       " ['2113540', 'Invalid', 'Invalid'],\n",
       " ['1923790', 'Invalid', 'Invalid'],\n",
       " ['2226870', 'Invalid', 'Invalid'],\n",
       " ['1878740', 'Invalid', 'Invalid'],\n",
       " ['898890', 'Invalid', 'Invalid'],\n",
       " ['1998530', 'Invalid', 'Invalid'],\n",
       " ['1545990', 'Invalid', 'Invalid'],\n",
       " ['1977530', 'Invalid', 'Invalid'],\n",
       " ['1966900', 'Invalid', 'Invalid'],\n",
       " ['1967510', 'Invalid', 'Invalid'],\n",
       " ['1740930', 'Invalid', 'Invalid'],\n",
       " ['1182110', 'Invalid', 'Invalid'],\n",
       " ['2056560', 'Invalid', 'Invalid'],\n",
       " ['1984350', 'Invalid', 'Invalid'],\n",
       " ['1980530', 'Invalid', 'Invalid'],\n",
       " ['1604380', 'Invalid', 'Invalid'],\n",
       " ['2112520', 'Invalid', 'Invalid'],\n",
       " ['1743850', 'Invalid', 'Invalid'],\n",
       " ['1785820', 'Invalid', 'Invalid'],\n",
       " ['1883260', 'Invalid', 'Invalid'],\n",
       " ['1962920', 'Invalid', 'Invalid'],\n",
       " ['1621310', 'Invalid', 'Invalid'],\n",
       " ['1895300', 'Invalid', 'Invalid'],\n",
       " ['1679210', 'Invalid', 'Invalid'],\n",
       " ['1834920', 'Invalid', 'Invalid'],\n",
       " ['553420', 'Invalid', 'Invalid'],\n",
       " ['1846170', 'Invalid', 'Invalid'],\n",
       " ['1425760', 'Invalid', 'Invalid'],\n",
       " ['1723260', 'Invalid', 'Invalid'],\n",
       " ['1919460', 'Invalid', 'Invalid'],\n",
       " ['2085800', 'Invalid', 'Invalid'],\n",
       " ['1755100', 'Invalid', 'Invalid'],\n",
       " ['1051690', 'Invalid', 'Invalid'],\n",
       " ['1932570', 'Invalid', 'Invalid'],\n",
       " ['1988540', 'Invalid', 'Invalid'],\n",
       " ['1210320', 'Invalid', 'Invalid'],\n",
       " ['1608290', 'Invalid', 'Invalid'],\n",
       " ['2059670', 'Invalid', 'Invalid'],\n",
       " ['920210', 'Invalid', 'Invalid'],\n",
       " ['980610', 'Invalid', 'Invalid'],\n",
       " ['552080', 'Invalid', 'Invalid'],\n",
       " ['1985260', 'Invalid', 'Invalid'],\n",
       " ['2067920', 'Invalid', 'Invalid'],\n",
       " ['1532710', 'Invalid', 'Invalid'],\n",
       " ['1249480', 'Invalid', 'Invalid'],\n",
       " ['1761390', 'Invalid', 'Invalid'],\n",
       " ['1615290', 'Invalid', 'Invalid'],\n",
       " ['1944250', 'Invalid', 'Invalid'],\n",
       " ['1511780', 'Invalid', 'Invalid'],\n",
       " ['1944240', 'Invalid', 'Invalid'],\n",
       " ['1150760', 'Invalid', 'Invalid'],\n",
       " ['1428100', 'Invalid', 'Invalid'],\n",
       " ['1791610', 'Invalid', 'Invalid'],\n",
       " ['1954200', 'Invalid', 'Invalid'],\n",
       " ['2060130', 'Invalid', 'Invalid'],\n",
       " ['1594320', 'Invalid', 'Invalid'],\n",
       " ['1684660', 'Invalid', 'Invalid'],\n",
       " ['1972710', 'Invalid', 'Invalid'],\n",
       " ['1070790', 'Invalid', 'Invalid'],\n",
       " ['1972440', 'Invalid', 'Invalid'],\n",
       " ['950620', 'Invalid', 'Invalid'],\n",
       " ['1621690', 'Invalid', 'Invalid'],\n",
       " ['1309000', 'Invalid', 'Invalid'],\n",
       " ['1975360', 'Invalid', 'Invalid'],\n",
       " ['2062930', 'Invalid', 'Invalid'],\n",
       " ['1457220', 'Invalid', 'Invalid'],\n",
       " ['1808400', 'Invalid', 'Invalid'],\n",
       " ['2165610', 'Invalid', 'Invalid'],\n",
       " ['1927740', 'Invalid', 'Invalid'],\n",
       " ['1572920', 'Invalid', 'Invalid'],\n",
       " ['1338580', 'Invalid', 'Invalid'],\n",
       " ['1921900', 'Invalid', 'Invalid'],\n",
       " ['2091250', 'Invalid', 'Invalid'],\n",
       " ['1720850', 'Invalid', 'Invalid'],\n",
       " ['1769170', 'Invalid', 'Invalid'],\n",
       " ['1600900', 'Invalid', 'Invalid'],\n",
       " ['1135810', 'Invalid', 'Invalid'],\n",
       " ['1689910', 'Invalid', 'Invalid'],\n",
       " ['1986880', 'Invalid', 'Invalid'],\n",
       " ['1850550', 'Invalid', 'Invalid'],\n",
       " ['1732750', 'Invalid', 'Invalid'],\n",
       " ['1592670', 'Invalid', 'Invalid'],\n",
       " ['1766740', 'Invalid', 'Invalid'],\n",
       " ['1182900', 'Invalid', 'Invalid'],\n",
       " ['2173570', 'Invalid', 'Invalid'],\n",
       " ['1570010', 'Invalid', 'Invalid'],\n",
       " ['1722520', 'Invalid', 'Invalid']]"
      ]
     },
     "execution_count": 23,
     "metadata": {},
     "output_type": "execute_result"
    }
   ],
   "source": [
    "\n",
    "User #  ['2088360', '3', '15']"
   ]
  },
  {
   "cell_type": "code",
   "execution_count": 24,
   "metadata": {},
   "outputs": [],
   "source": [
    "df = pd.DataFrame(User)"
   ]
  },
  {
   "cell_type": "code",
   "execution_count": 25,
   "metadata": {},
   "outputs": [],
   "source": [
    "df.columns = [\"App_id\", \"24_Hour_Peak\", \"All_time_peak\"]"
   ]
  },
  {
   "cell_type": "code",
   "execution_count": 28,
   "metadata": {},
   "outputs": [],
   "source": [
    "df.to_csv(\"C:\\\\Users\\\\alice\\\\OneDrive\\\\바탕화~1-DESKTOP-K2BRIJ8-1984\\\\ASAC_ml_project\\\\ASAC_ml_project\\\\web_crawling\\\\JC\\\\3_steamstore\\\\2022_user.csv\",sep=';')"
   ]
  },
  {
   "cell_type": "code",
   "execution_count": null,
   "metadata": {},
   "outputs": [
    {
     "data": {
      "text/plain": [
       "[]"
      ]
     },
     "execution_count": 8,
     "metadata": {},
     "output_type": "execute_result"
    }
   ],
   "source": [
    "sample_url = \"https://steamcharts.com/app/1097150\"\n",
    "\n",
    "response = requests.get(sample_url)\n",
    "soup = BeautifulSoup(response.text, \"html.parser\")\n",
    "# print(soup.prettify())\n",
    "soup.select(\"#app-heading > dif:nth-child(3) > span\")"
   ]
  },
  {
   "attachments": {},
   "cell_type": "markdown",
   "metadata": {},
   "source": [
    "# 성현님 코드"
   ]
  },
  {
   "cell_type": "code",
   "execution_count": 8,
   "metadata": {},
   "outputs": [
    {
     "name": "stdout",
     "output_type": "stream",
     "text": [
      "c:\\Users\\NT550009\\Desktop\\ASAC_ml_project\\web_crawling\n"
     ]
    }
   ],
   "source": [
    "parent = os.getcwd().split('web_crawling')[0] + 'web_crawling'\n",
    "print(parent)"
   ]
  },
  {
   "cell_type": "code",
   "execution_count": 16,
   "metadata": {},
   "outputs": [
    {
     "data": {
      "text/plain": [
       "['c:\\\\Users\\\\NT550009\\\\Desktop\\\\ASAC_ml_project\\\\web_crawling\\\\JC\\\\1_appid\\\\appid_2018.txt',\n",
       " 'c:\\\\Users\\\\NT550009\\\\Desktop\\\\ASAC_ml_project\\\\web_crawling\\\\JC\\\\1_appid\\\\appid_2019.txt',\n",
       " 'c:\\\\Users\\\\NT550009\\\\Desktop\\\\ASAC_ml_project\\\\web_crawling\\\\JC\\\\1_appid\\\\appid_2020.txt',\n",
       " 'c:\\\\Users\\\\NT550009\\\\Desktop\\\\ASAC_ml_project\\\\web_crawling\\\\JC\\\\1_appid\\\\appid_2021.txt',\n",
       " 'c:\\\\Users\\\\NT550009\\\\Desktop\\\\ASAC_ml_project\\\\web_crawling\\\\JC\\\\1_appid\\\\appid_2022.txt']"
      ]
     },
     "execution_count": 16,
     "metadata": {},
     "output_type": "execute_result"
    }
   ],
   "source": [
    "glob(f'{parent}\\\\**\\\\1_appid\\\\appid*.txt', recursive=True)"
   ]
  },
  {
   "cell_type": "code",
   "execution_count": 49,
   "metadata": {},
   "outputs": [
    {
     "name": "stdout",
     "output_type": "stream",
     "text": [
      "c:\\Users\\NT550009\\Desktop\\ASAC_ml_project\\web_crawling\\JC\\3_steamstore\n",
      "['1_review.ipynb', '2018_review.csv', '2019_review.csv', '2020_review.csv', '2021_review.csv', '2022_review.csv', '2022_user.csv', '2_user_peak_crawling.ipynb']\n",
      "['1_appid_list.ipynb', '2018_date.csv', '2019_date.csv', '2020_date.csv', '2021_date.csv', '2022_date.csv', 'appid_2018.txt', 'appid_2019.txt', 'appid_2020.txt', 'appid_2021.txt', 'appid_2022.txt']\n",
      "c:\\Users\\NT550009\\Desktop\\ASAC_ml_project\\web_crawling\\JC\n"
     ]
    }
   ],
   "source": [
    "print(os.getcwd())\n",
    "print(os.listdir(os.getcwd()))\n",
    "# 상대경로로 상위 폴더\n",
    "print(os.listdir(f'{os.getcwd()}\\\\..\\\\1_appid'))\n",
    "print(os.path.abspath(os.path.join(os.getcwd(), os.pardir)))"
   ]
  },
  {
   "cell_type": "code",
   "execution_count": null,
   "metadata": {},
   "outputs": [],
   "source": [
    "# 2) 성현님 코드 appid_연도.txt에서 app id 가져오기\n",
    "\n",
    "# 1_appid라는 이름이 포함되있는 txt 파일경로를 리스트로 가져옴(recursive=True로 하고 ** 쓰면 하위폴더까지 전부 검색)\n",
    "appid_dirs = glob(f'{parent}\\\\**\\\\appid_list\\\\*.txt',recursive=True)\n",
    "\n",
    "for appid_dir in appid_dirs:\n",
    "    # appid_dir.txt를 줄 기준으로 읽어 온뒤 \\n(엔터키)를 제거\n",
    "    app_list = [i.replace('\\n', '') for i in open(appid_dir).readlines()]\n",
    "    \n",
    "    for app in app_list:\n",
    "        print(app)"
   ]
  },
  {
   "cell_type": "code",
   "execution_count": null,
   "metadata": {},
   "outputs": [
    {
     "ename": "NameError",
     "evalue": "name 'app_list' is not defined",
     "output_type": "error",
     "traceback": [
      "\u001b[1;31m---------------------------------------------------------------------------\u001b[0m",
      "\u001b[1;31mNameError\u001b[0m                                 Traceback (most recent call last)",
      "Cell \u001b[1;32mIn[35], line 1\u001b[0m\n\u001b[1;32m----> 1\u001b[0m \u001b[39mfor\u001b[39;00m app \u001b[39min\u001b[39;00m app_list:\n\u001b[0;32m      2\u001b[0m     \u001b[39mprint\u001b[39m(app)\n",
      "\u001b[1;31mNameError\u001b[0m: name 'app_list' is not defined"
     ]
    }
   ],
   "source": []
  },
  {
   "cell_type": "code",
   "execution_count": null,
   "metadata": {},
   "outputs": [],
   "source": []
  },
  {
   "cell_type": "code",
   "execution_count": null,
   "metadata": {},
   "outputs": [],
   "source": []
  },
  {
   "cell_type": "code",
   "execution_count": null,
   "metadata": {},
   "outputs": [],
   "source": []
  },
  {
   "cell_type": "code",
   "execution_count": null,
   "metadata": {},
   "outputs": [],
   "source": []
  },
  {
   "cell_type": "code",
   "execution_count": null,
   "metadata": {},
   "outputs": [],
   "source": []
  },
  {
   "cell_type": "code",
   "execution_count": null,
   "metadata": {},
   "outputs": [],
   "source": []
  }
 ],
 "metadata": {
  "kernelspec": {
   "display_name": "Python 3",
   "language": "python",
   "name": "python3"
  },
  "language_info": {
   "codemirror_mode": {
    "name": "ipython",
    "version": 3
   },
   "file_extension": ".py",
   "mimetype": "text/x-python",
   "name": "python",
   "nbconvert_exporter": "python",
   "pygments_lexer": "ipython3",
   "version": "3.10.9"
  },
  "orig_nbformat": 4
 },
 "nbformat": 4,
 "nbformat_minor": 2
}
